{
 "cells": [
  {
   "cell_type": "code",
   "execution_count": 198,
   "id": "7a3fa4cb",
   "metadata": {},
   "outputs": [
    {
     "data": {
      "text/plain": [
       "'layout = dict(title=\"S&P 500\",xaxis=go.layout.XAxis( rangeslider=dict (visible = False)),yaxis=go.layout.YAxis(title=go.layout.yaxis.Title( text=\"Price $ - US Dollars\")),width=1000,height=800)\\n\\n# set the data from our data frame\\ndata=[go.Candlestick(x=df.index,open=df[\\'Otwarcie\\'],high=df[\\'Najwyzszy\\'],low=df[\\'Najnizszy\\'],close=df[\\'Zamkniecie\\'])]\\n\\n# display the Candlestic chart with the optional layout\\nfigSignal = go.Figure(data=data,layout=layout)\\ndf[\\'SMA-100\\'].plot()\\nfigSignal.show()'"
      ]
     },
     "execution_count": 198,
     "metadata": {},
     "output_type": "execute_result"
    }
   ],
   "source": [
    "'''layout = dict(title=\"S&P 500\",xaxis=go.layout.XAxis( rangeslider=dict (visible = False)),yaxis=go.layout.YAxis(title=go.layout.yaxis.Title( text=\"Price $ - US Dollars\")),width=1000,height=800)\n",
    "\n",
    "# set the data from our data frame\n",
    "data=[go.Candlestick(x=df.index,open=df['Otwarcie'],high=df['Najwyzszy'],low=df['Najnizszy'],close=df['Zamkniecie'])]\n",
    "\n",
    "# display the Candlestic chart with the optional layout\n",
    "figSignal = go.Figure(data=data,layout=layout)\n",
    "df['SMA-100'].plot()\n",
    "figSignal.show()'''"
   ]
  },
  {
   "cell_type": "code",
   "execution_count": 1,
   "id": "a04a4309",
   "metadata": {},
   "outputs": [
    {
     "name": "stderr",
     "output_type": "stream",
     "text": [
      "C:\\ProgramData\\Anaconda3\\lib\\site-packages\\mpl_finance.py:16: DeprecationWarning: \n",
      "\n",
      "  =================================================================\n",
      "\n",
      "   WARNING: `mpl_finance` is deprecated:\n",
      "\n",
      "    Please use `mplfinance` instead (no hyphen, no underscore).\n",
      "\n",
      "    To install: `pip install --upgrade mplfinance` \n",
      "\n",
      "   For more information, see: https://pypi.org/project/mplfinance/\n",
      "\n",
      "  =================================================================\n",
      "\n",
      "  __warnings.warn('\\n\\n  ================================================================='+\n"
     ]
    }
   ],
   "source": [
    "import pandas as pd\n",
    "import numpy as np\n",
    "import matplotlib.pyplot as plt\n",
    "%matplotlib inline\n",
    "\n",
    "from mpl_finance import candlestick_ohlc\n",
    "\n",
    "import matplotlib.dates as mdates\n",
    "import datetime as dt\n",
    "from datetime import date, timedelta\n",
    "from datetime import timedelta, datetime\n",
    "\n",
    "from scipy.stats import linregress\n",
    "\n",
    "import warnings\n",
    "warnings.filterwarnings(\"ignore\")"
   ]
  },
  {
   "cell_type": "code",
   "execution_count": 2,
   "id": "c3c39711",
   "metadata": {},
   "outputs": [],
   "source": [
    "df = pd.read_csv('./Projekt2021/spx500.csv', sep=',', parse_dates=True, index_col='Data')"
   ]
  },
  {
   "cell_type": "code",
   "execution_count": 3,
   "id": "1dbfd782",
   "metadata": {},
   "outputs": [],
   "source": [
    "df = df.loc['1989-12-31':]"
   ]
  },
  {
   "cell_type": "code",
   "execution_count": 4,
   "id": "f23ce9c9",
   "metadata": {},
   "outputs": [
    {
     "data": {
      "text/html": [
       "<div>\n",
       "<style scoped>\n",
       "    .dataframe tbody tr th:only-of-type {\n",
       "        vertical-align: middle;\n",
       "    }\n",
       "\n",
       "    .dataframe tbody tr th {\n",
       "        vertical-align: top;\n",
       "    }\n",
       "\n",
       "    .dataframe thead th {\n",
       "        text-align: right;\n",
       "    }\n",
       "</style>\n",
       "<table border=\"1\" class=\"dataframe\">\n",
       "  <thead>\n",
       "    <tr style=\"text-align: right;\">\n",
       "      <th></th>\n",
       "      <th>Otwarcie</th>\n",
       "      <th>Najwyzszy</th>\n",
       "      <th>Najnizszy</th>\n",
       "      <th>Zamkniecie</th>\n",
       "      <th>Wolumen</th>\n",
       "    </tr>\n",
       "    <tr>\n",
       "      <th>Data</th>\n",
       "      <th></th>\n",
       "      <th></th>\n",
       "      <th></th>\n",
       "      <th></th>\n",
       "      <th></th>\n",
       "    </tr>\n",
       "  </thead>\n",
       "  <tbody>\n",
       "    <tr>\n",
       "      <th>1990-01-02</th>\n",
       "      <td>353.40</td>\n",
       "      <td>359.69</td>\n",
       "      <td>351.98</td>\n",
       "      <td>359.69</td>\n",
       "      <td>90038889.0</td>\n",
       "    </tr>\n",
       "    <tr>\n",
       "      <th>1990-01-03</th>\n",
       "      <td>359.69</td>\n",
       "      <td>360.59</td>\n",
       "      <td>357.89</td>\n",
       "      <td>358.76</td>\n",
       "      <td>106850000.0</td>\n",
       "    </tr>\n",
       "    <tr>\n",
       "      <th>1990-01-04</th>\n",
       "      <td>358.76</td>\n",
       "      <td>358.76</td>\n",
       "      <td>352.89</td>\n",
       "      <td>355.67</td>\n",
       "      <td>98333333.0</td>\n",
       "    </tr>\n",
       "    <tr>\n",
       "      <th>1990-01-05</th>\n",
       "      <td>355.67</td>\n",
       "      <td>355.67</td>\n",
       "      <td>351.35</td>\n",
       "      <td>352.20</td>\n",
       "      <td>88072222.0</td>\n",
       "    </tr>\n",
       "    <tr>\n",
       "      <th>1990-01-08</th>\n",
       "      <td>352.20</td>\n",
       "      <td>354.24</td>\n",
       "      <td>350.54</td>\n",
       "      <td>353.79</td>\n",
       "      <td>77838889.0</td>\n",
       "    </tr>\n",
       "  </tbody>\n",
       "</table>\n",
       "</div>"
      ],
      "text/plain": [
       "            Otwarcie  Najwyzszy  Najnizszy  Zamkniecie      Wolumen\n",
       "Data                                                               \n",
       "1990-01-02    353.40     359.69     351.98      359.69   90038889.0\n",
       "1990-01-03    359.69     360.59     357.89      358.76  106850000.0\n",
       "1990-01-04    358.76     358.76     352.89      355.67   98333333.0\n",
       "1990-01-05    355.67     355.67     351.35      352.20   88072222.0\n",
       "1990-01-08    352.20     354.24     350.54      353.79   77838889.0"
      ]
     },
     "execution_count": 4,
     "metadata": {},
     "output_type": "execute_result"
    }
   ],
   "source": [
    "df.head()"
   ]
  },
  {
   "cell_type": "markdown",
   "id": "747fe8e9",
   "metadata": {},
   "source": [
    "dokładamy do danych średnie kroczące cen zamknięcia. Wykorzystamy 2 średnie kroczące:\n",
    "\n",
    "- SMA-50 - prosta średnia krocząca 50 tygodni (bez weekendów) - 5 dni x 50 tyg = 250\n",
    "- EWM-200 - ważona średnia krocząca 200 tygodni\n",
    "\n",
    "Założenia:\n",
    "\n",
    "Ważona średnia sprawdzi się dobrze w długim terminie, bo doda większe wagi dla nowszych daych\n",
    "\n",
    "W przypadku średniej 50 tyg lepiej sprawdzi się średnia prosta, bo daje pewniejsze sygnały"
   ]
  },
  {
   "cell_type": "code",
   "execution_count": 5,
   "id": "c01bf15a",
   "metadata": {},
   "outputs": [],
   "source": [
    "df['SMA-50'] = df['Zamkniecie'].rolling(window=250).mean()\n",
    "df['EWM-200'] = df['Zamkniecie'].ewm(span=1000).mean()"
   ]
  },
  {
   "cell_type": "code",
   "execution_count": 6,
   "id": "bd326c9b",
   "metadata": {},
   "outputs": [
    {
     "data": {
      "text/html": [
       "<div>\n",
       "<style scoped>\n",
       "    .dataframe tbody tr th:only-of-type {\n",
       "        vertical-align: middle;\n",
       "    }\n",
       "\n",
       "    .dataframe tbody tr th {\n",
       "        vertical-align: top;\n",
       "    }\n",
       "\n",
       "    .dataframe thead th {\n",
       "        text-align: right;\n",
       "    }\n",
       "</style>\n",
       "<table border=\"1\" class=\"dataframe\">\n",
       "  <thead>\n",
       "    <tr style=\"text-align: right;\">\n",
       "      <th></th>\n",
       "      <th>Otwarcie</th>\n",
       "      <th>Najwyzszy</th>\n",
       "      <th>Najnizszy</th>\n",
       "      <th>Zamkniecie</th>\n",
       "      <th>Wolumen</th>\n",
       "      <th>SMA-50</th>\n",
       "      <th>EWM-200</th>\n",
       "    </tr>\n",
       "    <tr>\n",
       "      <th>Data</th>\n",
       "      <th></th>\n",
       "      <th></th>\n",
       "      <th></th>\n",
       "      <th></th>\n",
       "      <th></th>\n",
       "      <th></th>\n",
       "      <th></th>\n",
       "    </tr>\n",
       "  </thead>\n",
       "  <tbody>\n",
       "    <tr>\n",
       "      <th>1990-01-02</th>\n",
       "      <td>353.40</td>\n",
       "      <td>359.69</td>\n",
       "      <td>351.98</td>\n",
       "      <td>359.69</td>\n",
       "      <td>9.003889e+07</td>\n",
       "      <td>NaN</td>\n",
       "      <td>359.690000</td>\n",
       "    </tr>\n",
       "    <tr>\n",
       "      <th>1990-01-03</th>\n",
       "      <td>359.69</td>\n",
       "      <td>360.59</td>\n",
       "      <td>357.89</td>\n",
       "      <td>358.76</td>\n",
       "      <td>1.068500e+08</td>\n",
       "      <td>NaN</td>\n",
       "      <td>359.224535</td>\n",
       "    </tr>\n",
       "    <tr>\n",
       "      <th>1990-01-04</th>\n",
       "      <td>358.76</td>\n",
       "      <td>358.76</td>\n",
       "      <td>352.89</td>\n",
       "      <td>355.67</td>\n",
       "      <td>9.833333e+07</td>\n",
       "      <td>NaN</td>\n",
       "      <td>358.037320</td>\n",
       "    </tr>\n",
       "    <tr>\n",
       "      <th>1990-01-05</th>\n",
       "      <td>355.67</td>\n",
       "      <td>355.67</td>\n",
       "      <td>351.35</td>\n",
       "      <td>352.20</td>\n",
       "      <td>8.807222e+07</td>\n",
       "      <td>NaN</td>\n",
       "      <td>356.573609</td>\n",
       "    </tr>\n",
       "    <tr>\n",
       "      <th>1990-01-08</th>\n",
       "      <td>352.20</td>\n",
       "      <td>354.24</td>\n",
       "      <td>350.54</td>\n",
       "      <td>353.79</td>\n",
       "      <td>7.783889e+07</td>\n",
       "      <td>NaN</td>\n",
       "      <td>356.014658</td>\n",
       "    </tr>\n",
       "    <tr>\n",
       "      <th>...</th>\n",
       "      <td>...</td>\n",
       "      <td>...</td>\n",
       "      <td>...</td>\n",
       "      <td>...</td>\n",
       "      <td>...</td>\n",
       "      <td>...</td>\n",
       "      <td>...</td>\n",
       "    </tr>\n",
       "    <tr>\n",
       "      <th>2021-06-01</th>\n",
       "      <td>4216.52</td>\n",
       "      <td>4234.12</td>\n",
       "      <td>4197.59</td>\n",
       "      <td>4202.04</td>\n",
       "      <td>2.096973e+09</td>\n",
       "      <td>3637.32980</td>\n",
       "      <td>3067.505101</td>\n",
       "    </tr>\n",
       "    <tr>\n",
       "      <th>2021-06-02</th>\n",
       "      <td>4206.82</td>\n",
       "      <td>4217.37</td>\n",
       "      <td>4198.27</td>\n",
       "      <td>4208.12</td>\n",
       "      <td>2.028837e+09</td>\n",
       "      <td>3641.71288</td>\n",
       "      <td>3069.784053</td>\n",
       "    </tr>\n",
       "    <tr>\n",
       "      <th>2021-06-03</th>\n",
       "      <td>4191.43</td>\n",
       "      <td>4204.39</td>\n",
       "      <td>4167.93</td>\n",
       "      <td>4192.85</td>\n",
       "      <td>2.194432e+09</td>\n",
       "      <td>3645.70856</td>\n",
       "      <td>3072.027941</td>\n",
       "    </tr>\n",
       "    <tr>\n",
       "      <th>2021-06-04</th>\n",
       "      <td>4206.05</td>\n",
       "      <td>4233.45</td>\n",
       "      <td>4206.05</td>\n",
       "      <td>4229.89</td>\n",
       "      <td>1.872716e+09</td>\n",
       "      <td>3649.69856</td>\n",
       "      <td>3074.341352</td>\n",
       "    </tr>\n",
       "    <tr>\n",
       "      <th>2021-06-07</th>\n",
       "      <td>4229.34</td>\n",
       "      <td>4232.34</td>\n",
       "      <td>4215.66</td>\n",
       "      <td>4226.52</td>\n",
       "      <td>1.743421e+09</td>\n",
       "      <td>3653.77592</td>\n",
       "      <td>3076.643407</td>\n",
       "    </tr>\n",
       "  </tbody>\n",
       "</table>\n",
       "<p>7919 rows × 7 columns</p>\n",
       "</div>"
      ],
      "text/plain": [
       "            Otwarcie  Najwyzszy  Najnizszy  Zamkniecie       Wolumen  \\\n",
       "Data                                                                   \n",
       "1990-01-02    353.40     359.69     351.98      359.69  9.003889e+07   \n",
       "1990-01-03    359.69     360.59     357.89      358.76  1.068500e+08   \n",
       "1990-01-04    358.76     358.76     352.89      355.67  9.833333e+07   \n",
       "1990-01-05    355.67     355.67     351.35      352.20  8.807222e+07   \n",
       "1990-01-08    352.20     354.24     350.54      353.79  7.783889e+07   \n",
       "...              ...        ...        ...         ...           ...   \n",
       "2021-06-01   4216.52    4234.12    4197.59     4202.04  2.096973e+09   \n",
       "2021-06-02   4206.82    4217.37    4198.27     4208.12  2.028837e+09   \n",
       "2021-06-03   4191.43    4204.39    4167.93     4192.85  2.194432e+09   \n",
       "2021-06-04   4206.05    4233.45    4206.05     4229.89  1.872716e+09   \n",
       "2021-06-07   4229.34    4232.34    4215.66     4226.52  1.743421e+09   \n",
       "\n",
       "                SMA-50      EWM-200  \n",
       "Data                                 \n",
       "1990-01-02         NaN   359.690000  \n",
       "1990-01-03         NaN   359.224535  \n",
       "1990-01-04         NaN   358.037320  \n",
       "1990-01-05         NaN   356.573609  \n",
       "1990-01-08         NaN   356.014658  \n",
       "...                ...          ...  \n",
       "2021-06-01  3637.32980  3067.505101  \n",
       "2021-06-02  3641.71288  3069.784053  \n",
       "2021-06-03  3645.70856  3072.027941  \n",
       "2021-06-04  3649.69856  3074.341352  \n",
       "2021-06-07  3653.77592  3076.643407  \n",
       "\n",
       "[7919 rows x 7 columns]"
      ]
     },
     "execution_count": 6,
     "metadata": {},
     "output_type": "execute_result"
    }
   ],
   "source": [
    "df"
   ]
  },
  {
   "cell_type": "code",
   "execution_count": 9,
   "id": "cc70c13a",
   "metadata": {},
   "outputs": [],
   "source": [
    "df.reset_index(inplace=True)"
   ]
  },
  {
   "cell_type": "code",
   "execution_count": 10,
   "id": "65a6932e",
   "metadata": {},
   "outputs": [],
   "source": [
    "df['Data']=df['Data'].map(mdates.date2num)"
   ]
  },
  {
   "cell_type": "code",
   "execution_count": 11,
   "id": "5aeb82ac",
   "metadata": {},
   "outputs": [
    {
     "data": {
      "image/png": "[encoded data removed]",
      "text/plain": [
       "<Figure size 1440x576 with 1 Axes>"
      ]
     },
     "metadata": {
      "needs_background": "light"
     },
     "output_type": "display_data"
    }
   ],
   "source": [
    "fig = plt.figure(figsize=(20,8))\n",
    "ax1 = fig.add_subplot(111)\n",
    "ax2 = fig.add_subplot(111)\n",
    "ax3 = fig.add_subplot(111)\n",
    "ax1.xaxis_date()\n",
    "ax1.xaxis.set_major_formatter(mdates.DateFormatter('%d-%m-%Y'))\n",
    "ax2.plot(df.Data, df['SMA-50'], label='SMA-50')\n",
    "ax3.plot(df.Data, df['EWM-200'], label='EWM-200')\n",
    "plt.ylabel(\"Price\")\n",
    "plt.title('SPX500')\n",
    "ax1.grid(True)\n",
    "plt.legend(loc='best')\n",
    "plt.xticks(rotation=45)\n",
    "candlestick_ohlc(ax1, df.values, width=0.6, colorup='g', colordown='r')\n",
    "plt.show()"
   ]
  },
  {
   "cell_type": "markdown",
   "id": "f5ab8f61",
   "metadata": {},
   "source": [
    "# Trend długoterminowy\n",
    "\n",
    "2 lata"
   ]
  },
  {
   "cell_type": "code",
   "execution_count": 44,
   "id": "cf1db0b3",
   "metadata": {},
   "outputs": [
    {
     "data": {
      "text/html": [
       "<div>\n",
       "<style scoped>\n",
       "    .dataframe tbody tr th:only-of-type {\n",
       "        vertical-align: middle;\n",
       "    }\n",
       "\n",
       "    .dataframe tbody tr th {\n",
       "        vertical-align: top;\n",
       "    }\n",
       "\n",
       "    .dataframe thead th {\n",
       "        text-align: right;\n",
       "    }\n",
       "</style>\n",
       "<table border=\"1\" class=\"dataframe\">\n",
       "  <thead>\n",
       "    <tr style=\"text-align: right;\">\n",
       "      <th></th>\n",
       "      <th>Otwarcie</th>\n",
       "      <th>Najwyzszy</th>\n",
       "      <th>Najnizszy</th>\n",
       "      <th>Zamkniecie</th>\n",
       "      <th>Wolumen</th>\n",
       "    </tr>\n",
       "    <tr>\n",
       "      <th>Data</th>\n",
       "      <th></th>\n",
       "      <th></th>\n",
       "      <th></th>\n",
       "      <th></th>\n",
       "      <th></th>\n",
       "    </tr>\n",
       "  </thead>\n",
       "  <tbody>\n",
       "    <tr>\n",
       "      <th>1789-05-01</th>\n",
       "      <td>0.51</td>\n",
       "      <td>0.51</td>\n",
       "      <td>0.51</td>\n",
       "      <td>0.51</td>\n",
       "      <td>NaN</td>\n",
       "    </tr>\n",
       "    <tr>\n",
       "      <th>1789-06-01</th>\n",
       "      <td>0.51</td>\n",
       "      <td>0.51</td>\n",
       "      <td>0.51</td>\n",
       "      <td>0.51</td>\n",
       "      <td>NaN</td>\n",
       "    </tr>\n",
       "    <tr>\n",
       "      <th>1789-07-01</th>\n",
       "      <td>0.50</td>\n",
       "      <td>0.50</td>\n",
       "      <td>0.50</td>\n",
       "      <td>0.50</td>\n",
       "      <td>NaN</td>\n",
       "    </tr>\n",
       "    <tr>\n",
       "      <th>1789-08-01</th>\n",
       "      <td>0.50</td>\n",
       "      <td>0.51</td>\n",
       "      <td>0.50</td>\n",
       "      <td>0.51</td>\n",
       "      <td>NaN</td>\n",
       "    </tr>\n",
       "    <tr>\n",
       "      <th>1789-09-01</th>\n",
       "      <td>0.51</td>\n",
       "      <td>0.51</td>\n",
       "      <td>0.50</td>\n",
       "      <td>0.51</td>\n",
       "      <td>NaN</td>\n",
       "    </tr>\n",
       "  </tbody>\n",
       "</table>\n",
       "</div>"
      ],
      "text/plain": [
       "            Otwarcie  Najwyzszy  Najnizszy  Zamkniecie  Wolumen\n",
       "Data                                                           \n",
       "1789-05-01      0.51       0.51       0.51        0.51      NaN\n",
       "1789-06-01      0.51       0.51       0.51        0.51      NaN\n",
       "1789-07-01      0.50       0.50       0.50        0.50      NaN\n",
       "1789-08-01      0.50       0.51       0.50        0.51      NaN\n",
       "1789-09-01      0.51       0.51       0.50        0.51      NaN"
      ]
     },
     "execution_count": 44,
     "metadata": {},
     "output_type": "execute_result"
    }
   ],
   "source": [
    "df1 = pd.read_csv('./Projekt2021/spx500.csv', sep=',', parse_dates=True, index_col='Data')\n",
    "\n",
    "df1.head()"
   ]
  },
  {
   "cell_type": "code",
   "execution_count": 45,
   "id": "b2d69e5a",
   "metadata": {},
   "outputs": [],
   "source": [
    "# Zmniejszamy zakres danych dla rocznego interwału\n",
    "d = (datetime.today() - timedelta(days=365*2)).strftime('%Y-%d-%m')\n",
    "df1 = df1.loc[d:]"
   ]
  },
  {
   "cell_type": "code",
   "execution_count": 46,
   "id": "8ef2aa3d",
   "metadata": {},
   "outputs": [
    {
     "name": "stdout",
     "output_type": "stream",
     "text": [
      "Najniższy punkt został osiągnięty jako pierwszy. Jego pozycja to: 72\n"
     ]
    }
   ],
   "source": [
    "# Sprawdzamy czy pierwsze wystąpiło max_v czy min_v\n",
    "# Jeśli 1 jest min_v - trend wzrostowy\n",
    "# Jeśli 1 jest max_v - trend spatkowy\n",
    "Min_pozycja = df1['Najnizszy'].argmin()\n",
    "Max_pozycja = df1['Najwyzszy'].argmax()\n",
    "if Min_pozycja > Max_pozycja:\n",
    "    print(f'Najwyższy punkt został osiągnięty jako pierwszy. Jego pozycja to: {Max_pozycja}')\n",
    "else:\n",
    "    print(f'Najniższy punkt został osiągnięty jako pierwszy. Jego pozycja to: {Min_pozycja}')"
   ]
  },
  {
   "cell_type": "code",
   "execution_count": 47,
   "id": "a48e564e",
   "metadata": {},
   "outputs": [],
   "source": [
    "# Zmniejszenie zakresu danych do wartości znajdujących się pomiędzy min_v i max_v\n",
    "df2 = df1.iloc[Min_pozycja:Max_pozycja]"
   ]
  },
  {
   "cell_type": "code",
   "execution_count": 48,
   "id": "d37a6ac7",
   "metadata": {},
   "outputs": [
    {
     "data": {
      "text/html": [
       "<div>\n",
       "<style scoped>\n",
       "    .dataframe tbody tr th:only-of-type {\n",
       "        vertical-align: middle;\n",
       "    }\n",
       "\n",
       "    .dataframe tbody tr th {\n",
       "        vertical-align: top;\n",
       "    }\n",
       "\n",
       "    .dataframe thead th {\n",
       "        text-align: right;\n",
       "    }\n",
       "</style>\n",
       "<table border=\"1\" class=\"dataframe\">\n",
       "  <thead>\n",
       "    <tr style=\"text-align: right;\">\n",
       "      <th></th>\n",
       "      <th>Otwarcie</th>\n",
       "      <th>Najwyzszy</th>\n",
       "      <th>Najnizszy</th>\n",
       "      <th>Zamkniecie</th>\n",
       "      <th>Wolumen</th>\n",
       "      <th>Pozycja</th>\n",
       "    </tr>\n",
       "    <tr>\n",
       "      <th>Data</th>\n",
       "      <th></th>\n",
       "      <th></th>\n",
       "      <th></th>\n",
       "      <th></th>\n",
       "      <th></th>\n",
       "      <th></th>\n",
       "    </tr>\n",
       "  </thead>\n",
       "  <tbody>\n",
       "    <tr>\n",
       "      <th>2020-03-23</th>\n",
       "      <td>2290.71</td>\n",
       "      <td>2300.73</td>\n",
       "      <td>2191.86</td>\n",
       "      <td>2237.40</td>\n",
       "      <td>4.112322e+09</td>\n",
       "      <td>1</td>\n",
       "    </tr>\n",
       "    <tr>\n",
       "      <th>2020-03-24</th>\n",
       "      <td>2344.44</td>\n",
       "      <td>2449.71</td>\n",
       "      <td>2344.44</td>\n",
       "      <td>2447.33</td>\n",
       "      <td>4.192972e+09</td>\n",
       "      <td>2</td>\n",
       "    </tr>\n",
       "    <tr>\n",
       "      <th>2020-03-25</th>\n",
       "      <td>2457.77</td>\n",
       "      <td>2571.42</td>\n",
       "      <td>2407.53</td>\n",
       "      <td>2475.56</td>\n",
       "      <td>4.603150e+09</td>\n",
       "      <td>3</td>\n",
       "    </tr>\n",
       "    <tr>\n",
       "      <th>2020-03-26</th>\n",
       "      <td>2501.29</td>\n",
       "      <td>2637.01</td>\n",
       "      <td>2500.72</td>\n",
       "      <td>2630.07</td>\n",
       "      <td>4.307311e+09</td>\n",
       "      <td>4</td>\n",
       "    </tr>\n",
       "    <tr>\n",
       "      <th>2020-03-27</th>\n",
       "      <td>2555.87</td>\n",
       "      <td>2615.91</td>\n",
       "      <td>2520.02</td>\n",
       "      <td>2541.47</td>\n",
       "      <td>3.441294e+09</td>\n",
       "      <td>5</td>\n",
       "    </tr>\n",
       "  </tbody>\n",
       "</table>\n",
       "</div>"
      ],
      "text/plain": [
       "            Otwarcie  Najwyzszy  Najnizszy  Zamkniecie       Wolumen  Pozycja\n",
       "Data                                                                         \n",
       "2020-03-23   2290.71    2300.73    2191.86     2237.40  4.112322e+09        1\n",
       "2020-03-24   2344.44    2449.71    2344.44     2447.33  4.192972e+09        2\n",
       "2020-03-25   2457.77    2571.42    2407.53     2475.56  4.603150e+09        3\n",
       "2020-03-26   2501.29    2637.01    2500.72     2630.07  4.307311e+09        4\n",
       "2020-03-27   2555.87    2615.91    2520.02     2541.47  3.441294e+09        5"
      ]
     },
     "execution_count": 48,
     "metadata": {},
     "output_type": "execute_result"
    }
   ],
   "source": [
    "# Dodajemy kolumne 'Pozycja' z wartościami numerycznymi\n",
    "df2['Pozycja'] = np.arange(len(df2))+1\n",
    "df2.head()"
   ]
  },
  {
   "cell_type": "markdown",
   "id": "a0769cfd",
   "metadata": {},
   "source": [
    "- Do wyznaczenia lini trendu potrzebujemy znaleźć przynajmniej 2 punkty przez, które będziemy mogli przeprowadzić linie styczną\n",
    "- Linia musi być styczna do najniższych cen\n",
    "- Pierwszy punkt ma współrzędne minimalnej lub maksymalnej wartości znalezionej podczas rozpatrywania trendu\n"
   ]
  },
  {
   "cell_type": "code",
   "execution_count": 49,
   "id": "7e548d17",
   "metadata": {},
   "outputs": [
    {
     "data": {
      "text/plain": [
       "[Timestamp('2020-03-23 00:00:00'), 2191.86]"
      ]
     },
     "execution_count": 49,
     "metadata": {},
     "output_type": "execute_result"
    }
   ],
   "source": [
    "# Współrzędne punktu A\n",
    "Ax = df2.index.min()\n",
    "Ay = df2['Najnizszy'].loc[Ax]\n",
    "A = [Ax, Ay]\n",
    "A"
   ]
  },
  {
   "cell_type": "code",
   "execution_count": 50,
   "id": "44b5b666",
   "metadata": {},
   "outputs": [
    {
     "data": {
      "text/plain": [
       "[Timestamp('2021-03-04 00:00:00'), 3723.34]"
      ]
     },
     "execution_count": 50,
     "metadata": {},
     "output_type": "execute_result"
    }
   ],
   "source": [
    "# Szukamy współrzędnych punktu B\n",
    "df3 = df2.copy()\n",
    "while len(df3)>2:\n",
    "    slope, intercept, r_value, p_value, std_err = linregress(x=df3['Pozycja'], y=df3['Najnizszy'])\n",
    "    df3 = df3.loc[df3['Najnizszy'] < slope * df3['Pozycja'] + intercept]\n",
    "    \n",
    "Bx = df3.index.min()\n",
    "By = df3['Najnizszy'].loc[Bx]\n",
    "B = [Bx, By]\n",
    "B"
   ]
  },
  {
   "cell_type": "code",
   "execution_count": 51,
   "id": "17c4f429",
   "metadata": {},
   "outputs": [],
   "source": [
    "# Linia trendu o współrzędnych X i Y:\n",
    "X = [A[0], B[0]]\n",
    "Y = [A[1], B[1]]"
   ]
  },
  {
   "cell_type": "code",
   "execution_count": 52,
   "id": "9af844b8",
   "metadata": {},
   "outputs": [],
   "source": [
    "df2.reset_index(inplace=True)"
   ]
  },
  {
   "cell_type": "code",
   "execution_count": 53,
   "id": "93b9761b",
   "metadata": {},
   "outputs": [],
   "source": [
    "df2['Data']=df2['Data'].map(mdates.date2num)"
   ]
  },
  {
   "cell_type": "code",
   "execution_count": 54,
   "id": "5a0d4a2c",
   "metadata": {},
   "outputs": [
    {
     "data": {
      "image/png": "[encoded data removed]",
      "text/plain": [
       "<Figure size 1440x936 with 1 Axes>"
      ]
     },
     "metadata": {
      "needs_background": "light"
     },
     "output_type": "display_data"
    }
   ],
   "source": [
    "fig = plt.figure(figsize=(20,13))\n",
    "ax1 = fig.add_subplot(111)\n",
    "ax2 = fig.add_subplot(111)\n",
    "\n",
    "ax1.xaxis_date()\n",
    "ax1.xaxis.set_major_formatter(mdates.DateFormatter('%d-%m-%Y'))\n",
    "ax2.plot(X, Y, label='Trend Line')\n",
    "plt.ylabel(\"Price\")\n",
    "plt.title('SPX500')\n",
    "ax1.grid(True)\n",
    "plt.legend(loc='best')\n",
    "plt.xticks(rotation=45)\n",
    "candlestick_ohlc(ax1, df2.values, width=0.6, colorup='g', colordown='r')\n",
    "plt.show()"
   ]
  },
  {
   "cell_type": "code",
   "execution_count": null,
   "id": "297bab9a",
   "metadata": {},
   "outputs": [],
   "source": []
  },
  {
   "cell_type": "code",
   "execution_count": 55,
   "id": "11a00214",
   "metadata": {},
   "outputs": [
    {
     "data": {
      "text/plain": [
       "Timedelta('-346 days +00:00:00')"
      ]
     },
     "execution_count": 55,
     "metadata": {},
     "output_type": "execute_result"
    }
   ],
   "source": [
    "C = Ax-Bx\n",
    "C"
   ]
  },
  {
   "cell_type": "code",
   "execution_count": 56,
   "id": "2b66c61f",
   "metadata": {},
   "outputs": [
    {
     "data": {
      "text/plain": [
       "-346.0"
      ]
     },
     "execution_count": 56,
     "metadata": {},
     "output_type": "execute_result"
    }
   ],
   "source": [
    "x = np.timedelta64(C, 'ns')\n",
    "days = x.astype('timedelta64[D]')\n",
    "days / np.timedelta64(1, 'D')"
   ]
  },
  {
   "cell_type": "code",
   "execution_count": null,
   "id": "63dccdb0",
   "metadata": {},
   "outputs": [],
   "source": []
  }
 ],
 "metadata": {
  "kernelspec": {
   "display_name": "Python 3",
   "language": "python",
   "name": "python3"
  },
  "language_info": {
   "codemirror_mode": {
    "name": "ipython",
    "version": 3
   },
   "file_extension": ".py",
   "mimetype": "text/x-python",
   "name": "python",
   "nbconvert_exporter": "python",
   "pygments_lexer": "ipython3",
   "version": "3.8.8"
  }
 },
 "nbformat": 4,
 "nbformat_minor": 5
}
