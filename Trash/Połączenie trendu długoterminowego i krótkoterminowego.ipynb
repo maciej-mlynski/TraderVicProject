{
 "cells": [
  {
   "cell_type": "code",
   "execution_count": 1,
   "id": "7145bc60",
   "metadata": {},
   "outputs": [
    {
     "name": "stderr",
     "output_type": "stream",
     "text": [
      "C:\\ProgramData\\Anaconda3\\lib\\site-packages\\mpl_finance.py:16: DeprecationWarning: \n",
      "\n",
      "  =================================================================\n",
      "\n",
      "   WARNING: `mpl_finance` is deprecated:\n",
      "\n",
      "    Please use `mplfinance` instead (no hyphen, no underscore).\n",
      "\n",
      "    To install: `pip install --upgrade mplfinance` \n",
      "\n",
      "   For more information, see: https://pypi.org/project/mplfinance/\n",
      "\n",
      "  =================================================================\n",
      "\n",
      "  __warnings.warn('\\n\\n  ================================================================='+\n"
     ]
    }
   ],
   "source": [
    "import pandas as pd\n",
    "import numpy as np\n",
    "import matplotlib.pyplot as plt\n",
    "%matplotlib inline\n",
    "\n",
    "from mpl_finance import candlestick_ohlc\n",
    "\n",
    "import matplotlib.dates as mdates\n",
    "import datetime as dt\n",
    "from datetime import date, timedelta\n",
    "from datetime import timedelta, datetime\n",
    "\n",
    "from scipy.stats import linregress\n",
    "\n",
    "import warnings\n",
    "warnings.filterwarnings(\"ignore\")"
   ]
  },
  {
   "cell_type": "code",
   "execution_count": 19,
   "id": "3aee7772",
   "metadata": {},
   "outputs": [],
   "source": [
    "df = pd.read_csv('./data/BTC-USD.csv',sep=',', date_parser=True)"
   ]
  },
  {
   "cell_type": "code",
   "execution_count": 20,
   "id": "59d3664f",
   "metadata": {},
   "outputs": [],
   "source": [
    "df.drop('Adj Close', inplace = True, axis=1)"
   ]
  },
  {
   "cell_type": "code",
   "execution_count": 21,
   "id": "48ecda9a",
   "metadata": {},
   "outputs": [],
   "source": [
    "df['Date'] = pd.to_datetime(df['Date'])"
   ]
  },
  {
   "cell_type": "code",
   "execution_count": 22,
   "id": "95d4b71d",
   "metadata": {},
   "outputs": [],
   "source": [
    "df.set_index('Date',inplace=True)"
   ]
  },
  {
   "cell_type": "code",
   "execution_count": 23,
   "id": "6eb5a7bb",
   "metadata": {},
   "outputs": [
    {
     "data": {
      "text/html": [
       "<div>\n",
       "<style scoped>\n",
       "    .dataframe tbody tr th:only-of-type {\n",
       "        vertical-align: middle;\n",
       "    }\n",
       "\n",
       "    .dataframe tbody tr th {\n",
       "        vertical-align: top;\n",
       "    }\n",
       "\n",
       "    .dataframe thead th {\n",
       "        text-align: right;\n",
       "    }\n",
       "</style>\n",
       "<table border=\"1\" class=\"dataframe\">\n",
       "  <thead>\n",
       "    <tr style=\"text-align: right;\">\n",
       "      <th></th>\n",
       "      <th>Open</th>\n",
       "      <th>High</th>\n",
       "      <th>Low</th>\n",
       "      <th>Close</th>\n",
       "      <th>Volume</th>\n",
       "    </tr>\n",
       "    <tr>\n",
       "      <th>Date</th>\n",
       "      <th></th>\n",
       "      <th></th>\n",
       "      <th></th>\n",
       "      <th></th>\n",
       "      <th></th>\n",
       "    </tr>\n",
       "  </thead>\n",
       "  <tbody>\n",
       "    <tr>\n",
       "      <th>2014-09-17</th>\n",
       "      <td>465.864014</td>\n",
       "      <td>468.174011</td>\n",
       "      <td>452.421997</td>\n",
       "      <td>457.334015</td>\n",
       "      <td>2.105680e+07</td>\n",
       "    </tr>\n",
       "    <tr>\n",
       "      <th>2014-09-18</th>\n",
       "      <td>456.859985</td>\n",
       "      <td>456.859985</td>\n",
       "      <td>413.104004</td>\n",
       "      <td>424.440002</td>\n",
       "      <td>3.448320e+07</td>\n",
       "    </tr>\n",
       "    <tr>\n",
       "      <th>2014-09-19</th>\n",
       "      <td>424.102997</td>\n",
       "      <td>427.834991</td>\n",
       "      <td>384.532013</td>\n",
       "      <td>394.795990</td>\n",
       "      <td>3.791970e+07</td>\n",
       "    </tr>\n",
       "    <tr>\n",
       "      <th>2014-09-20</th>\n",
       "      <td>394.673004</td>\n",
       "      <td>423.295990</td>\n",
       "      <td>389.882996</td>\n",
       "      <td>408.903992</td>\n",
       "      <td>3.686360e+07</td>\n",
       "    </tr>\n",
       "    <tr>\n",
       "      <th>2014-09-21</th>\n",
       "      <td>408.084991</td>\n",
       "      <td>412.425995</td>\n",
       "      <td>393.181000</td>\n",
       "      <td>398.821014</td>\n",
       "      <td>2.658010e+07</td>\n",
       "    </tr>\n",
       "    <tr>\n",
       "      <th>...</th>\n",
       "      <td>...</td>\n",
       "      <td>...</td>\n",
       "      <td>...</td>\n",
       "      <td>...</td>\n",
       "      <td>...</td>\n",
       "    </tr>\n",
       "    <tr>\n",
       "      <th>2021-06-07</th>\n",
       "      <td>35835.265625</td>\n",
       "      <td>36790.570313</td>\n",
       "      <td>33480.640625</td>\n",
       "      <td>33560.707031</td>\n",
       "      <td>3.368394e+10</td>\n",
       "    </tr>\n",
       "    <tr>\n",
       "      <th>2021-06-08</th>\n",
       "      <td>33589.519531</td>\n",
       "      <td>34017.386719</td>\n",
       "      <td>31114.443359</td>\n",
       "      <td>33472.632813</td>\n",
       "      <td>4.990205e+10</td>\n",
       "    </tr>\n",
       "    <tr>\n",
       "      <th>2021-06-09</th>\n",
       "      <td>33416.976563</td>\n",
       "      <td>37537.371094</td>\n",
       "      <td>32475.865234</td>\n",
       "      <td>37345.121094</td>\n",
       "      <td>5.397292e+10</td>\n",
       "    </tr>\n",
       "    <tr>\n",
       "      <th>2021-06-10</th>\n",
       "      <td>37389.515625</td>\n",
       "      <td>38334.324219</td>\n",
       "      <td>35847.593750</td>\n",
       "      <td>36702.597656</td>\n",
       "      <td>4.357603e+10</td>\n",
       "    </tr>\n",
       "    <tr>\n",
       "      <th>2021-06-11</th>\n",
       "      <td>36485.035156</td>\n",
       "      <td>37548.804688</td>\n",
       "      <td>36088.992188</td>\n",
       "      <td>37486.933594</td>\n",
       "      <td>4.141848e+10</td>\n",
       "    </tr>\n",
       "  </tbody>\n",
       "</table>\n",
       "<p>2460 rows × 5 columns</p>\n",
       "</div>"
      ],
      "text/plain": [
       "                    Open          High           Low         Close  \\\n",
       "Date                                                                 \n",
       "2014-09-17    465.864014    468.174011    452.421997    457.334015   \n",
       "2014-09-18    456.859985    456.859985    413.104004    424.440002   \n",
       "2014-09-19    424.102997    427.834991    384.532013    394.795990   \n",
       "2014-09-20    394.673004    423.295990    389.882996    408.903992   \n",
       "2014-09-21    408.084991    412.425995    393.181000    398.821014   \n",
       "...                  ...           ...           ...           ...   \n",
       "2021-06-07  35835.265625  36790.570313  33480.640625  33560.707031   \n",
       "2021-06-08  33589.519531  34017.386719  31114.443359  33472.632813   \n",
       "2021-06-09  33416.976563  37537.371094  32475.865234  37345.121094   \n",
       "2021-06-10  37389.515625  38334.324219  35847.593750  36702.597656   \n",
       "2021-06-11  36485.035156  37548.804688  36088.992188  37486.933594   \n",
       "\n",
       "                  Volume  \n",
       "Date                      \n",
       "2014-09-17  2.105680e+07  \n",
       "2014-09-18  3.448320e+07  \n",
       "2014-09-19  3.791970e+07  \n",
       "2014-09-20  3.686360e+07  \n",
       "2014-09-21  2.658010e+07  \n",
       "...                  ...  \n",
       "2021-06-07  3.368394e+10  \n",
       "2021-06-08  4.990205e+10  \n",
       "2021-06-09  5.397292e+10  \n",
       "2021-06-10  4.357603e+10  \n",
       "2021-06-11  4.141848e+10  \n",
       "\n",
       "[2460 rows x 5 columns]"
      ]
     },
     "execution_count": 23,
     "metadata": {},
     "output_type": "execute_result"
    }
   ],
   "source": [
    "df"
   ]
  },
  {
   "cell_type": "markdown",
   "id": "6a5c586d",
   "metadata": {},
   "source": [
    "# Trend długoterminowy - spadkowy"
   ]
  },
  {
   "cell_type": "code",
   "execution_count": 24,
   "id": "78a86785",
   "metadata": {},
   "outputs": [],
   "source": [
    "Start = '2018-02-25'\n",
    "End = '2019-05-05'"
   ]
  },
  {
   "cell_type": "code",
   "execution_count": 25,
   "id": "7a8f7b9c",
   "metadata": {},
   "outputs": [
    {
     "data": {
      "text/html": [
       "<div>\n",
       "<style scoped>\n",
       "    .dataframe tbody tr th:only-of-type {\n",
       "        vertical-align: middle;\n",
       "    }\n",
       "\n",
       "    .dataframe tbody tr th {\n",
       "        vertical-align: top;\n",
       "    }\n",
       "\n",
       "    .dataframe thead th {\n",
       "        text-align: right;\n",
       "    }\n",
       "</style>\n",
       "<table border=\"1\" class=\"dataframe\">\n",
       "  <thead>\n",
       "    <tr style=\"text-align: right;\">\n",
       "      <th></th>\n",
       "      <th>Open</th>\n",
       "      <th>High</th>\n",
       "      <th>Low</th>\n",
       "      <th>Close</th>\n",
       "      <th>Volume</th>\n",
       "    </tr>\n",
       "    <tr>\n",
       "      <th>Date</th>\n",
       "      <th></th>\n",
       "      <th></th>\n",
       "      <th></th>\n",
       "      <th></th>\n",
       "      <th></th>\n",
       "    </tr>\n",
       "  </thead>\n",
       "  <tbody>\n",
       "    <tr>\n",
       "      <th>2018-02-25</th>\n",
       "      <td>9796.419922</td>\n",
       "      <td>9923.219727</td>\n",
       "      <td>9407.059570</td>\n",
       "      <td>9664.730469</td>\n",
       "      <td>5.706940e+09</td>\n",
       "    </tr>\n",
       "    <tr>\n",
       "      <th>2018-02-26</th>\n",
       "      <td>9669.429688</td>\n",
       "      <td>10475.000000</td>\n",
       "      <td>9501.730469</td>\n",
       "      <td>10366.700195</td>\n",
       "      <td>7.287690e+09</td>\n",
       "    </tr>\n",
       "    <tr>\n",
       "      <th>2018-02-27</th>\n",
       "      <td>10393.900391</td>\n",
       "      <td>10878.500000</td>\n",
       "      <td>10246.099609</td>\n",
       "      <td>10725.599609</td>\n",
       "      <td>6.966180e+09</td>\n",
       "    </tr>\n",
       "    <tr>\n",
       "      <th>2018-02-28</th>\n",
       "      <td>10687.200195</td>\n",
       "      <td>11089.799805</td>\n",
       "      <td>10393.099609</td>\n",
       "      <td>10397.900391</td>\n",
       "      <td>6.936190e+09</td>\n",
       "    </tr>\n",
       "    <tr>\n",
       "      <th>2018-03-01</th>\n",
       "      <td>10385.000000</td>\n",
       "      <td>11052.299805</td>\n",
       "      <td>10352.700195</td>\n",
       "      <td>10951.000000</td>\n",
       "      <td>7.317280e+09</td>\n",
       "    </tr>\n",
       "    <tr>\n",
       "      <th>...</th>\n",
       "      <td>...</td>\n",
       "      <td>...</td>\n",
       "      <td>...</td>\n",
       "      <td>...</td>\n",
       "      <td>...</td>\n",
       "    </tr>\n",
       "    <tr>\n",
       "      <th>2019-05-01</th>\n",
       "      <td>5350.914551</td>\n",
       "      <td>5418.003906</td>\n",
       "      <td>5347.645996</td>\n",
       "      <td>5402.697266</td>\n",
       "      <td>1.367953e+10</td>\n",
       "    </tr>\n",
       "    <tr>\n",
       "      <th>2019-05-02</th>\n",
       "      <td>5402.422852</td>\n",
       "      <td>5522.262695</td>\n",
       "      <td>5394.217285</td>\n",
       "      <td>5505.283691</td>\n",
       "      <td>1.464446e+10</td>\n",
       "    </tr>\n",
       "    <tr>\n",
       "      <th>2019-05-03</th>\n",
       "      <td>5505.552246</td>\n",
       "      <td>5865.881836</td>\n",
       "      <td>5490.201660</td>\n",
       "      <td>5768.289551</td>\n",
       "      <td>1.872078e+10</td>\n",
       "    </tr>\n",
       "    <tr>\n",
       "      <th>2019-05-04</th>\n",
       "      <td>5769.202637</td>\n",
       "      <td>5886.893555</td>\n",
       "      <td>5645.469238</td>\n",
       "      <td>5831.167480</td>\n",
       "      <td>1.756778e+10</td>\n",
       "    </tr>\n",
       "    <tr>\n",
       "      <th>2019-05-05</th>\n",
       "      <td>5831.068359</td>\n",
       "      <td>5833.862793</td>\n",
       "      <td>5708.035156</td>\n",
       "      <td>5795.708496</td>\n",
       "      <td>1.480883e+10</td>\n",
       "    </tr>\n",
       "  </tbody>\n",
       "</table>\n",
       "<p>435 rows × 5 columns</p>\n",
       "</div>"
      ],
      "text/plain": [
       "                    Open          High           Low         Close  \\\n",
       "Date                                                                 \n",
       "2018-02-25   9796.419922   9923.219727   9407.059570   9664.730469   \n",
       "2018-02-26   9669.429688  10475.000000   9501.730469  10366.700195   \n",
       "2018-02-27  10393.900391  10878.500000  10246.099609  10725.599609   \n",
       "2018-02-28  10687.200195  11089.799805  10393.099609  10397.900391   \n",
       "2018-03-01  10385.000000  11052.299805  10352.700195  10951.000000   \n",
       "...                  ...           ...           ...           ...   \n",
       "2019-05-01   5350.914551   5418.003906   5347.645996   5402.697266   \n",
       "2019-05-02   5402.422852   5522.262695   5394.217285   5505.283691   \n",
       "2019-05-03   5505.552246   5865.881836   5490.201660   5768.289551   \n",
       "2019-05-04   5769.202637   5886.893555   5645.469238   5831.167480   \n",
       "2019-05-05   5831.068359   5833.862793   5708.035156   5795.708496   \n",
       "\n",
       "                  Volume  \n",
       "Date                      \n",
       "2018-02-25  5.706940e+09  \n",
       "2018-02-26  7.287690e+09  \n",
       "2018-02-27  6.966180e+09  \n",
       "2018-02-28  6.936190e+09  \n",
       "2018-03-01  7.317280e+09  \n",
       "...                  ...  \n",
       "2019-05-01  1.367953e+10  \n",
       "2019-05-02  1.464446e+10  \n",
       "2019-05-03  1.872078e+10  \n",
       "2019-05-04  1.756778e+10  \n",
       "2019-05-05  1.480883e+10  \n",
       "\n",
       "[435 rows x 5 columns]"
      ]
     },
     "execution_count": 25,
     "metadata": {},
     "output_type": "execute_result"
    }
   ],
   "source": [
    "df1 = df.loc[Start:End]\n",
    "df1"
   ]
  },
  {
   "cell_type": "code",
   "execution_count": 26,
   "id": "8765c46d",
   "metadata": {},
   "outputs": [],
   "source": [
    "df1.index = df1.index.map(mdates.date2num)"
   ]
  },
  {
   "cell_type": "code",
   "execution_count": 27,
   "id": "50bc2340",
   "metadata": {},
   "outputs": [
    {
     "name": "stdout",
     "output_type": "stream",
     "text": [
      "Najwyższy punkt został osiągnięty jako pierwszy. Jego pozycja to: 8\n"
     ]
    }
   ],
   "source": [
    "# Sprawdzamy czy pierwsze wystąpiło max_v czy min_v\n",
    "# Jeśli 1 jest min_v - trend wzrostowy\n",
    "# Jeśli 1 jest max_v - trend spatkowy\n",
    "Min_pozycja = df1['Low'].argmin()\n",
    "Max_pozycja = df1['High'].argmax()\n",
    "if Min_pozycja > Max_pozycja:\n",
    "    print(f'Najwyższy punkt został osiągnięty jako pierwszy. Jego pozycja to: {Max_pozycja}')\n",
    "else:\n",
    "    print(f'Najniższy punkt został osiągnięty jako pierwszy. Jego pozycja to: {Min_pozycja}')"
   ]
  },
  {
   "cell_type": "code",
   "execution_count": 28,
   "id": "dfab921e",
   "metadata": {},
   "outputs": [
    {
     "data": {
      "text/plain": [
       "17880.0"
      ]
     },
     "execution_count": 28,
     "metadata": {},
     "output_type": "execute_result"
    }
   ],
   "source": [
    "# wyznaczamy najniższy punkt jako koniec analizowanego okresu\n",
    "Max_idx = df1.iloc[Min_pozycja].name\n",
    "Max_idx"
   ]
  },
  {
   "cell_type": "code",
   "execution_count": 29,
   "id": "39467e99",
   "metadata": {},
   "outputs": [
    {
     "data": {
      "text/plain": [
       "17595.0"
      ]
     },
     "execution_count": 29,
     "metadata": {},
     "output_type": "execute_result"
    }
   ],
   "source": [
    "#Pozycja Najwyższej wartościw w indeksie\n",
    "Ax = df1.iloc[Max_pozycja].name\n",
    "Ax"
   ]
  },
  {
   "cell_type": "code",
   "execution_count": 30,
   "id": "f4d67277",
   "metadata": {},
   "outputs": [
    {
     "data": {
      "text/plain": [
       "11704.099609"
      ]
     },
     "execution_count": 30,
     "metadata": {},
     "output_type": "execute_result"
    }
   ],
   "source": [
    "# Wartość pozycji\n",
    "Ay = df1['High'].loc[Ax]\n",
    "Ay"
   ]
  },
  {
   "cell_type": "code",
   "execution_count": 31,
   "id": "e4634d88",
   "metadata": {},
   "outputs": [
    {
     "data": {
      "text/plain": [
       "[17595.0, 11704.099609]"
      ]
     },
     "execution_count": 31,
     "metadata": {},
     "output_type": "execute_result"
    }
   ],
   "source": [
    "A = [Ax, Ay]\n",
    "A"
   ]
  },
  {
   "cell_type": "code",
   "execution_count": 32,
   "id": "5ca66024",
   "metadata": {},
   "outputs": [
    {
     "data": {
      "text/plain": [
       "[17843.0, 6536.919922]"
      ]
     },
     "execution_count": 32,
     "metadata": {},
     "output_type": "execute_result"
    }
   ],
   "source": [
    "df2 = df1[:Max_idx]\n",
    "while len(df2)>2:\n",
    "    slope, intercept, r_value, p_value, std_err = linregress(x=df2.index, y=df2['High'])\n",
    "    df2 = df2.loc[df2['High'] > slope * df2.index + intercept]\n",
    "    \n",
    "Bx = df2.index.min()\n",
    "By = df2['High'].loc[Bx]\n",
    "B = [Bx, By]\n",
    "B"
   ]
  },
  {
   "cell_type": "code",
   "execution_count": 33,
   "id": "5d8e9135",
   "metadata": {},
   "outputs": [
    {
     "data": {
      "text/plain": [
       "-20.835401963709682"
      ]
     },
     "execution_count": 33,
     "metadata": {},
     "output_type": "execute_result"
    }
   ],
   "source": [
    "a = (Ay-By)/(Ax-Bx)\n",
    "a"
   ]
  },
  {
   "cell_type": "code",
   "execution_count": 34,
   "id": "0cd63928",
   "metadata": {},
   "outputs": [
    {
     "data": {
      "text/plain": [
       "378302.9971604718"
      ]
     },
     "execution_count": 34,
     "metadata": {},
     "output_type": "execute_result"
    }
   ],
   "source": [
    "b = By - a*Bx\n",
    "b"
   ]
  },
  {
   "cell_type": "code",
   "execution_count": 18,
   "id": "99e23cd8",
   "metadata": {},
   "outputs": [
    {
     "data": {
      "text/plain": [
       "[18031.0, nan]"
      ]
     },
     "execution_count": 18,
     "metadata": {},
     "output_type": "execute_result"
    }
   ],
   "source": [
    "Cx = df1.index.max() +10\n",
    "Cy = a*Cx +b\n",
    "C = [Cx, Cy]\n",
    "C"
   ]
  },
  {
   "cell_type": "code",
   "execution_count": 394,
   "id": "16809466",
   "metadata": {},
   "outputs": [],
   "source": [
    "# Linia trendu o współrzędnych X i Y:\n",
    "X = [A[0], C[0]]\n",
    "Y = [A[1], C[1]]"
   ]
  },
  {
   "cell_type": "code",
   "execution_count": 395,
   "id": "49c63bfa",
   "metadata": {},
   "outputs": [],
   "source": [
    "#df1.reset_index(inplace=True)"
   ]
  },
  {
   "cell_type": "code",
   "execution_count": 396,
   "id": "a3af5e8a",
   "metadata": {},
   "outputs": [
    {
     "data": {
      "text/plain": [
       "'fig = plt.figure(figsize=(20,13))\\nax1 = fig.add_subplot(111)\\nax2 = fig.add_subplot(111)\\n\\nax1.xaxis_date()\\nax1.xaxis.set_major_formatter(mdates.DateFormatter(\\'%d-%m-%Y\\'))\\nax2.plot(X, Y, label=\\'Trend Line\\')\\nplt.ylabel(\"Price\")\\nplt.title(\\'SPX500\\')\\nax1.grid(True)\\nplt.legend(loc=\\'best\\')\\nplt.xticks(rotation=45)\\ncandlestick_ohlc(ax1, df1.values, width=0.6, colorup=\\'g\\', colordown=\\'r\\')\\nplt.show()'"
      ]
     },
     "execution_count": 396,
     "metadata": {},
     "output_type": "execute_result"
    }
   ],
   "source": [
    "'''fig = plt.figure(figsize=(20,13))\n",
    "ax1 = fig.add_subplot(111)\n",
    "ax2 = fig.add_subplot(111)\n",
    "\n",
    "ax1.xaxis_date()\n",
    "ax1.xaxis.set_major_formatter(mdates.DateFormatter('%d-%m-%Y'))\n",
    "ax2.plot(X, Y, label='Trend Line')\n",
    "plt.ylabel(\"Price\")\n",
    "plt.title('SPX500')\n",
    "ax1.grid(True)\n",
    "plt.legend(loc='best')\n",
    "plt.xticks(rotation=45)\n",
    "candlestick_ohlc(ax1, df1.values, width=0.6, colorup='g', colordown='r')\n",
    "plt.show()'''"
   ]
  },
  {
   "cell_type": "markdown",
   "id": "f4043537",
   "metadata": {},
   "source": [
    "# Dorzucamy tren krótkoterminowy - wzrostowy"
   ]
  },
  {
   "cell_type": "code",
   "execution_count": 397,
   "id": "96ad235b",
   "metadata": {},
   "outputs": [
    {
     "data": {
      "text/plain": [
       "Timestamp('2019-05-05 00:00:00')"
      ]
     },
     "execution_count": 397,
     "metadata": {},
     "output_type": "execute_result"
    }
   ],
   "source": [
    "End = pd.to_datetime(End)\n",
    "End"
   ]
  },
  {
   "cell_type": "code",
   "execution_count": 398,
   "id": "55a4dd57",
   "metadata": {},
   "outputs": [
    {
     "data": {
      "text/plain": [
       "Timestamp('2018-12-16 00:00:00')"
      ]
     },
     "execution_count": 398,
     "metadata": {},
     "output_type": "execute_result"
    }
   ],
   "source": [
    "#Data początku trendu krótkoterminowego (6.ms do tyłu)\n",
    "Start = (End - timedelta(days=140))\n",
    "Start"
   ]
  },
  {
   "cell_type": "code",
   "execution_count": 399,
   "id": "bfffb101",
   "metadata": {},
   "outputs": [
    {
     "data": {
      "text/plain": [
       "'2019-05-05'"
      ]
     },
     "execution_count": 399,
     "metadata": {},
     "output_type": "execute_result"
    }
   ],
   "source": [
    "End = End.strftime('%Y-%m-%d')\n",
    "End"
   ]
  },
  {
   "cell_type": "code",
   "execution_count": 400,
   "id": "efd5ad38",
   "metadata": {},
   "outputs": [
    {
     "data": {
      "text/plain": [
       "'2018-12-16'"
      ]
     },
     "execution_count": 400,
     "metadata": {},
     "output_type": "execute_result"
    }
   ],
   "source": [
    "Start = Start.strftime('%Y-%m-%d')\n",
    "Start"
   ]
  },
  {
   "cell_type": "code",
   "execution_count": 401,
   "id": "0e38aff1",
   "metadata": {
    "scrolled": true
   },
   "outputs": [
    {
     "data": {
      "text/html": [
       "<div>\n",
       "<style scoped>\n",
       "    .dataframe tbody tr th:only-of-type {\n",
       "        vertical-align: middle;\n",
       "    }\n",
       "\n",
       "    .dataframe tbody tr th {\n",
       "        vertical-align: top;\n",
       "    }\n",
       "\n",
       "    .dataframe thead th {\n",
       "        text-align: right;\n",
       "    }\n",
       "</style>\n",
       "<table border=\"1\" class=\"dataframe\">\n",
       "  <thead>\n",
       "    <tr style=\"text-align: right;\">\n",
       "      <th></th>\n",
       "      <th>Open</th>\n",
       "      <th>High</th>\n",
       "      <th>Low</th>\n",
       "      <th>Close</th>\n",
       "      <th>Volume</th>\n",
       "    </tr>\n",
       "    <tr>\n",
       "      <th>Date</th>\n",
       "      <th></th>\n",
       "      <th></th>\n",
       "      <th></th>\n",
       "      <th></th>\n",
       "      <th></th>\n",
       "    </tr>\n",
       "  </thead>\n",
       "  <tbody>\n",
       "    <tr>\n",
       "      <th>2018-12-16</th>\n",
       "      <td>3236.274658</td>\n",
       "      <td>3305.753174</td>\n",
       "      <td>3233.819824</td>\n",
       "      <td>3252.839111</td>\n",
       "      <td>3.744249e+09</td>\n",
       "    </tr>\n",
       "    <tr>\n",
       "      <th>2018-12-17</th>\n",
       "      <td>3253.123047</td>\n",
       "      <td>3597.917969</td>\n",
       "      <td>3253.123047</td>\n",
       "      <td>3545.864746</td>\n",
       "      <td>5.409248e+09</td>\n",
       "    </tr>\n",
       "    <tr>\n",
       "      <th>2018-12-18</th>\n",
       "      <td>3544.761475</td>\n",
       "      <td>3701.349365</td>\n",
       "      <td>3487.169189</td>\n",
       "      <td>3696.059082</td>\n",
       "      <td>5.911325e+09</td>\n",
       "    </tr>\n",
       "    <tr>\n",
       "      <th>2018-12-19</th>\n",
       "      <td>3706.824951</td>\n",
       "      <td>3949.322998</td>\n",
       "      <td>3687.229980</td>\n",
       "      <td>3745.950684</td>\n",
       "      <td>6.810689e+09</td>\n",
       "    </tr>\n",
       "    <tr>\n",
       "      <th>2018-12-20</th>\n",
       "      <td>3742.195068</td>\n",
       "      <td>4191.228516</td>\n",
       "      <td>3728.974609</td>\n",
       "      <td>4134.441406</td>\n",
       "      <td>8.927129e+09</td>\n",
       "    </tr>\n",
       "    <tr>\n",
       "      <th>...</th>\n",
       "      <td>...</td>\n",
       "      <td>...</td>\n",
       "      <td>...</td>\n",
       "      <td>...</td>\n",
       "      <td>...</td>\n",
       "    </tr>\n",
       "    <tr>\n",
       "      <th>2019-05-01</th>\n",
       "      <td>5350.914551</td>\n",
       "      <td>5418.003906</td>\n",
       "      <td>5347.645996</td>\n",
       "      <td>5402.697266</td>\n",
       "      <td>1.367953e+10</td>\n",
       "    </tr>\n",
       "    <tr>\n",
       "      <th>2019-05-02</th>\n",
       "      <td>5402.422852</td>\n",
       "      <td>5522.262695</td>\n",
       "      <td>5394.217285</td>\n",
       "      <td>5505.283691</td>\n",
       "      <td>1.464446e+10</td>\n",
       "    </tr>\n",
       "    <tr>\n",
       "      <th>2019-05-03</th>\n",
       "      <td>5505.552246</td>\n",
       "      <td>5865.881836</td>\n",
       "      <td>5490.201660</td>\n",
       "      <td>5768.289551</td>\n",
       "      <td>1.872078e+10</td>\n",
       "    </tr>\n",
       "    <tr>\n",
       "      <th>2019-05-04</th>\n",
       "      <td>5769.202637</td>\n",
       "      <td>5886.893555</td>\n",
       "      <td>5645.469238</td>\n",
       "      <td>5831.167480</td>\n",
       "      <td>1.756778e+10</td>\n",
       "    </tr>\n",
       "    <tr>\n",
       "      <th>2019-05-05</th>\n",
       "      <td>5831.068359</td>\n",
       "      <td>5833.862793</td>\n",
       "      <td>5708.035156</td>\n",
       "      <td>5795.708496</td>\n",
       "      <td>1.480883e+10</td>\n",
       "    </tr>\n",
       "  </tbody>\n",
       "</table>\n",
       "<p>141 rows × 5 columns</p>\n",
       "</div>"
      ],
      "text/plain": [
       "                   Open         High          Low        Close        Volume\n",
       "Date                                                                        \n",
       "2018-12-16  3236.274658  3305.753174  3233.819824  3252.839111  3.744249e+09\n",
       "2018-12-17  3253.123047  3597.917969  3253.123047  3545.864746  5.409248e+09\n",
       "2018-12-18  3544.761475  3701.349365  3487.169189  3696.059082  5.911325e+09\n",
       "2018-12-19  3706.824951  3949.322998  3687.229980  3745.950684  6.810689e+09\n",
       "2018-12-20  3742.195068  4191.228516  3728.974609  4134.441406  8.927129e+09\n",
       "...                 ...          ...          ...          ...           ...\n",
       "2019-05-01  5350.914551  5418.003906  5347.645996  5402.697266  1.367953e+10\n",
       "2019-05-02  5402.422852  5522.262695  5394.217285  5505.283691  1.464446e+10\n",
       "2019-05-03  5505.552246  5865.881836  5490.201660  5768.289551  1.872078e+10\n",
       "2019-05-04  5769.202637  5886.893555  5645.469238  5831.167480  1.756778e+10\n",
       "2019-05-05  5831.068359  5833.862793  5708.035156  5795.708496  1.480883e+10\n",
       "\n",
       "[141 rows x 5 columns]"
      ]
     },
     "execution_count": 401,
     "metadata": {},
     "output_type": "execute_result"
    }
   ],
   "source": [
    "dfk = df.loc[Start:End]\n",
    "dfk"
   ]
  },
  {
   "cell_type": "code",
   "execution_count": 402,
   "id": "218573fc",
   "metadata": {},
   "outputs": [
    {
     "data": {
      "text/html": [
       "<div>\n",
       "<style scoped>\n",
       "    .dataframe tbody tr th:only-of-type {\n",
       "        vertical-align: middle;\n",
       "    }\n",
       "\n",
       "    .dataframe tbody tr th {\n",
       "        vertical-align: top;\n",
       "    }\n",
       "\n",
       "    .dataframe thead th {\n",
       "        text-align: right;\n",
       "    }\n",
       "</style>\n",
       "<table border=\"1\" class=\"dataframe\">\n",
       "  <thead>\n",
       "    <tr style=\"text-align: right;\">\n",
       "      <th></th>\n",
       "      <th>Open</th>\n",
       "      <th>High</th>\n",
       "      <th>Low</th>\n",
       "      <th>Close</th>\n",
       "      <th>Volume</th>\n",
       "    </tr>\n",
       "  </thead>\n",
       "  <tbody>\n",
       "    <tr>\n",
       "      <th>17881.0</th>\n",
       "      <td>3236.274658</td>\n",
       "      <td>3305.753174</td>\n",
       "      <td>3233.819824</td>\n",
       "      <td>3252.839111</td>\n",
       "      <td>3.744249e+09</td>\n",
       "    </tr>\n",
       "    <tr>\n",
       "      <th>17882.0</th>\n",
       "      <td>3253.123047</td>\n",
       "      <td>3597.917969</td>\n",
       "      <td>3253.123047</td>\n",
       "      <td>3545.864746</td>\n",
       "      <td>5.409248e+09</td>\n",
       "    </tr>\n",
       "    <tr>\n",
       "      <th>17883.0</th>\n",
       "      <td>3544.761475</td>\n",
       "      <td>3701.349365</td>\n",
       "      <td>3487.169189</td>\n",
       "      <td>3696.059082</td>\n",
       "      <td>5.911325e+09</td>\n",
       "    </tr>\n",
       "    <tr>\n",
       "      <th>17884.0</th>\n",
       "      <td>3706.824951</td>\n",
       "      <td>3949.322998</td>\n",
       "      <td>3687.229980</td>\n",
       "      <td>3745.950684</td>\n",
       "      <td>6.810689e+09</td>\n",
       "    </tr>\n",
       "    <tr>\n",
       "      <th>17885.0</th>\n",
       "      <td>3742.195068</td>\n",
       "      <td>4191.228516</td>\n",
       "      <td>3728.974609</td>\n",
       "      <td>4134.441406</td>\n",
       "      <td>8.927129e+09</td>\n",
       "    </tr>\n",
       "    <tr>\n",
       "      <th>...</th>\n",
       "      <td>...</td>\n",
       "      <td>...</td>\n",
       "      <td>...</td>\n",
       "      <td>...</td>\n",
       "      <td>...</td>\n",
       "    </tr>\n",
       "    <tr>\n",
       "      <th>18017.0</th>\n",
       "      <td>5350.914551</td>\n",
       "      <td>5418.003906</td>\n",
       "      <td>5347.645996</td>\n",
       "      <td>5402.697266</td>\n",
       "      <td>1.367953e+10</td>\n",
       "    </tr>\n",
       "    <tr>\n",
       "      <th>18018.0</th>\n",
       "      <td>5402.422852</td>\n",
       "      <td>5522.262695</td>\n",
       "      <td>5394.217285</td>\n",
       "      <td>5505.283691</td>\n",
       "      <td>1.464446e+10</td>\n",
       "    </tr>\n",
       "    <tr>\n",
       "      <th>18019.0</th>\n",
       "      <td>5505.552246</td>\n",
       "      <td>5865.881836</td>\n",
       "      <td>5490.201660</td>\n",
       "      <td>5768.289551</td>\n",
       "      <td>1.872078e+10</td>\n",
       "    </tr>\n",
       "    <tr>\n",
       "      <th>18020.0</th>\n",
       "      <td>5769.202637</td>\n",
       "      <td>5886.893555</td>\n",
       "      <td>5645.469238</td>\n",
       "      <td>5831.167480</td>\n",
       "      <td>1.756778e+10</td>\n",
       "    </tr>\n",
       "    <tr>\n",
       "      <th>18021.0</th>\n",
       "      <td>5831.068359</td>\n",
       "      <td>5833.862793</td>\n",
       "      <td>5708.035156</td>\n",
       "      <td>5795.708496</td>\n",
       "      <td>1.480883e+10</td>\n",
       "    </tr>\n",
       "  </tbody>\n",
       "</table>\n",
       "<p>141 rows × 5 columns</p>\n",
       "</div>"
      ],
      "text/plain": [
       "                Open         High          Low        Close        Volume\n",
       "17881.0  3236.274658  3305.753174  3233.819824  3252.839111  3.744249e+09\n",
       "17882.0  3253.123047  3597.917969  3253.123047  3545.864746  5.409248e+09\n",
       "17883.0  3544.761475  3701.349365  3487.169189  3696.059082  5.911325e+09\n",
       "17884.0  3706.824951  3949.322998  3687.229980  3745.950684  6.810689e+09\n",
       "17885.0  3742.195068  4191.228516  3728.974609  4134.441406  8.927129e+09\n",
       "...              ...          ...          ...          ...           ...\n",
       "18017.0  5350.914551  5418.003906  5347.645996  5402.697266  1.367953e+10\n",
       "18018.0  5402.422852  5522.262695  5394.217285  5505.283691  1.464446e+10\n",
       "18019.0  5505.552246  5865.881836  5490.201660  5768.289551  1.872078e+10\n",
       "18020.0  5769.202637  5886.893555  5645.469238  5831.167480  1.756778e+10\n",
       "18021.0  5831.068359  5833.862793  5708.035156  5795.708496  1.480883e+10\n",
       "\n",
       "[141 rows x 5 columns]"
      ]
     },
     "execution_count": 402,
     "metadata": {},
     "output_type": "execute_result"
    }
   ],
   "source": [
    "dfk.index=dfk.index.map(mdates.date2num)\n",
    "dfk"
   ]
  },
  {
   "cell_type": "code",
   "execution_count": 403,
   "id": "65497fb9",
   "metadata": {},
   "outputs": [
    {
     "name": "stdout",
     "output_type": "stream",
     "text": [
      "Najniższy punkt został osiągnięty jako pierwszy. Jego pozycja to: 0\n"
     ]
    }
   ],
   "source": [
    "# Sprawdzamy czy pierwsze wystąpiło max_v czy min_v\n",
    "# Jeśli 1 jest min_v - trend wzrostowy\n",
    "# Jeśli 1 jest max_v - trend spatkowy\n",
    "Min_pozycja = dfk['Low'].argmin()\n",
    "Max_pozycja = dfk['High'].argmax()\n",
    "if Min_pozycja > Max_pozycja:\n",
    "    print(f'Najwyższy punkt został osiągnięty jako pierwszy. Jego pozycja to: {Max_pozycja}')\n",
    "else:\n",
    "    print(f'Najniższy punkt został osiągnięty jako pierwszy. Jego pozycja to: {Min_pozycja}')"
   ]
  },
  {
   "cell_type": "code",
   "execution_count": 404,
   "id": "08fb2a50",
   "metadata": {},
   "outputs": [
    {
     "data": {
      "text/plain": [
       "18020.0"
      ]
     },
     "execution_count": 404,
     "metadata": {},
     "output_type": "execute_result"
    }
   ],
   "source": [
    "Maxk_idx = dfk.iloc[Max_pozycja].name\n",
    "Maxk_idx"
   ]
  },
  {
   "cell_type": "code",
   "execution_count": 445,
   "id": "d0dc22d3",
   "metadata": {},
   "outputs": [
    {
     "data": {
      "text/plain": [
       "17881.0"
      ]
     },
     "execution_count": 445,
     "metadata": {},
     "output_type": "execute_result"
    }
   ],
   "source": [
    "#Pozycja Najniższej wartościw w indeksie\n",
    "Akx = dfk.iloc[Min_pozycja].name\n",
    "Akx"
   ]
  },
  {
   "cell_type": "code",
   "execution_count": 446,
   "id": "b7548cb4",
   "metadata": {},
   "outputs": [
    {
     "data": {
      "text/plain": [
       "3233.819824"
      ]
     },
     "execution_count": 446,
     "metadata": {},
     "output_type": "execute_result"
    }
   ],
   "source": [
    "Aky = dfk['Low'].loc[Akx]\n",
    "Aky"
   ]
  },
  {
   "cell_type": "code",
   "execution_count": 447,
   "id": "17db7e5e",
   "metadata": {},
   "outputs": [
    {
     "data": {
      "text/plain": [
       "[17881.0, 3233.819824]"
      ]
     },
     "execution_count": 447,
     "metadata": {},
     "output_type": "execute_result"
    }
   ],
   "source": [
    "Ak = [Akx, Aky]\n",
    "Ak"
   ]
  },
  {
   "cell_type": "code",
   "execution_count": 408,
   "id": "39918747",
   "metadata": {},
   "outputs": [
    {
     "data": {
      "text/plain": [
       "[17935.0, 3391.023682]"
      ]
     },
     "execution_count": 408,
     "metadata": {},
     "output_type": "execute_result"
    }
   ],
   "source": [
    "# Szukamy punktu stycznego\n",
    "dfk2 = dfk[:Maxk_idx]\n",
    "while len(dfk2)>2:\n",
    "    slope, intercept, r_value, p_value, std_err = linregress(x=dfk2.index, y=dfk2['Low'])\n",
    "    dfk2 = dfk2.loc[dfk2['Low'] < slope * dfk2.index + intercept]\n",
    "    \n",
    "Bkx = dfk2.index.min()\n",
    "Bky = dfk2['Low'].loc[Bkx]\n",
    "Bk = [Bkx, Bky]\n",
    "Bk"
   ]
  },
  {
   "cell_type": "code",
   "execution_count": 448,
   "id": "20107e5b",
   "metadata": {},
   "outputs": [
    {
     "name": "stdout",
     "output_type": "stream",
     "text": [
      "Współczynnik a: 2.911182555555553\n",
      "Współczynnik b: -48821.03545188884\n"
     ]
    }
   ],
   "source": [
    "# Współczynniki kierunkowe prostej\n",
    "a_k = (Aky-Bky)/(Akx-Bkx)\n",
    "b_k = Aky - (a_k * Akx)\n",
    "print(f'Współczynnik a: {a_k}')\n",
    "print(f'Współczynnik b: {b_k}')"
   ]
  },
  {
   "cell_type": "code",
   "execution_count": 449,
   "id": "c6734a14",
   "metadata": {},
   "outputs": [
    {
     "data": {
      "text/plain": [
       "[18031.0, 3670.497207333334]"
      ]
     },
     "execution_count": 449,
     "metadata": {},
     "output_type": "execute_result"
    }
   ],
   "source": [
    "# Podstawiamy do wzoru na f. liniową, współrzędne punktu maksymalnego z przesunięciem w prawo o 10 dni\n",
    "Ckx = dfk.index.max() +10\n",
    "Cky = a_k* Ckx + b_k\n",
    "\n",
    "#Współrzędne punktu C\n",
    "Ck = [Ckx, Cky]\n",
    "Ck"
   ]
  },
  {
   "cell_type": "code",
   "execution_count": 450,
   "id": "c17b828d",
   "metadata": {},
   "outputs": [],
   "source": [
    "# Linia trendu o współrzędnych X i Y:\n",
    "X_k = [Ak[0], Ck[0]]\n",
    "Y_k = [Ak[1], Ck[1]]"
   ]
  },
  {
   "cell_type": "code",
   "execution_count": 412,
   "id": "5748acb5",
   "metadata": {},
   "outputs": [],
   "source": [
    "df1.reset_index(inplace=True)"
   ]
  },
  {
   "cell_type": "code",
   "execution_count": 451,
   "id": "27ab6748",
   "metadata": {},
   "outputs": [
    {
     "data": {
      "image/png": "[encoded data removed]",
      "text/plain": [
       "<Figure size 1440x936 with 1 Axes>"
      ]
     },
     "metadata": {
      "needs_background": "light"
     },
     "output_type": "display_data"
    }
   ],
   "source": [
    "fig = plt.figure(figsize=(20,13))\n",
    "ax1 = fig.add_subplot(111)\n",
    "ax2 = fig.add_subplot(111)\n",
    "ax3 = fig.add_subplot(111)\n",
    "ax1.xaxis_date()\n",
    "ax1.xaxis.set_major_formatter(mdates.DateFormatter('%d-%m-%Y'))\n",
    "ax2.plot(X, Y, label='Trend Line - Long')\n",
    "ax3.plot(X_k, Y_k, label='Trend Line-  Short')\n",
    "plt.ylabel(\"Price\")\n",
    "plt.title('SPX500')\n",
    "ax1.grid(True)\n",
    "plt.legend(loc='best')\n",
    "plt.xticks(rotation=45)\n",
    "candlestick_ohlc(ax1, df1.values, width=0.6, colorup='g', colordown='r')\n",
    "plt.show()"
   ]
  },
  {
   "cell_type": "code",
   "execution_count": null,
   "id": "bcc855eb",
   "metadata": {},
   "outputs": [],
   "source": []
  },
  {
   "cell_type": "code",
   "execution_count": null,
   "id": "ad3ee8a4",
   "metadata": {},
   "outputs": [],
   "source": []
  },
  {
   "cell_type": "code",
   "execution_count": null,
   "id": "411f96e4",
   "metadata": {},
   "outputs": [],
   "source": []
  },
  {
   "cell_type": "code",
   "execution_count": null,
   "id": "3a757e5c",
   "metadata": {},
   "outputs": [],
   "source": []
  },
  {
   "cell_type": "code",
   "execution_count": null,
   "id": "5b9ada52",
   "metadata": {},
   "outputs": [],
   "source": []
  },
  {
   "cell_type": "code",
   "execution_count": null,
   "id": "fd72cfc8",
   "metadata": {},
   "outputs": [],
   "source": []
  }
 ],
 "metadata": {
  "kernelspec": {
   "display_name": "Python 3",
   "language": "python",
   "name": "python3"
  },
  "language_info": {
   "codemirror_mode": {
    "name": "ipython",
    "version": 3
   },
   "file_extension": ".py",
   "mimetype": "text/x-python",
   "name": "python",
   "nbconvert_exporter": "python",
   "pygments_lexer": "ipython3",
   "version": "3.8.8"
  }
 },
 "nbformat": 4,
 "nbformat_minor": 5
}
