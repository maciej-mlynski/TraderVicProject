{
 "cells": [
  {
   "cell_type": "code",
   "execution_count": 1,
   "id": "98673578",
   "metadata": {},
   "outputs": [
    {
     "name": "stderr",
     "output_type": "stream",
     "text": [
      "C:\\ProgramData\\Anaconda3\\lib\\site-packages\\mpl_finance.py:16: DeprecationWarning: \n",
      "\n",
      "  =================================================================\n",
      "\n",
      "   WARNING: `mpl_finance` is deprecated:\n",
      "\n",
      "    Please use `mplfinance` instead (no hyphen, no underscore).\n",
      "\n",
      "    To install: `pip install --upgrade mplfinance` \n",
      "\n",
      "   For more information, see: https://pypi.org/project/mplfinance/\n",
      "\n",
      "  =================================================================\n",
      "\n",
      "  __warnings.warn('\\n\\n  ================================================================='+\n"
     ]
    }
   ],
   "source": [
    "import pandas as pd\n",
    "import numpy as np\n",
    "import matplotlib.pyplot as plt\n",
    "%matplotlib inline\n",
    "\n",
    "from mpl_finance import candlestick_ohlc\n",
    "\n",
    "import matplotlib.dates as mdates\n",
    "import datetime as dt\n",
    "from datetime import date, timedelta\n",
    "from datetime import timedelta, datetime\n",
    "\n",
    "\n",
    "import warnings\n",
    "warnings.filterwarnings(\"ignore\")"
   ]
  },
  {
   "cell_type": "code",
   "execution_count": 2,
   "id": "b68658d1",
   "metadata": {},
   "outputs": [],
   "source": [
    "df = pd.read_csv('./data/BTC-USD.csv',sep=',', date_parser=True)\n",
    "df.drop('Adj Close', inplace = True, axis=1)\n",
    "df['Date'] = pd.to_datetime(df['Date'])\n",
    "df.set_index('Date',inplace=True)"
   ]
  },
  {
   "cell_type": "code",
   "execution_count": 3,
   "id": "450108c5",
   "metadata": {},
   "outputs": [],
   "source": [
    "End = '2018-11-25'"
   ]
  },
  {
   "cell_type": "code",
   "execution_count": 4,
   "id": "44c704e7",
   "metadata": {},
   "outputs": [],
   "source": [
    "End = pd.to_datetime(End)\n",
    "Start = (End - timedelta(days=365))\n",
    "df1 = df.loc[Start:End]\n",
    "df1.index = df1.index.map(mdates.date2num)"
   ]
  },
  {
   "cell_type": "code",
   "execution_count": 5,
   "id": "9bfa94df",
   "metadata": {},
   "outputs": [],
   "source": [
    "Min_pozycja = df1['Low'].argmin()\n",
    "Max_pozycja = df1['High'].argmax()"
   ]
  },
  {
   "cell_type": "code",
   "execution_count": 6,
   "id": "dd7ba386",
   "metadata": {},
   "outputs": [
    {
     "name": "stdout",
     "output_type": "stream",
     "text": [
      "Pierwszy trend:  Malejący\n",
      "Max/Min:  Wcześniej niż 10 dni od końca\n",
      "------------------------------------------------------------------------------\n",
      "TREND L1\n",
      "Znaleziona 2 punkty przez które można przeprowadzić linie trendu L1 spadkowy\n",
      "Punkt A:[17517.0, 20089.0], Punkt C: [17870.0, 5503.879762545228], a:-41.31762106927711\n",
      "------------------------------------------------------------------------------\n"
     ]
    },
    {
     "ename": "IndexError",
     "evalue": "single positional indexer is out-of-bounds",
     "output_type": "error",
     "traceback": [
      "\u001b[1;31m---------------------------------------------------------------------------\u001b[0m",
      "\u001b[1;31mIndexError\u001b[0m                                Traceback (most recent call last)",
      "\u001b[1;32m<ipython-input-6-ec0ce4516b21>\u001b[0m in \u001b[0;36m<module>\u001b[1;34m\u001b[0m\n\u001b[0;32m    109\u001b[0m         \u001b[1;32melse\u001b[0m\u001b[1;33m:\u001b[0m\u001b[1;33m\u001b[0m\u001b[1;33m\u001b[0m\u001b[0m\n\u001b[0;32m    110\u001b[0m             \u001b[0mdf21\u001b[0m\u001b[1;33m=\u001b[0m\u001b[0mdf2\u001b[0m\u001b[1;33m[\u001b[0m\u001b[0mB\u001b[0m\u001b[1;33m[\u001b[0m\u001b[1;36m0\u001b[0m\u001b[1;33m]\u001b[0m\u001b[1;33m+\u001b[0m\u001b[1;36m1\u001b[0m\u001b[1;33m:\u001b[0m\u001b[0mMax_idx2\u001b[0m\u001b[1;33m]\u001b[0m\u001b[1;33m\u001b[0m\u001b[1;33m\u001b[0m\u001b[0m\n\u001b[1;32m--> 111\u001b[1;33m             \u001b[0mBx\u001b[0m \u001b[1;33m=\u001b[0m \u001b[0mdf21\u001b[0m\u001b[1;33m.\u001b[0m\u001b[0miloc\u001b[0m\u001b[1;33m[\u001b[0m\u001b[1;36m0\u001b[0m\u001b[1;33m]\u001b[0m\u001b[1;33m.\u001b[0m\u001b[0mname\u001b[0m\u001b[1;33m\u001b[0m\u001b[1;33m\u001b[0m\u001b[0m\n\u001b[0m\u001b[0;32m    112\u001b[0m             \u001b[0mBy\u001b[0m \u001b[1;33m=\u001b[0m \u001b[0mdf21\u001b[0m\u001b[1;33m[\u001b[0m\u001b[1;34m'Low'\u001b[0m\u001b[1;33m]\u001b[0m\u001b[1;33m.\u001b[0m\u001b[0mloc\u001b[0m\u001b[1;33m[\u001b[0m\u001b[0mBx\u001b[0m\u001b[1;33m]\u001b[0m\u001b[1;33m\u001b[0m\u001b[1;33m\u001b[0m\u001b[0m\n\u001b[0;32m    113\u001b[0m             \u001b[0mB\u001b[0m \u001b[1;33m=\u001b[0m \u001b[1;33m[\u001b[0m\u001b[0mBx\u001b[0m\u001b[1;33m,\u001b[0m \u001b[0mBy\u001b[0m\u001b[1;33m]\u001b[0m\u001b[1;33m\u001b[0m\u001b[1;33m\u001b[0m\u001b[0m\n",
      "\u001b[1;32mC:\\ProgramData\\Anaconda3\\lib\\site-packages\\pandas\\core\\indexing.py\u001b[0m in \u001b[0;36m__getitem__\u001b[1;34m(self, key)\u001b[0m\n\u001b[0;32m    893\u001b[0m \u001b[1;33m\u001b[0m\u001b[0m\n\u001b[0;32m    894\u001b[0m             \u001b[0mmaybe_callable\u001b[0m \u001b[1;33m=\u001b[0m \u001b[0mcom\u001b[0m\u001b[1;33m.\u001b[0m\u001b[0mapply_if_callable\u001b[0m\u001b[1;33m(\u001b[0m\u001b[0mkey\u001b[0m\u001b[1;33m,\u001b[0m \u001b[0mself\u001b[0m\u001b[1;33m.\u001b[0m\u001b[0mobj\u001b[0m\u001b[1;33m)\u001b[0m\u001b[1;33m\u001b[0m\u001b[1;33m\u001b[0m\u001b[0m\n\u001b[1;32m--> 895\u001b[1;33m             \u001b[1;32mreturn\u001b[0m \u001b[0mself\u001b[0m\u001b[1;33m.\u001b[0m\u001b[0m_getitem_axis\u001b[0m\u001b[1;33m(\u001b[0m\u001b[0mmaybe_callable\u001b[0m\u001b[1;33m,\u001b[0m \u001b[0maxis\u001b[0m\u001b[1;33m=\u001b[0m\u001b[0maxis\u001b[0m\u001b[1;33m)\u001b[0m\u001b[1;33m\u001b[0m\u001b[1;33m\u001b[0m\u001b[0m\n\u001b[0m\u001b[0;32m    896\u001b[0m \u001b[1;33m\u001b[0m\u001b[0m\n\u001b[0;32m    897\u001b[0m     \u001b[1;32mdef\u001b[0m \u001b[0m_is_scalar_access\u001b[0m\u001b[1;33m(\u001b[0m\u001b[0mself\u001b[0m\u001b[1;33m,\u001b[0m \u001b[0mkey\u001b[0m\u001b[1;33m:\u001b[0m \u001b[0mTuple\u001b[0m\u001b[1;33m)\u001b[0m\u001b[1;33m:\u001b[0m\u001b[1;33m\u001b[0m\u001b[1;33m\u001b[0m\u001b[0m\n",
      "\u001b[1;32mC:\\ProgramData\\Anaconda3\\lib\\site-packages\\pandas\\core\\indexing.py\u001b[0m in \u001b[0;36m_getitem_axis\u001b[1;34m(self, key, axis)\u001b[0m\n\u001b[0;32m   1499\u001b[0m \u001b[1;33m\u001b[0m\u001b[0m\n\u001b[0;32m   1500\u001b[0m             \u001b[1;31m# validate the location\u001b[0m\u001b[1;33m\u001b[0m\u001b[1;33m\u001b[0m\u001b[1;33m\u001b[0m\u001b[0m\n\u001b[1;32m-> 1501\u001b[1;33m             \u001b[0mself\u001b[0m\u001b[1;33m.\u001b[0m\u001b[0m_validate_integer\u001b[0m\u001b[1;33m(\u001b[0m\u001b[0mkey\u001b[0m\u001b[1;33m,\u001b[0m \u001b[0maxis\u001b[0m\u001b[1;33m)\u001b[0m\u001b[1;33m\u001b[0m\u001b[1;33m\u001b[0m\u001b[0m\n\u001b[0m\u001b[0;32m   1502\u001b[0m \u001b[1;33m\u001b[0m\u001b[0m\n\u001b[0;32m   1503\u001b[0m             \u001b[1;32mreturn\u001b[0m \u001b[0mself\u001b[0m\u001b[1;33m.\u001b[0m\u001b[0mobj\u001b[0m\u001b[1;33m.\u001b[0m\u001b[0m_ixs\u001b[0m\u001b[1;33m(\u001b[0m\u001b[0mkey\u001b[0m\u001b[1;33m,\u001b[0m \u001b[0maxis\u001b[0m\u001b[1;33m=\u001b[0m\u001b[0maxis\u001b[0m\u001b[1;33m)\u001b[0m\u001b[1;33m\u001b[0m\u001b[1;33m\u001b[0m\u001b[0m\n",
      "\u001b[1;32mC:\\ProgramData\\Anaconda3\\lib\\site-packages\\pandas\\core\\indexing.py\u001b[0m in \u001b[0;36m_validate_integer\u001b[1;34m(self, key, axis)\u001b[0m\n\u001b[0;32m   1442\u001b[0m         \u001b[0mlen_axis\u001b[0m \u001b[1;33m=\u001b[0m \u001b[0mlen\u001b[0m\u001b[1;33m(\u001b[0m\u001b[0mself\u001b[0m\u001b[1;33m.\u001b[0m\u001b[0mobj\u001b[0m\u001b[1;33m.\u001b[0m\u001b[0m_get_axis\u001b[0m\u001b[1;33m(\u001b[0m\u001b[0maxis\u001b[0m\u001b[1;33m)\u001b[0m\u001b[1;33m)\u001b[0m\u001b[1;33m\u001b[0m\u001b[1;33m\u001b[0m\u001b[0m\n\u001b[0;32m   1443\u001b[0m         \u001b[1;32mif\u001b[0m \u001b[0mkey\u001b[0m \u001b[1;33m>=\u001b[0m \u001b[0mlen_axis\u001b[0m \u001b[1;32mor\u001b[0m \u001b[0mkey\u001b[0m \u001b[1;33m<\u001b[0m \u001b[1;33m-\u001b[0m\u001b[0mlen_axis\u001b[0m\u001b[1;33m:\u001b[0m\u001b[1;33m\u001b[0m\u001b[1;33m\u001b[0m\u001b[0m\n\u001b[1;32m-> 1444\u001b[1;33m             \u001b[1;32mraise\u001b[0m \u001b[0mIndexError\u001b[0m\u001b[1;33m(\u001b[0m\u001b[1;34m\"single positional indexer is out-of-bounds\"\u001b[0m\u001b[1;33m)\u001b[0m\u001b[1;33m\u001b[0m\u001b[1;33m\u001b[0m\u001b[0m\n\u001b[0m\u001b[0;32m   1445\u001b[0m \u001b[1;33m\u001b[0m\u001b[0m\n\u001b[0;32m   1446\u001b[0m     \u001b[1;31m# -------------------------------------------------------------------\u001b[0m\u001b[1;33m\u001b[0m\u001b[1;33m\u001b[0m\u001b[1;33m\u001b[0m\u001b[0m\n",
      "\u001b[1;31mIndexError\u001b[0m: single positional indexer is out-of-bounds"
     ]
    }
   ],
   "source": [
    "if Min_pozycja > Max_pozycja and Max_pozycja < len(df1)-10:\n",
    "    \n",
    "    # Trend spadkowy L1\n",
    "    \n",
    "    Max_idx = df1.iloc[Min_pozycja].name\n",
    "    Ax = df1.iloc[Max_pozycja].name\n",
    "    Ay = df1['High'].loc[Ax]\n",
    "    A = [Ax, Ay]\n",
    "    \n",
    "    Bx = df1.iloc[Max_pozycja].name\n",
    "    By = df1['High'].loc[Bx]\n",
    "    B = [Bx, By]\n",
    "    \n",
    "    a1 = (Ay-By)/(Ax-Bx)\n",
    "    b1 = By - a1*Bx\n",
    "    \n",
    "    df11=df1[A[0]:Max_idx]\n",
    "    df11['Pozycja na LT'] = df11.index * a1 + b1\n",
    "    df11['check']= round(df11['High'] - df11['Pozycja na LT'],0)\n",
    "    good = df11['check'][df11['check']<=0].count()\n",
    "    sum = len(df11['check'])\n",
    "    \n",
    "    for i in range(len(df11)):\n",
    "        \n",
    "        df11=df1[B[0]:Max_idx]\n",
    "        Bx = df11.iloc[0].name\n",
    "        By = df11['High'].loc[Bx]\n",
    "        B = [Bx, By]\n",
    "\n",
    "        a1 = (Ay-By)/(Ax-Bx)\n",
    "        b1 = By - a1*Bx\n",
    "\n",
    "        df11['Pozycja na LT'] = df11.index * a1 + b1\n",
    "        df11['check']= round(df11['High'] - df11['Pozycja na LT'],0)\n",
    "        good = df11['check'][df11['check']<=0].count()\n",
    "        sum = len(df11['check'])\n",
    "\n",
    "        if good == sum:\n",
    "            print('Pierwszy trend:  Malejący')\n",
    "            print('Max/Min:  Wcześniej niż 10 dni od końca')\n",
    "            print('------------------------------------------------------------------------------')\n",
    "            print('TREND L1')\n",
    "            print('Znaleziona 2 punkty przez które można przeprowadzić linie trendu L1 spadkowy')\n",
    "            print(f'Punkt A:{A}, Punkt C: {C}, a:{a1}')\n",
    "            print('------------------------------------------------------------------------------')\n",
    "            break\n",
    "            \n",
    "        else:\n",
    "            df11=df1[B[0]+1:Max_idx]\n",
    "            Bx = df11.iloc[0].name\n",
    "            By = df11['High'].loc[Bx]\n",
    "            B = [Bx, By]\n",
    "\n",
    "            a1 = (Ay-By)/(Ax-Bx)\n",
    "            b1 = By - a1*Bx\n",
    "                \n",
    "        Cx = df11.index.max() +10\n",
    "        Cy = a1*Cx +b1\n",
    "        C = [Cx, Cy]\n",
    "\n",
    "        X_long = [Ax, Cx]\n",
    "        Y_long = [Ay, Cy]\n",
    "        \n",
    "        \n",
    "# Trend wzrostowy M1\n",
    "    \n",
    "    df2 = df1.iloc[Min_pozycja:]\n",
    "    Max_pozycja2 = df2['High'].argmax()\n",
    "    Max_idx2 = df2.iloc[Max_pozycja2].name\n",
    "    \n",
    "    Ax = df2.iloc[0].name\n",
    "    Ay = df2['Low'].loc[Ax]\n",
    "    A = [Ax, Ay]\n",
    "    \n",
    "    Bx = df2.iloc[0].name\n",
    "    By = df2['Low'].loc[Bx]\n",
    "    B = [Bx, By]\n",
    "    \n",
    "    a2 = (Ay-By)/(Ax-Bx)\n",
    "    b2 = By - a2*Bx\n",
    "    \n",
    "    df21 = df2[A[0]:Max_idx2]\n",
    "    df21['Pozycja na LT'] = df21.index * a2 + b2\n",
    "    df21['check']= round(df21['Low'] - df21['Pozycja na LT'],0)\n",
    "    good = df21['check'][df21['check']>=0].count()\n",
    "    sum = len(df21['check'])\n",
    "    \n",
    "    for i in range(len(df21)):\n",
    "        \n",
    "        df21=df2[B[0]:Max_idx2]\n",
    "        Bx = df21.iloc[0].name\n",
    "        By = df21['Low'].loc[Bx]\n",
    "        B = [Bx, By]\n",
    "\n",
    "        a2 = (Ay-By)/(Ax-Bx)\n",
    "        b2 = By - a2*Bx\n",
    "\n",
    "        df21['Pozycja na LT'] = df21.index * a2 + b2\n",
    "        df21['check']= round(df21['Low'] - df21['Pozycja na LT'],0)\n",
    "        good = df21['check'][df21['check']>=0].count()\n",
    "        sum = len(df21['check'])\n",
    "\n",
    "        if good == sum:\n",
    "            print('TREND M1')\n",
    "            print('Znaleziona 2 punkty przez które można przeprowadzić linie trendu M1 - wzrostowy')\n",
    "            print(f'Punkt A:{A}, Punkt C: {C} a:{a2}')\n",
    "            break\n",
    "            \n",
    "        else:\n",
    "            df21=df2[B[0]+1:Max_idx2]\n",
    "            Bx = df21.iloc[0].name\n",
    "            By = df21['Low'].loc[Bx]\n",
    "            B = [Bx, By]\n",
    "\n",
    "            a2 = (Ay-By)/(Ax-Bx)\n",
    "            b2 = By - a2*Bx\n",
    "                \n",
    "            Cx = df2.index.max() +10\n",
    "            Cy = a2*Cx +b2\n",
    "            C = [Cx, Cy]\n",
    "\n",
    "            X_mid1 = [Ax, Cx]\n",
    "            Y_mid1 = [Ay, Cy]\n",
    "            \n",
    "\n",
    "            "
   ]
  },
  {
   "cell_type": "markdown",
   "id": "cc1b9683",
   "metadata": {},
   "source": [
    "# Szukamy punktów przecinających linie trendu"
   ]
  },
  {
   "cell_type": "code",
   "execution_count": 7,
   "id": "72fd11d7",
   "metadata": {},
   "outputs": [
    {
     "data": {
      "text/plain": [
       "17860.0"
      ]
     },
     "execution_count": 7,
     "metadata": {},
     "output_type": "execute_result"
    }
   ],
   "source": [
    "Max_idx2"
   ]
  },
  {
   "cell_type": "code",
   "execution_count": 7,
   "id": "0aa85045",
   "metadata": {},
   "outputs": [
    {
     "name": "stdout",
     "output_type": "stream",
     "text": [
      "Przebicie trendu wzrostowego M1 w dół\n",
      "Punkt przecięcia: 248.2229920000009\n",
      "Punkt wsparcia: 211.078995\n",
      "---------------------------------------\n",
      "Second BP founded\n",
      "BP2Price: 210.494995, BP2Position: 16671.0\n",
      "\n"
     ]
    }
   ],
   "source": [
    "df3 = df2[Max_idx2:]\n",
    "df3['TrendLine'] = df3.index * a2 + b2\n",
    "df3['Distance(Low-TL)'] = df3['Close'] - df3['TrendLine']\n",
    "\n",
    "QPointsAfterBrake = df3['Distance(Low-TL)'][df3['Distance(Low-TL)']<0].count()\n",
    "\n",
    "#Sprawdzamy czy cena przebija linie trendu M1\n",
    "\n",
    "if QPointsAfterBrake > 0:\n",
    "    \n",
    "    ClosingPrice_BP =  df3['Close'][df3['Distance(Low-TL)']<0].iloc[0]\n",
    "    ClosingPrice_BPPosition = df3.index[df3['Distance(Low-TL)']<0][0]\n",
    "    PointBeforeBPPosition = ClosingPrice_BPPosition - 1\n",
    "    PointBeforeBPPrice = df3['Close'].loc[PointBeforeBPPosition]\n",
    "    TrendPriceBeforeBP  =  PointBeforeBPPosition * a2 + b2\n",
    "\n",
    "    #Jeśli przebicie w dół:\n",
    "    if TrendPriceBeforeBP < PointBeforeBPPrice:\n",
    "\n",
    "        ClosingPrice_BPPositionEnd = df3.index[-1]+5\n",
    "        BPPrice = ClosingPrice_BPPosition *a2 + b2\n",
    "\n",
    "\n",
    "        XBP = [ClosingPrice_BPPosition, ClosingPrice_BPPositionEnd]\n",
    "        YBP = [BPPrice, BPPrice]\n",
    "        XClosingPrice = [ClosingPrice_BPPosition, ClosingPrice_BPPositionEnd]\n",
    "        YClosingPrice = [ClosingPrice_BP, ClosingPrice_BP]\n",
    "        BPPrice = ClosingPrice_BPPosition *a2 + b2\n",
    "\n",
    "        print('Przebicie trendu wzrostowego M1 w dół')\n",
    "        print(f'Punkt przecięcia: {YBP[0]}')\n",
    "        print(f'Punkt wsparcia: {YClosingPrice[0]}')\n",
    "        print('---------------------------------------')\n",
    "        \n",
    "        # liczymy przełamania cen w korytarzu\n",
    "        \n",
    "        df4 = df2[ClosingPrice_BPPosition:]\n",
    "        df4['DownLine'] = ClosingPrice_BP\n",
    "        df4['UpLine'] = BPPrice\n",
    "        df4['Down-Close'] = df4['Close'] - df4['DownLine']\n",
    "        df4['UP-Close'] = df4['UpLine'] - df4['Close']\n",
    "        \n",
    "        DownBreaks = len(df4['Close'][df4['Down-Close'] < 0])\n",
    "        UpBreaks = len(df4['Close'][df4['UP-Close'] < 0])\n",
    "\n",
    "        # Jeśli wystąpiło tylko jedno przerwanie:\n",
    "        if DownBreaks > 0 and UpBreaks ==0:\n",
    "\n",
    "            BP2Price = df4['Close'][df4['Down-Close'] < 0].iloc[0]\n",
    "            BP2Possition = df4.index[df4['Down-Close']<0][0]\n",
    "            BP2 = [BP2Possition, BP2Price]\n",
    "            print('Second BP founded')\n",
    "            print(f'BP2Price: {BP2Price}, BP2Position: {BP2Possition}')\n",
    "            \n",
    "            # WYKRES: Tunele, BP1, BP2\n",
    "            \n",
    "            \n",
    "\n",
    "            # Jeśli przebicie przekraczające 50% wielkości tunelu:\n",
    "            \n",
    "            HeightOfTunel = BPPrice - ClosingPrice_BP\n",
    "            HeightOfBreak = ClosingPrice_BP - BP2Price\n",
    "            \n",
    "            if HeightOfBreak >= 0.5 * HeightOfTunel:\n",
    "                print('BP2 break Tunel by more than 50% height of tunel')\n",
    "                print('Short position recomended')\n",
    "                \n",
    "                #Wykres: Tunele, BP1, BP2\n",
    "                \n",
    "                \n",
    "            else:\n",
    "                print('')\n",
    "\n",
    "        # Jeśli wystąpiło przebicie w górę:        \n",
    "        elif UpBreaks >0 and DownBreaks ==0:\n",
    "\n",
    "            BP3Price = df4['Close'][df4['UP-Close'] < 0].iloc[0]\n",
    "            BP3Position = df4.index[df4['UP-Close'] < 0][0]\n",
    "            BP3 = [BP3Position, BP3Price]\n",
    "            print('Third BP founded')\n",
    "            print(f'BP2Price: {BP3Price}, BP2Position: {BP3Position}')\n",
    "            \n",
    "            #WYKRES: Tunele, BP1 i BP3\n",
    "            \n",
    "\n",
    "            # Jeśli  przebicie przekraczające 50% wielkości tunelu:\n",
    "            \n",
    "            HeightOfTunel = BPPrice - ClosingPrice_BP\n",
    "            HeightOfBreak = BP3Price - BPPrice\n",
    "            \n",
    "            if HeightOfBreak >= 0.5 * HeightOfTunel:\n",
    "                print('BP2 break Tunel by more than 50% height of tunel')\n",
    "                print('Long position recomended')\n",
    "                \n",
    "                #WYKRES: Tunele, BP1 i BP3\n",
    "                \n",
    "            else:\n",
    "                print('')\n",
    "\n",
    "        #Jeśli przebiło w górę i w dół:\n",
    "        elif DownBreaks > 0 and UpBreaks > 0:\n",
    "\n",
    "            BP2Price = df4['Close'][df4['Down-Close'] < 0].iloc[0]\n",
    "            BP2Possition = df4.index[df4['Down-Close']<0][0]\n",
    "\n",
    "            BP3Price = df4['Close'][df4['UP-Close'] < 0].iloc[0]\n",
    "            BP3Position = df4.index[df4['UP-Close'] < 0][0]\n",
    "\n",
    "            #Jeśli przebicie w dół było pierwsze\n",
    "            if BP2Possition < BP3Position:\n",
    "                BP1 = [ClosingPrice_BPPosition, BPPrice]\n",
    "                BP2 = [BP2Possition, ClosingPrice_BP]\n",
    "                BP3 = [BP3Position, BPPrice]\n",
    "                \n",
    "                print('Long Position recomended')\n",
    "                print(f'First Break Point: {BP1}')\n",
    "                print(f'Second Break Point: {BP2}')\n",
    "                print(f'Third and decisive Break Point: {BP3}')\n",
    "                \n",
    "                #WYKRES: Tunele, BP1, BP2, BP3\n",
    "\n",
    "            elif BP2Possition < BP3Position:\n",
    "                \n",
    "                \n",
    "                print('Short Position recomended')\n",
    "                \n",
    "    #Jeśli nie nasąpiło przerwanie lini trendu M1            \n",
    "    else:        \n",
    "         #Sam wykres z trendami       \n",
    "        \n",
    "        else:\n",
    "            print('There is no BP yet')\n",
    "        \n",
    "else:\n",
    "    print('Brak przecięcia Lini trendu')"
   ]
  },
  {
   "cell_type": "code",
   "execution_count": null,
   "id": "fa2ff750",
   "metadata": {},
   "outputs": [],
   "source": []
  },
  {
   "cell_type": "code",
   "execution_count": 20,
   "id": "a674da18",
   "metadata": {},
   "outputs": [
    {
     "data": {
      "text/plain": [
       "210.494995"
      ]
     },
     "execution_count": 20,
     "metadata": {},
     "output_type": "execute_result"
    }
   ],
   "source": [
    "BP2[1]"
   ]
  },
  {
   "cell_type": "code",
   "execution_count": 21,
   "id": "6dd1efcc",
   "metadata": {
    "scrolled": true
   },
   "outputs": [
    {
     "name": "stdout",
     "output_type": "stream",
     "text": [
      "Cena nie przeciełą trendu M1\n"
     ]
    }
   ],
   "source": [
    "df5 = df2[BP2[0]:]\n",
    "df5['TrendLine'] = df5.index * a2 + b2\n",
    "df5['UpBreakOfTL'] = df5['Close'] - df5['TrendLine']\n",
    "\n",
    "if len(df5[df5['UpBreakOfTL']>0]) > 0:\n",
    "    \n",
    "    BPUPosition = df5.index[df5['UpBreakOfTL']>0][0]\n",
    "    BPUPrice = df5['Close'][df5['UpBreakOfTL'] > 0].iloc[0]\n",
    "    \n",
    "    print('Nastąpiło przerwanie trendu M1 w górę')\n",
    "    print(f'Pozycja przerwania: {BPUPosition}')\n",
    "    print(f'Cena przecięcia: {BPUPrice}')\n",
    "    print('---------------------------------------------')\n",
    "\n",
    "\n",
    "    df5  = df5[BPUPosition:]\n",
    "\n",
    "    if len(df5['UpBreakOfTL'] < 0) > 0:\n",
    "\n",
    "        NextBPPosition = df5.index[df5['UpBreakOfTL'] < 0][0]\n",
    "        NextBPTLPrice = df5['TrendLine'][df5['UpBreakOfTL'] < 0].iloc[0]\n",
    "        NextBPClosePrice = df5['Close'][df5['UpBreakOfTL'] < 0].iloc[0]\n",
    "        NextBPPositionEnd = df5.index[-1]+5\n",
    "\n",
    "        #Korytarze:\n",
    "\n",
    "        SecondXBP = [NextBPPosition, NextBPPosition]\n",
    "        SecondYBP = [NextBPTLPrice, NextBPTLPrice]\n",
    "        SecondXClosingPrice = [NextBPPosition, NextBPPosition]\n",
    "        SecondYClosingPrice = [NextBPClosePrice, NextBPClosePrice]\n",
    "\n",
    "\n",
    "\n",
    "        print('Kolejne przerwanie trendu M1 w dół')\n",
    "        print(f'Cena przecięcia: {NextBPTLPrice}')\n",
    "        print(f'Pozycja przecięcia: {NextBPPosition}')\n",
    "        print(f'Poziom wsparcia: {NextBPClosePrice}')\n",
    "        print('---------------------------------------------')\n",
    "\n",
    "        # liczymy przełamania cen w korytarzu\n",
    "        \n",
    "        df6 = df2[NextBPPosition:]\n",
    "        df6['DownLine2'] = NextBPClosePrice\n",
    "        df6['UpLine2'] = NextBPTLPrice\n",
    "        df6['Down-Close2'] = df6['Close'] - df6['DownLine2']\n",
    "        df6['UP-Close2'] = df6['UpLine2'] - df6['Close']\n",
    "\n",
    "        SecondDownBreaks = len(df6['Close'][df6['Down-Close2'] < 0])\n",
    "        SecondUpBreaks = len(df6['Close'][df6['UP-Close2'] < 0])\n",
    "\n",
    "        if SecondDownBreaks > 0 and SecondUpBreaks ==0:\n",
    "\n",
    "            SecondBP2Price = df6['Close'][df6['Down-Close2'] < 0].iloc[0]\n",
    "            SecondBP2Possition = df6.index[df6['Down-Close2']<0][0]\n",
    "            print('Second BP founded in second break')\n",
    "            print(f'Second BP2Price: {SecondBP2Price}, Second BP2Position: {SecondBP2Possition}')\n",
    "\n",
    "            # przebicie przekraczające 50% wielkości tunelu:\n",
    "            \n",
    "            HeightOfTunel = NextBPTLPrice - NextBPClosePrice\n",
    "            HeightOfBreak = NextBPClosePrice - SecondBP2Price\n",
    "            \n",
    "            if HeightOfBreak >= 0.5 * HeightOfTunel:\n",
    "                print('Second BP2 break Tunel by more than 50% height of tunel')\n",
    "                print('Short position recomended')\n",
    "            else:\n",
    "                print('')\n",
    "\n",
    "        elif SecondUpBreaks >0 and SecondDownBreaks ==0:\n",
    "\n",
    "            SecondBP3Price = df6['Close'][df6['UP-Close2'] < 0].iloc[0]\n",
    "            SecondBP3Position = df6.index[df6['UP-Close2'] < 0][0]\n",
    "            print('Third BP founded in second break')\n",
    "            print(f'Second BP3Price: {SecondBP3Price}, Second BP3Position: {SecondBP3Position}')\n",
    "\n",
    "            # przebicie przekraczające 50% wielkości tunelu:\n",
    "\n",
    "            HeightOfTunel = NextBPTLPrice - NextBPClosePrice\n",
    "            HeightOfBreak = SecondBP3Price - NextBPTLPrice\n",
    "            \n",
    "            if HeightOfBreak >= 0.5 * HeightOfTunel:\n",
    "                print('Second BP3 break Tunel by more than 50% height of tunel')\n",
    "                print('Long position recomended')\n",
    "            else:\n",
    "                print('')\n",
    "\n",
    "\n",
    "        elif DownBreaks > 0 and UpBreaks > 0:\n",
    "\n",
    "            SecondBP2Price = df6['Close'][df4['Down-Close2'] < 0].iloc[0]\n",
    "            SecondBP2Possition = df6.index[df4['Down-Close2']<0][0]\n",
    "\n",
    "            SecondBP3Price = df6['Close'][df4['UP-Close2'] < 0].iloc[0]\n",
    "            SecondBP3Position = df6.index[df4['UP-Close2'] < 0][0]\n",
    "\n",
    "            if SecondBP2Possition < SecondBP3Position:\n",
    "                SecondBP1 = [ClosingPrice_BPPosition, BPPrice]\n",
    "                SecondBP2 = [BP2Possition, ClosingPrice_BP]\n",
    "                SecondBP3 = [BP3Position, BPPrice]\n",
    "\n",
    "                print('Long Position recomended')\n",
    "                print(f'First Break Point: {SecondBP1}')\n",
    "                print(f'Second Break Point: {SecondBP2}')\n",
    "                print(f'Third and decisive Break Point: {SecondBP3}')\n",
    "\n",
    "            elif SecondBP2Possition < SecondBP3Position:\n",
    "                print('Short Position recomended')\n",
    "\n",
    "    else:\n",
    "        print('Brak kolejnych przełamań na lini M1 cena w dół')\n",
    "    \n",
    "else:\n",
    "    print('Cena nie przeciełą trendu M1')"
   ]
  },
  {
   "cell_type": "code",
   "execution_count": null,
   "id": "1ad22780",
   "metadata": {},
   "outputs": [],
   "source": [
    "SecondBP1 = [ClosingPrice_BPPosition, BPPrice]\n",
    "SecondBP2 = [BP2Possition, ClosingPrice_BP]\n",
    "SecondBP3 = [BP3Position, BPPrice]"
   ]
  },
  {
   "cell_type": "code",
   "execution_count": null,
   "id": "d8326c48",
   "metadata": {},
   "outputs": [],
   "source": [
    "BP1 = [ClosingPrice_BPPosition, BPPrice]\n",
    "BP2 = [BP2Possition, ClosingPrice_BP]\n",
    "BP3 = [BP3Position, BPPrice]"
   ]
  },
  {
   "cell_type": "code",
   "execution_count": null,
   "id": "3ad44958",
   "metadata": {},
   "outputs": [],
   "source": []
  },
  {
   "cell_type": "code",
   "execution_count": null,
   "id": "1db1af64",
   "metadata": {},
   "outputs": [],
   "source": []
  },
  {
   "cell_type": "code",
   "execution_count": null,
   "id": "d8d6a9eb",
   "metadata": {},
   "outputs": [],
   "source": []
  },
  {
   "cell_type": "code",
   "execution_count": null,
   "id": "79dda2ba",
   "metadata": {},
   "outputs": [],
   "source": []
  },
  {
   "cell_type": "code",
   "execution_count": null,
   "id": "50f38ddb",
   "metadata": {},
   "outputs": [],
   "source": []
  },
  {
   "cell_type": "code",
   "execution_count": null,
   "id": "094cb3a2",
   "metadata": {},
   "outputs": [],
   "source": []
  },
  {
   "cell_type": "code",
   "execution_count": null,
   "id": "756adc65",
   "metadata": {},
   "outputs": [],
   "source": []
  },
  {
   "cell_type": "code",
   "execution_count": 8,
   "id": "3693ba22",
   "metadata": {},
   "outputs": [
    {
     "data": {
      "text/plain": [
       "'df5.reset_index(inplace = True)'"
      ]
     },
     "execution_count": 8,
     "metadata": {},
     "output_type": "execute_result"
    }
   ],
   "source": [
    "df1.reset_index(inplace = True)\n",
    "df2.reset_index(inplace = True)\n",
    "'''df5.reset_index(inplace = True)'''"
   ]
  },
  {
   "cell_type": "code",
   "execution_count": 9,
   "id": "0a1275d6",
   "metadata": {},
   "outputs": [
    {
     "ename": "NameError",
     "evalue": "name 'X_mid1' is not defined",
     "output_type": "error",
     "traceback": [
      "\u001b[1;31m---------------------------------------------------------------------------\u001b[0m",
      "\u001b[1;31mNameError\u001b[0m                                 Traceback (most recent call last)",
      "\u001b[1;32m<ipython-input-9-bcdbe23c16e6>\u001b[0m in \u001b[0;36m<module>\u001b[1;34m\u001b[0m\n\u001b[0;32m      9\u001b[0m \u001b[1;33m\u001b[0m\u001b[0m\n\u001b[0;32m     10\u001b[0m \u001b[0max2\u001b[0m\u001b[1;33m.\u001b[0m\u001b[0mplot\u001b[0m\u001b[1;33m(\u001b[0m\u001b[0mX_long\u001b[0m\u001b[1;33m,\u001b[0m \u001b[0mY_long\u001b[0m\u001b[1;33m,\u001b[0m \u001b[0mlabel\u001b[0m\u001b[1;33m=\u001b[0m\u001b[1;34m'Trend L1'\u001b[0m\u001b[1;33m,\u001b[0m \u001b[0malpha\u001b[0m \u001b[1;33m=\u001b[0m \u001b[1;36m0.4\u001b[0m\u001b[1;33m)\u001b[0m\u001b[1;33m\u001b[0m\u001b[1;33m\u001b[0m\u001b[0m\n\u001b[1;32m---> 11\u001b[1;33m \u001b[0max2\u001b[0m\u001b[1;33m.\u001b[0m\u001b[0mplot\u001b[0m\u001b[1;33m(\u001b[0m\u001b[0mX_mid1\u001b[0m\u001b[1;33m,\u001b[0m \u001b[0mY_mid1\u001b[0m\u001b[1;33m,\u001b[0m \u001b[0mlabel\u001b[0m\u001b[1;33m=\u001b[0m\u001b[1;34m'Trend M1-  Short'\u001b[0m\u001b[1;33m,\u001b[0m \u001b[0malpha\u001b[0m \u001b[1;33m=\u001b[0m \u001b[1;36m0.5\u001b[0m\u001b[1;33m)\u001b[0m\u001b[1;33m\u001b[0m\u001b[1;33m\u001b[0m\u001b[0m\n\u001b[0m\u001b[0;32m     12\u001b[0m \u001b[1;33m\u001b[0m\u001b[0m\n\u001b[0;32m     13\u001b[0m '''ax3.plot(XBPU, YBPU, color='black', alpha = 0.4)\n",
      "\u001b[1;31mNameError\u001b[0m: name 'X_mid1' is not defined"
     ]
    },
    {
     "data": {
      "image/png": "[encoded data removed]",
      "text/plain": [
       "<Figure size 1440x936 with 1 Axes>"
      ]
     },
     "metadata": {
      "needs_background": "light"
     },
     "output_type": "display_data"
    }
   ],
   "source": [
    "fig = plt.figure(figsize=(20,13))\n",
    "ax1 = fig.add_subplot(111)\n",
    "ax2 = fig.add_subplot(111)\n",
    "'''ax3 = fig.add_subplot(111)'''\n",
    "\n",
    "\n",
    "ax1.xaxis_date()\n",
    "ax1.xaxis.set_major_formatter(mdates.DateFormatter('%d-%m-%Y'))\n",
    "\n",
    "ax2.plot(X_long, Y_long, label='Trend L1', alpha = 0.4)\n",
    "ax2.plot(X_mid1, Y_mid1, label='Trend M1-  Short', alpha = 0.5)\n",
    "\n",
    "'''ax3.plot(XBPU, YBPU, color='black', alpha = 0.4)\n",
    "ax3.plot(XOpen, YOpen, color='black', alpha = 0.5)'''\n",
    "\n",
    "\n",
    "\n",
    "\n",
    "plt.ylabel(\"Price\")\n",
    "plt.title('SPX500')\n",
    "ax1.grid(True)\n",
    "plt.legend(loc='best')\n",
    "plt.xticks(rotation=45)\n",
    "candlestick_ohlc(ax1, df1.values, width=0.6, colorup='g', colordown='r')\n",
    "plt.show()"
   ]
  },
  {
   "cell_type": "code",
   "execution_count": null,
   "id": "45ad71f0",
   "metadata": {},
   "outputs": [],
   "source": []
  },
  {
   "cell_type": "code",
   "execution_count": null,
   "id": "63238d5c",
   "metadata": {},
   "outputs": [],
   "source": []
  },
  {
   "cell_type": "code",
   "execution_count": null,
   "id": "74c677fa",
   "metadata": {},
   "outputs": [],
   "source": []
  },
  {
   "cell_type": "code",
   "execution_count": null,
   "id": "1445c15e",
   "metadata": {},
   "outputs": [],
   "source": []
  },
  {
   "cell_type": "code",
   "execution_count": null,
   "id": "51c344bf",
   "metadata": {},
   "outputs": [],
   "source": []
  },
  {
   "cell_type": "code",
   "execution_count": null,
   "id": "a320a2be",
   "metadata": {},
   "outputs": [],
   "source": []
  },
  {
   "cell_type": "code",
   "execution_count": null,
   "id": "a581ea46",
   "metadata": {},
   "outputs": [],
   "source": []
  },
  {
   "cell_type": "code",
   "execution_count": null,
   "id": "095895a1",
   "metadata": {},
   "outputs": [],
   "source": []
  },
  {
   "cell_type": "code",
   "execution_count": null,
   "id": "0c93d5a5",
   "metadata": {},
   "outputs": [],
   "source": []
  },
  {
   "cell_type": "code",
   "execution_count": null,
   "id": "a7c2f4c8",
   "metadata": {},
   "outputs": [],
   "source": []
  },
  {
   "cell_type": "code",
   "execution_count": null,
   "id": "201592e4",
   "metadata": {},
   "outputs": [],
   "source": []
  },
  {
   "cell_type": "code",
   "execution_count": null,
   "id": "08fc05a2",
   "metadata": {},
   "outputs": [],
   "source": []
  },
  {
   "cell_type": "code",
   "execution_count": null,
   "id": "99022568",
   "metadata": {},
   "outputs": [],
   "source": []
  },
  {
   "cell_type": "code",
   "execution_count": null,
   "id": "e75ce3c7",
   "metadata": {},
   "outputs": [],
   "source": []
  },
  {
   "cell_type": "code",
   "execution_count": null,
   "id": "6bcf0469",
   "metadata": {},
   "outputs": [],
   "source": []
  },
  {
   "cell_type": "code",
   "execution_count": null,
   "id": "9023271e",
   "metadata": {},
   "outputs": [],
   "source": []
  },
  {
   "cell_type": "code",
   "execution_count": null,
   "id": "86476acd",
   "metadata": {},
   "outputs": [],
   "source": []
  },
  {
   "cell_type": "code",
   "execution_count": null,
   "id": "0791e593",
   "metadata": {},
   "outputs": [],
   "source": []
  },
  {
   "cell_type": "code",
   "execution_count": 180,
   "id": "4cf48cb8",
   "metadata": {},
   "outputs": [
    {
     "data": {
      "text/plain": [
       "0"
      ]
     },
     "execution_count": 180,
     "metadata": {},
     "output_type": "execute_result"
    }
   ],
   "source": [
    "UpBreaks"
   ]
  },
  {
   "cell_type": "code",
   "execution_count": 193,
   "id": "98fd18e6",
   "metadata": {},
   "outputs": [],
   "source": [
    "df1.reset_index(inplace = True)\n",
    "df2.reset_index(inplace = True)\n",
    "df3.reset_index(inplace = True)\n",
    "df4.reset_index(inplace = True)"
   ]
  },
  {
   "cell_type": "code",
   "execution_count": 194,
   "id": "646f3f0d",
   "metadata": {},
   "outputs": [
    {
     "data": {
      "image/png": "[encoded data removed]",
      "text/plain": [
       "<Figure size 1440x936 with 1 Axes>"
      ]
     },
     "metadata": {
      "needs_background": "light"
     },
     "output_type": "display_data"
    }
   ],
   "source": [
    "fig = plt.figure(figsize=(20,13))\n",
    "ax1 = fig.add_subplot(111)\n",
    "ax2 = fig.add_subplot(111)\n",
    "ax3 = fig.add_subplot(111)\n",
    "ax4 = fig.add_subplot(111)\n",
    "ax5 = fig.add_subplot(111)\n",
    "\n",
    "ax1.xaxis_date()\n",
    "ax1.xaxis.set_major_formatter(mdates.DateFormatter('%d-%m-%Y'))\n",
    "\n",
    "ax2.plot(X_long, Y_long, label='Trend L1', alpha = 0.4)\n",
    "ax2.plot(X_mid1, Y_mid1, label='Trend M1-  Short', alpha = 0.5)\n",
    "\n",
    "ax3.plot(XBP, YBP, color='black', alpha = 0.4)\n",
    "ax3.plot(XClosingPrice, YClosingPrice, color='black', alpha = 0.5)\n",
    "\n",
    "ax4.scatter(BP1[0], BP1[1], alpha=1, color = 'red', edgecolors = 'face' )\n",
    "ax4.scatter(BP2[0], BP2[1], alpha=1, color = 'red', edgecolors = 'face' )\n",
    "ax4.scatter(BP3[0], BP3[1], alpha=1, color = 'red', edgecolors = 'face' )\n",
    "\n",
    "\n",
    "\n",
    "plt.ylabel(\"Price\")\n",
    "plt.title('SPX500')\n",
    "ax1.grid(True)\n",
    "plt.legend(loc='best')\n",
    "plt.xticks(rotation=45)\n",
    "candlestick_ohlc(ax1, df1.values, width=0.6, colorup='g', colordown='r')\n",
    "plt.show()"
   ]
  },
  {
   "cell_type": "code",
   "execution_count": null,
   "id": "b2513517",
   "metadata": {},
   "outputs": [],
   "source": []
  },
  {
   "cell_type": "code",
   "execution_count": null,
   "id": "6c24a55d",
   "metadata": {},
   "outputs": [],
   "source": []
  },
  {
   "cell_type": "code",
   "execution_count": null,
   "id": "8348e417",
   "metadata": {},
   "outputs": [],
   "source": []
  },
  {
   "cell_type": "code",
   "execution_count": null,
   "id": "686e7247",
   "metadata": {},
   "outputs": [],
   "source": []
  },
  {
   "cell_type": "code",
   "execution_count": null,
   "id": "bced9faf",
   "metadata": {},
   "outputs": [],
   "source": []
  }
 ],
 "metadata": {
  "kernelspec": {
   "display_name": "Python 3",
   "language": "python",
   "name": "python3"
  },
  "language_info": {
   "codemirror_mode": {
    "name": "ipython",
    "version": 3
   },
   "file_extension": ".py",
   "mimetype": "text/x-python",
   "name": "python",
   "nbconvert_exporter": "python",
   "pygments_lexer": "ipython3",
   "version": "3.8.8"
  }
 },
 "nbformat": 4,
 "nbformat_minor": 5
}
