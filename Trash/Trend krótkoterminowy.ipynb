{
 "cells": [
  {
   "cell_type": "code",
   "execution_count": 66,
   "id": "1006bafb",
   "metadata": {},
   "outputs": [],
   "source": [
    "import pandas as pd\n",
    "import numpy as np\n",
    "import matplotlib.pyplot as plt\n",
    "%matplotlib inline\n",
    "\n",
    "from mpl_finance import candlestick_ohlc\n",
    "\n",
    "import matplotlib.dates as mdates\n",
    "import datetime as dt\n",
    "from datetime import date, timedelta\n",
    "from datetime import timedelta, datetime\n",
    "\n",
    "from scipy.stats import linregress\n",
    "\n",
    "import warnings\n",
    "warnings.filterwarnings(\"ignore\")"
   ]
  },
  {
   "cell_type": "code",
   "execution_count": 67,
   "id": "c578fa7d",
   "metadata": {
    "scrolled": true
   },
   "outputs": [
    {
     "data": {
      "text/html": [
       "<div>\n",
       "<style scoped>\n",
       "    .dataframe tbody tr th:only-of-type {\n",
       "        vertical-align: middle;\n",
       "    }\n",
       "\n",
       "    .dataframe tbody tr th {\n",
       "        vertical-align: top;\n",
       "    }\n",
       "\n",
       "    .dataframe thead th {\n",
       "        text-align: right;\n",
       "    }\n",
       "</style>\n",
       "<table border=\"1\" class=\"dataframe\">\n",
       "  <thead>\n",
       "    <tr style=\"text-align: right;\">\n",
       "      <th></th>\n",
       "      <th>Otwarcie</th>\n",
       "      <th>Najwyzszy</th>\n",
       "      <th>Najnizszy</th>\n",
       "      <th>Zamkniecie</th>\n",
       "      <th>Wolumen</th>\n",
       "    </tr>\n",
       "    <tr>\n",
       "      <th>Data</th>\n",
       "      <th></th>\n",
       "      <th></th>\n",
       "      <th></th>\n",
       "      <th></th>\n",
       "      <th></th>\n",
       "    </tr>\n",
       "  </thead>\n",
       "  <tbody>\n",
       "    <tr>\n",
       "      <th>1789-05-01</th>\n",
       "      <td>0.51</td>\n",
       "      <td>0.51</td>\n",
       "      <td>0.51</td>\n",
       "      <td>0.51</td>\n",
       "      <td>NaN</td>\n",
       "    </tr>\n",
       "    <tr>\n",
       "      <th>1789-06-01</th>\n",
       "      <td>0.51</td>\n",
       "      <td>0.51</td>\n",
       "      <td>0.51</td>\n",
       "      <td>0.51</td>\n",
       "      <td>NaN</td>\n",
       "    </tr>\n",
       "    <tr>\n",
       "      <th>1789-07-01</th>\n",
       "      <td>0.50</td>\n",
       "      <td>0.50</td>\n",
       "      <td>0.50</td>\n",
       "      <td>0.50</td>\n",
       "      <td>NaN</td>\n",
       "    </tr>\n",
       "    <tr>\n",
       "      <th>1789-08-01</th>\n",
       "      <td>0.50</td>\n",
       "      <td>0.51</td>\n",
       "      <td>0.50</td>\n",
       "      <td>0.51</td>\n",
       "      <td>NaN</td>\n",
       "    </tr>\n",
       "    <tr>\n",
       "      <th>1789-09-01</th>\n",
       "      <td>0.51</td>\n",
       "      <td>0.51</td>\n",
       "      <td>0.50</td>\n",
       "      <td>0.51</td>\n",
       "      <td>NaN</td>\n",
       "    </tr>\n",
       "  </tbody>\n",
       "</table>\n",
       "</div>"
      ],
      "text/plain": [
       "            Otwarcie  Najwyzszy  Najnizszy  Zamkniecie  Wolumen\n",
       "Data                                                           \n",
       "1789-05-01      0.51       0.51       0.51        0.51      NaN\n",
       "1789-06-01      0.51       0.51       0.51        0.51      NaN\n",
       "1789-07-01      0.50       0.50       0.50        0.50      NaN\n",
       "1789-08-01      0.50       0.51       0.50        0.51      NaN\n",
       "1789-09-01      0.51       0.51       0.50        0.51      NaN"
      ]
     },
     "execution_count": 67,
     "metadata": {},
     "output_type": "execute_result"
    }
   ],
   "source": [
    "df = pd.read_csv('./Projekt2021/spx500.csv', sep=',', parse_dates=True, index_col='Data')\n",
    "\n",
    "df.head()"
   ]
  },
  {
   "cell_type": "code",
   "execution_count": 68,
   "id": "b14dd36c",
   "metadata": {},
   "outputs": [
    {
     "data": {
      "text/html": [
       "<div>\n",
       "<style scoped>\n",
       "    .dataframe tbody tr th:only-of-type {\n",
       "        vertical-align: middle;\n",
       "    }\n",
       "\n",
       "    .dataframe tbody tr th {\n",
       "        vertical-align: top;\n",
       "    }\n",
       "\n",
       "    .dataframe thead th {\n",
       "        text-align: right;\n",
       "    }\n",
       "</style>\n",
       "<table border=\"1\" class=\"dataframe\">\n",
       "  <thead>\n",
       "    <tr style=\"text-align: right;\">\n",
       "      <th></th>\n",
       "      <th>Otwarcie</th>\n",
       "      <th>Najwyzszy</th>\n",
       "      <th>Najnizszy</th>\n",
       "      <th>Zamkniecie</th>\n",
       "      <th>Wolumen</th>\n",
       "    </tr>\n",
       "    <tr>\n",
       "      <th>Data</th>\n",
       "      <th></th>\n",
       "      <th></th>\n",
       "      <th></th>\n",
       "      <th></th>\n",
       "      <th></th>\n",
       "    </tr>\n",
       "  </thead>\n",
       "  <tbody>\n",
       "    <tr>\n",
       "      <th>2020-11-12</th>\n",
       "      <td>3562.67</td>\n",
       "      <td>3569.02</td>\n",
       "      <td>3518.58</td>\n",
       "      <td>3537.01</td>\n",
       "      <td>2.414733e+09</td>\n",
       "    </tr>\n",
       "    <tr>\n",
       "      <th>2020-11-13</th>\n",
       "      <td>3552.57</td>\n",
       "      <td>3593.66</td>\n",
       "      <td>3552.57</td>\n",
       "      <td>3585.15</td>\n",
       "      <td>2.276725e+09</td>\n",
       "    </tr>\n",
       "    <tr>\n",
       "      <th>2020-11-16</th>\n",
       "      <td>3600.16</td>\n",
       "      <td>3628.51</td>\n",
       "      <td>3600.16</td>\n",
       "      <td>3626.91</td>\n",
       "      <td>2.864431e+09</td>\n",
       "    </tr>\n",
       "    <tr>\n",
       "      <th>2020-11-17</th>\n",
       "      <td>3610.31</td>\n",
       "      <td>3623.11</td>\n",
       "      <td>3588.68</td>\n",
       "      <td>3609.53</td>\n",
       "      <td>2.343227e+09</td>\n",
       "    </tr>\n",
       "    <tr>\n",
       "      <th>2020-11-18</th>\n",
       "      <td>3612.09</td>\n",
       "      <td>3619.09</td>\n",
       "      <td>3567.33</td>\n",
       "      <td>3567.79</td>\n",
       "      <td>2.667939e+09</td>\n",
       "    </tr>\n",
       "    <tr>\n",
       "      <th>...</th>\n",
       "      <td>...</td>\n",
       "      <td>...</td>\n",
       "      <td>...</td>\n",
       "      <td>...</td>\n",
       "      <td>...</td>\n",
       "    </tr>\n",
       "    <tr>\n",
       "      <th>2021-06-01</th>\n",
       "      <td>4216.52</td>\n",
       "      <td>4234.12</td>\n",
       "      <td>4197.59</td>\n",
       "      <td>4202.04</td>\n",
       "      <td>2.096973e+09</td>\n",
       "    </tr>\n",
       "    <tr>\n",
       "      <th>2021-06-02</th>\n",
       "      <td>4206.82</td>\n",
       "      <td>4217.37</td>\n",
       "      <td>4198.27</td>\n",
       "      <td>4208.12</td>\n",
       "      <td>2.028837e+09</td>\n",
       "    </tr>\n",
       "    <tr>\n",
       "      <th>2021-06-03</th>\n",
       "      <td>4191.43</td>\n",
       "      <td>4204.39</td>\n",
       "      <td>4167.93</td>\n",
       "      <td>4192.85</td>\n",
       "      <td>2.194432e+09</td>\n",
       "    </tr>\n",
       "    <tr>\n",
       "      <th>2021-06-04</th>\n",
       "      <td>4206.05</td>\n",
       "      <td>4233.45</td>\n",
       "      <td>4206.05</td>\n",
       "      <td>4229.89</td>\n",
       "      <td>1.872716e+09</td>\n",
       "    </tr>\n",
       "    <tr>\n",
       "      <th>2021-06-07</th>\n",
       "      <td>4229.34</td>\n",
       "      <td>4232.34</td>\n",
       "      <td>4215.66</td>\n",
       "      <td>4226.52</td>\n",
       "      <td>1.743421e+09</td>\n",
       "    </tr>\n",
       "  </tbody>\n",
       "</table>\n",
       "<p>141 rows × 5 columns</p>\n",
       "</div>"
      ],
      "text/plain": [
       "            Otwarcie  Najwyzszy  Najnizszy  Zamkniecie       Wolumen\n",
       "Data                                                                \n",
       "2020-11-12   3562.67    3569.02    3518.58     3537.01  2.414733e+09\n",
       "2020-11-13   3552.57    3593.66    3552.57     3585.15  2.276725e+09\n",
       "2020-11-16   3600.16    3628.51    3600.16     3626.91  2.864431e+09\n",
       "2020-11-17   3610.31    3623.11    3588.68     3609.53  2.343227e+09\n",
       "2020-11-18   3612.09    3619.09    3567.33     3567.79  2.667939e+09\n",
       "...              ...        ...        ...         ...           ...\n",
       "2021-06-01   4216.52    4234.12    4197.59     4202.04  2.096973e+09\n",
       "2021-06-02   4206.82    4217.37    4198.27     4208.12  2.028837e+09\n",
       "2021-06-03   4191.43    4204.39    4167.93     4192.85  2.194432e+09\n",
       "2021-06-04   4206.05    4233.45    4206.05     4229.89  1.872716e+09\n",
       "2021-06-07   4229.34    4232.34    4215.66     4226.52  1.743421e+09\n",
       "\n",
       "[141 rows x 5 columns]"
      ]
     },
     "execution_count": 68,
     "metadata": {},
     "output_type": "execute_result"
    }
   ],
   "source": [
    "# Zmniejszamy zakres danych dla rocznego interwału\n",
    "d = (datetime.today() - timedelta(days=365/2)).strftime('%Y-%d-%m')\n",
    "df1 = df.loc[d:]\n",
    "df1"
   ]
  },
  {
   "cell_type": "code",
   "execution_count": 69,
   "id": "21cf1e78",
   "metadata": {},
   "outputs": [
    {
     "data": {
      "text/html": [
       "<div>\n",
       "<style scoped>\n",
       "    .dataframe tbody tr th:only-of-type {\n",
       "        vertical-align: middle;\n",
       "    }\n",
       "\n",
       "    .dataframe tbody tr th {\n",
       "        vertical-align: top;\n",
       "    }\n",
       "\n",
       "    .dataframe thead th {\n",
       "        text-align: right;\n",
       "    }\n",
       "</style>\n",
       "<table border=\"1\" class=\"dataframe\">\n",
       "  <thead>\n",
       "    <tr style=\"text-align: right;\">\n",
       "      <th></th>\n",
       "      <th>Otwarcie</th>\n",
       "      <th>Najwyzszy</th>\n",
       "      <th>Najnizszy</th>\n",
       "      <th>Zamkniecie</th>\n",
       "      <th>Wolumen</th>\n",
       "    </tr>\n",
       "  </thead>\n",
       "  <tbody>\n",
       "    <tr>\n",
       "      <th>18578.0</th>\n",
       "      <td>3562.67</td>\n",
       "      <td>3569.02</td>\n",
       "      <td>3518.58</td>\n",
       "      <td>3537.01</td>\n",
       "      <td>2.414733e+09</td>\n",
       "    </tr>\n",
       "    <tr>\n",
       "      <th>18579.0</th>\n",
       "      <td>3552.57</td>\n",
       "      <td>3593.66</td>\n",
       "      <td>3552.57</td>\n",
       "      <td>3585.15</td>\n",
       "      <td>2.276725e+09</td>\n",
       "    </tr>\n",
       "    <tr>\n",
       "      <th>18582.0</th>\n",
       "      <td>3600.16</td>\n",
       "      <td>3628.51</td>\n",
       "      <td>3600.16</td>\n",
       "      <td>3626.91</td>\n",
       "      <td>2.864431e+09</td>\n",
       "    </tr>\n",
       "    <tr>\n",
       "      <th>18583.0</th>\n",
       "      <td>3610.31</td>\n",
       "      <td>3623.11</td>\n",
       "      <td>3588.68</td>\n",
       "      <td>3609.53</td>\n",
       "      <td>2.343227e+09</td>\n",
       "    </tr>\n",
       "    <tr>\n",
       "      <th>18584.0</th>\n",
       "      <td>3612.09</td>\n",
       "      <td>3619.09</td>\n",
       "      <td>3567.33</td>\n",
       "      <td>3567.79</td>\n",
       "      <td>2.667939e+09</td>\n",
       "    </tr>\n",
       "  </tbody>\n",
       "</table>\n",
       "</div>"
      ],
      "text/plain": [
       "         Otwarcie  Najwyzszy  Najnizszy  Zamkniecie       Wolumen\n",
       "18578.0   3562.67    3569.02    3518.58     3537.01  2.414733e+09\n",
       "18579.0   3552.57    3593.66    3552.57     3585.15  2.276725e+09\n",
       "18582.0   3600.16    3628.51    3600.16     3626.91  2.864431e+09\n",
       "18583.0   3610.31    3623.11    3588.68     3609.53  2.343227e+09\n",
       "18584.0   3612.09    3619.09    3567.33     3567.79  2.667939e+09"
      ]
     },
     "execution_count": 69,
     "metadata": {},
     "output_type": "execute_result"
    }
   ],
   "source": [
    "df1.index=df1.index.map(mdates.date2num)\n",
    "df1.head()"
   ]
  },
  {
   "cell_type": "code",
   "execution_count": 70,
   "id": "5be2bede",
   "metadata": {},
   "outputs": [
    {
     "name": "stdout",
     "output_type": "stream",
     "text": [
      "Najniższy punkt został osiągnięty jako pierwszy. Jego pozycja to: 0\n"
     ]
    }
   ],
   "source": [
    "# Sprawdzamy czy pierwsze wystąpiło max_v czy min_v\n",
    "# Jeśli 1 jest min_v - trend wzrostowy\n",
    "# Jeśli 1 jest max_v - trend spatkowy\n",
    "Min_pozycja = df1['Najnizszy'].argmin()\n",
    "Max_pozycja = df1['Najwyzszy'].argmax()\n",
    "if Min_pozycja > Max_pozycja:\n",
    "    print(f'Najwyższy punkt został osiągnięty jako pierwszy. Jego pozycja to: {Max_pozycja}')\n",
    "else:\n",
    "    print(f'Najniższy punkt został osiągnięty jako pierwszy. Jego pozycja to: {Min_pozycja}')"
   ]
  },
  {
   "cell_type": "code",
   "execution_count": 55,
   "id": "fcfbcd05",
   "metadata": {},
   "outputs": [
    {
     "name": "stdout",
     "output_type": "stream",
     "text": [
      "Najniższy punkt został osiągnięty jako pierwszy. Jego pozycja to: 72\n"
     ]
    }
   ],
   "source": [
    "# Sprawdzamy czy pierwsze wystąpiło max_v czy min_v\n",
    "# Jeśli 1 jest min_v - trend wzrostowy\n",
    "# Jeśli 1 jest max_v - trend spatkowy\n",
    "Min_pozycja = df1['Najnizszy'].argmin()\n",
    "Max_pozycja = df1['Najwyzszy'].argmax()\n",
    "if Min_pozycja > Max_pozycja:\n",
    "    print(f'Najwyższy punkt został osiągnięty jako pierwszy. Jego pozycja to: {Max_pozycja}')\n",
    "else:\n",
    "    print(f'Najniższy punkt został osiągnięty jako pierwszy. Jego pozycja to: {Min_pozycja}')"
   ]
  },
  {
   "cell_type": "code",
   "execution_count": 71,
   "id": "89a6bc3b",
   "metadata": {},
   "outputs": [
    {
     "data": {
      "text/plain": [
       "18754.0"
      ]
     },
     "execution_count": 71,
     "metadata": {},
     "output_type": "execute_result"
    }
   ],
   "source": [
    "Max_idx = df1.iloc[Max_pozycja].name\n",
    "Max_idx"
   ]
  },
  {
   "cell_type": "code",
   "execution_count": 72,
   "id": "5127a4ff",
   "metadata": {},
   "outputs": [
    {
     "data": {
      "text/plain": [
       "18578.0"
      ]
     },
     "execution_count": 72,
     "metadata": {},
     "output_type": "execute_result"
    }
   ],
   "source": [
    "#Pozycja Najniższej wartościw w indeksie\n",
    "Ax = df1.iloc[Min_pozycja].name\n",
    "Ax"
   ]
  },
  {
   "cell_type": "code",
   "execution_count": 73,
   "id": "0d37cca6",
   "metadata": {},
   "outputs": [
    {
     "data": {
      "text/plain": [
       "3518.58"
      ]
     },
     "execution_count": 73,
     "metadata": {},
     "output_type": "execute_result"
    }
   ],
   "source": [
    "Ay = df1['Najnizszy'].loc[Ax]\n",
    "Ay"
   ]
  },
  {
   "cell_type": "code",
   "execution_count": 74,
   "id": "3590cee1",
   "metadata": {},
   "outputs": [
    {
     "data": {
      "text/plain": [
       "[18578.0, 3518.58]"
      ]
     },
     "execution_count": 74,
     "metadata": {},
     "output_type": "execute_result"
    }
   ],
   "source": [
    "A = [Ax, Ay]\n",
    "A"
   ]
  },
  {
   "cell_type": "code",
   "execution_count": 75,
   "id": "e2f60343",
   "metadata": {},
   "outputs": [
    {
     "data": {
      "text/plain": [
       "[18690.0, 3723.34]"
      ]
     },
     "execution_count": 75,
     "metadata": {},
     "output_type": "execute_result"
    }
   ],
   "source": [
    "df2 = df1[:Max_idx]\n",
    "while len(df2)>2:\n",
    "    slope, intercept, r_value, p_value, std_err = linregress(x=df2.index, y=df2['Najnizszy'])\n",
    "    df2 = df2.loc[df2['Najnizszy'] < slope * df2.index + intercept]\n",
    "    \n",
    "Bx = df2.index.min()\n",
    "By = df2['Najnizszy'].loc[Bx]\n",
    "B = [Bx, By]\n",
    "B"
   ]
  },
  {
   "cell_type": "code",
   "execution_count": 76,
   "id": "a2b5d44f",
   "metadata": {},
   "outputs": [
    {
     "data": {
      "text/plain": [
       "1.8282142857142876"
      ]
     },
     "execution_count": 76,
     "metadata": {},
     "output_type": "execute_result"
    }
   ],
   "source": [
    "a = (Ay-By)/(Ax-Bx)\n",
    "a"
   ]
  },
  {
   "cell_type": "code",
   "execution_count": 77,
   "id": "87216881",
   "metadata": {},
   "outputs": [
    {
     "data": {
      "text/plain": [
       "-30445.985000000033"
      ]
     },
     "execution_count": 77,
     "metadata": {},
     "output_type": "execute_result"
    }
   ],
   "source": [
    "b = By - a*Bx\n",
    "b"
   ]
  },
  {
   "cell_type": "code",
   "execution_count": 78,
   "id": "1c5fbf13",
   "metadata": {},
   "outputs": [],
   "source": [
    "Cx = df1.index.max() +10\n",
    "Cx\n",
    "\n",
    "Cy = a*Cx +b\n",
    "Cy\n",
    "\n",
    "C = [Cx, Cy]"
   ]
  },
  {
   "cell_type": "code",
   "execution_count": 79,
   "id": "21bc0493",
   "metadata": {},
   "outputs": [],
   "source": [
    "X = [A[0], C[0]]\n",
    "Y = [A[1], C[1]]"
   ]
  },
  {
   "cell_type": "code",
   "execution_count": 80,
   "id": "5330e4c1",
   "metadata": {},
   "outputs": [],
   "source": [
    "df1.reset_index(inplace=True)"
   ]
  },
  {
   "cell_type": "code",
   "execution_count": 81,
   "id": "a4277df4",
   "metadata": {},
   "outputs": [
    {
     "data": {
      "image/png": "[encoded data removed]",
      "text/plain": [
       "<Figure size 1440x936 with 1 Axes>"
      ]
     },
     "metadata": {
      "needs_background": "light"
     },
     "output_type": "display_data"
    }
   ],
   "source": [
    "fig = plt.figure(figsize=(20,13))\n",
    "ax1 = fig.add_subplot(111)\n",
    "ax2 = fig.add_subplot(111)\n",
    "\n",
    "ax1.xaxis_date()\n",
    "ax1.xaxis.set_major_formatter(mdates.DateFormatter('%d-%m-%Y'))\n",
    "ax2.plot(X, Y, label='Trend Line')\n",
    "plt.ylabel(\"Price\")\n",
    "plt.title('SPX500')\n",
    "ax1.grid(True)\n",
    "plt.legend(loc='best')\n",
    "plt.xticks(rotation=45)\n",
    "candlestick_ohlc(ax1, df1.values, width=0.6, colorup='g', colordown='r')\n",
    "plt.show()"
   ]
  },
  {
   "cell_type": "code",
   "execution_count": null,
   "id": "c37d2775",
   "metadata": {},
   "outputs": [],
   "source": []
  }
 ],
 "metadata": {
  "kernelspec": {
   "display_name": "Python 3",
   "language": "python",
   "name": "python3"
  },
  "language_info": {
   "codemirror_mode": {
    "name": "ipython",
    "version": 3
   },
   "file_extension": ".py",
   "mimetype": "text/x-python",
   "name": "python",
   "nbconvert_exporter": "python",
   "pygments_lexer": "ipython3",
   "version": "3.8.8"
  }
 },
 "nbformat": 4,
 "nbformat_minor": 5
}
