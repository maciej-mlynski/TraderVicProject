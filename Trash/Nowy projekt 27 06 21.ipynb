{
 "cells": [
  {
   "cell_type": "code",
   "execution_count": 15,
   "id": "02cf857c",
   "metadata": {},
   "outputs": [],
   "source": [
    "import pandas as pd\n",
    "import numpy as np\n",
    "import matplotlib.pyplot as plt\n",
    "%matplotlib inline\n",
    "\n",
    "from mpl_finance import candlestick_ohlc\n",
    "\n",
    "import matplotlib.dates as mdates\n",
    "import datetime as dt\n",
    "from datetime import date, timedelta\n",
    "from datetime import timedelta, datetime\n",
    "\n",
    "from scipy.stats import linregress\n",
    "\n",
    "import warnings\n",
    "warnings.filterwarnings(\"ignore\")"
   ]
  },
  {
   "cell_type": "code",
   "execution_count": 43,
   "id": "b99e3ffc",
   "metadata": {},
   "outputs": [],
   "source": [
    "df = pd.read_csv('./data/BTC-USD.csv',sep=',', date_parser=True)\n",
    "df.drop('Adj Close', inplace = True, axis=1)\n",
    "df['Date'] = pd.to_datetime(df['Date'])\n",
    "df.set_index('Date',inplace=True)"
   ]
  },
  {
   "cell_type": "code",
   "execution_count": 44,
   "id": "27f5f7da",
   "metadata": {},
   "outputs": [],
   "source": [
    "End = '2017-11-05'"
   ]
  },
  {
   "cell_type": "code",
   "execution_count": 45,
   "id": "7467e1e6",
   "metadata": {},
   "outputs": [],
   "source": [
    "End = pd.to_datetime(End)\n",
    "Start = (End - timedelta(days=365))\n",
    "df1 = df.loc[Start:End]\n",
    "df1.index = df1.index.map(mdates.date2num)"
   ]
  },
  {
   "cell_type": "code",
   "execution_count": 46,
   "id": "9a81a4fc",
   "metadata": {},
   "outputs": [],
   "source": [
    "Min_pozycja = df1['Low'].argmin()\n",
    "Max_pozycja = df1['High'].argmax()"
   ]
  },
  {
   "cell_type": "markdown",
   "id": "9f1dece5",
   "metadata": {},
   "source": [
    "# Pierwszy trend L1"
   ]
  },
  {
   "cell_type": "code",
   "execution_count": 47,
   "id": "a7e2b3fb",
   "metadata": {},
   "outputs": [
    {
     "name": "stdout",
     "output_type": "stream",
     "text": [
      "Znaleziona 2 punkty przez które można przeprowadzić linie trendu wzrostowego od połowy\n",
      "Punkt A:[17293.0, 1559.76001], Punkt C: [17465.0, 2255.7949138285767]\n"
     ]
    }
   ],
   "source": [
    "if Min_pozycja > Max_pozycja:\n",
    "    \n",
    "    print('ok')\n",
    "\n",
    "\n",
    "#---------------------------------------------------------------------------------------------------------------------------- \n",
    "# L1, gdy Max_v znajduje się w ostatnich 20 dniach\n",
    "\n",
    "elif Min_pozycja < Max_pozycja and Max_pozycja < len(df1)-20:\n",
    "    Max_idx = df1.iloc[Max_pozycja].name\n",
    "    Ax = df1.iloc[Min_pozycja].name\n",
    "    Ay = df1['Low'].loc[Ax]\n",
    "    A = [Ax, Ay]\n",
    "    \n",
    "    Bx = df1.iloc[Min_pozycja].name\n",
    "    By = df1['Low'].loc[Bx]\n",
    "    B = [Bx, By]\n",
    "    \n",
    "    a = (Ay-By)/(Ax-Bx)\n",
    "    b = By - a*Bx\n",
    "    \n",
    "    df11=df1[A[0]:Max_idx]\n",
    "    df11['Pozycja na LT'] = df11.index * a + b\n",
    "    df11['check']= round(df11['Low'] - df11['Pozycja na LT'],0)\n",
    "    good = df11['check'][df11['check']>=0].count()\n",
    "    sum = len(df11['check'])\n",
    "    \n",
    "    for i in range(len(df11)):\n",
    "        df11=df1[B[0]+1:Max_idx]\n",
    "        Bx = df11.iloc[0].name\n",
    "        By = df11['Low'].loc[Bx]\n",
    "        B = [Bx, By]\n",
    "\n",
    "        a = (Ay-By)/(Ax-Bx)\n",
    "        b = By - a*Bx\n",
    "\n",
    "        df11['Pozycja na LT'] = df11.index * a + b\n",
    "        df11['check']= round(df11['Low'] - df11['Pozycja na LT'],0)\n",
    "        good = df11['check'][df11['check']>=0].count()\n",
    "        sum = len(df11['check'])\n",
    "\n",
    "        if good == sum:\n",
    "            print('Znaleziona 2 punkty przez które można przeprowadzić linie trendu wzrostowego')\n",
    "            print(f'Punkt A:{A}, Punkt C: {C}')\n",
    "            break\n",
    "        else:\n",
    "            df11=df1[B[0]+1:Max_idx]\n",
    "            Bx = df11.iloc[0].name\n",
    "            By = df11['Low'].loc[Bx]\n",
    "            B = [Bx, By]\n",
    "\n",
    "            a = (Ay-By)/(Ax-Bx)\n",
    "            b = By - a*Bx\n",
    "                \n",
    "            Cx = df1.index.max() -100\n",
    "            Cy = a*Cx +b\n",
    "            C = [Cx, Cy]\n",
    "\n",
    "            X_long = [Ax, Cx]\n",
    "            Y_long = [Ay, Cy]\n",
    " \n",
    " #---------------------------------------------------------------------------------------------------------------------------- \n",
    " # L1, gdy Max_v znajduje się wcześniej nić 20 ostatnich dniach\n",
    "\n",
    "elif Min_pozycja < Max_pozycja and Max_pozycja > len(df1)-20:\n",
    "    \n",
    "    End = pd.to_datetime(End)\n",
    "    Start = (End - timedelta(days=182))\n",
    "    df1 = df.loc[Start:End]\n",
    "    df1.index = df1.index.map(mdates.date2num)\n",
    "    \n",
    "    Min_pozycja = df1['Low'].argmin()\n",
    "    Max_pozycja = df1['High'].argmax()\n",
    "    \n",
    "    Max_idx = df1.iloc[Max_pozycja].name\n",
    "    Ax = df1.iloc[Min_pozycja].name\n",
    "    Ay = df1['Low'].loc[Ax]\n",
    "    A = [Ax, Ay]\n",
    "    \n",
    "    Bx = df1.iloc[Min_pozycja].name\n",
    "    By = df1['Low'].loc[Bx]\n",
    "    B = [Bx, By]\n",
    "    \n",
    "    a = (Ay-By)/(Ax-Bx)\n",
    "    b = By - a*Bx\n",
    "    \n",
    "    df11=df1[A[0]:Max_idx]\n",
    "    df11['Pozycja na LT'] = df11.index * a + b\n",
    "    df11['check']= round(df11['Low'] - df11['Pozycja na LT'],0)\n",
    "    good = df11['check'][df11['check']>=0].count()\n",
    "    sum = len(df11['check'])\n",
    "    \n",
    "    for i in range(len(df11)):\n",
    "        \n",
    "        df11=df1[B[0]:Max_idx]\n",
    "        Bx = df11.iloc[0].name\n",
    "        By = df11['Low'].loc[Bx]\n",
    "        B = [Bx, By]\n",
    "\n",
    "        a = (Ay-By)/(Ax-Bx)\n",
    "        b = By - a*Bx\n",
    "\n",
    "        df11['Pozycja na LT'] = df11.index * a + b\n",
    "        df11['check']= round(df11['Low'] - df11['Pozycja na LT'],0)\n",
    "        good = df11['check'][df11['check']>=0].count()\n",
    "        sum = len(df11['check'])\n",
    "\n",
    "        if good == sum:\n",
    "            print('Znaleziona 2 punkty przez które można przeprowadzić linie trendu wzrostowego od połowy')\n",
    "            print(f'Punkt A:{A}, Punkt C: {C}')\n",
    "            break\n",
    "            \n",
    "        else:\n",
    "            df11=df1[B[0]+1:Max_idx]\n",
    "            Bx = df11.iloc[0].name\n",
    "            By = df11['Low'].loc[Bx]\n",
    "            B = [Bx, By]\n",
    "\n",
    "            a = (Ay-By)/(Ax-Bx)\n",
    "            b = By - a*Bx\n",
    "                \n",
    "            Cx = df1.index.max() -10\n",
    "            Cy = a*Cx +b\n",
    "            C = [Cx, Cy]\n",
    "\n",
    "            X_long = [Ax, Bx]\n",
    "            Y_long = [Ay, By]\n",
    "#----------------------------------------------------------------------------------------------------------------------------    \n",
    "    \n",
    "    \n",
    "    \n",
    "    \n",
    "    \n",
    "    \n",
    "    \n",
    "    \n",
    "    \n",
    "    \n",
    "    \n",
    "    \n",
    "    \n",
    "    "
   ]
  },
  {
   "cell_type": "code",
   "execution_count": 48,
   "id": "8720981c",
   "metadata": {},
   "outputs": [
    {
     "data": {
      "text/plain": [
       "[17363.0, 1843.030029]"
      ]
     },
     "execution_count": 48,
     "metadata": {},
     "output_type": "execute_result"
    }
   ],
   "source": [
    "B"
   ]
  },
  {
   "cell_type": "markdown",
   "id": "0c149e56",
   "metadata": {},
   "source": [
    "# Trend średni M1 lub L2"
   ]
  },
  {
   "cell_type": "code",
   "execution_count": 49,
   "id": "02461992",
   "metadata": {},
   "outputs": [
    {
     "name": "stdout",
     "output_type": "stream",
     "text": [
      "rysujemy trend spadkowy Mid\n",
      "Znaleziona 2 punkty przez które można przeprowadzić linie trendu wzrostowego\n",
      "Punkt A:[17363.0, 1843.030029], Punkt C: [17465.0, 3688.3773892622557]\n"
     ]
    }
   ],
   "source": [
    "if Max_pozycja < len(df1)-20 and Min_pozycja < Max_pozycja:\n",
    "    \n",
    "    df2 = df1.iloc[Max_pozycja:]\n",
    "    Min_pozycja2 = df2['Low'].argmin()\n",
    "    Max_idx2 = df2.iloc[Min_pozycja2].name\n",
    "    \n",
    "    \n",
    "    Ax = df2.iloc[0].name\n",
    "    Ay = df2['High'].loc[Ax]\n",
    "    A = [Ax, Ay]\n",
    "    \n",
    "    Bx = df2.iloc[Max_pozycja].name\n",
    "    By = df2['High'].loc[Bx]\n",
    "    B = [Bx, By]\n",
    "    \n",
    "    a = (Ay-By)/(Ax-Bx)\n",
    "    b = By - a*Bx\n",
    "    \n",
    "    df21 = df2[A[0]:Max_idx2]\n",
    "    df21['Pozycja na LT'] = df21.index * a + b\n",
    "    df21['check']= round(df21['High'] - df21['Pozycja na LT'],0)\n",
    "    good = df21['check'][df21['check']<=0].count()\n",
    "    sum = len(df21['check'])\n",
    "    \n",
    "    for i in range(len(df21)):\n",
    "        \n",
    "        df21=df2[B[0]:Max_idx2]\n",
    "        Bx = df21.iloc[0].name\n",
    "        By = df21['High'].loc[Bx]\n",
    "        B = [Bx, By]\n",
    "\n",
    "        a = (Ay-By)/(Ax-Bx)\n",
    "        b = By - a*Bx\n",
    "\n",
    "        df21['Pozycja na LT'] = df21.index * a + b\n",
    "        df21['check']= round(df21['High'] - df21['Pozycja na LT'],0)\n",
    "        good = df21['check'][df21['check']<=0].count()\n",
    "        sum = len(df21['check'])\n",
    "\n",
    "        if good == sum:\n",
    "            \n",
    "            print('rysujemy trend spadkowy Mid')\n",
    "            print('Znaleziona 2 punkty przez które można przeprowadzić linie trendu wzrostowego')\n",
    "            print(f'Punkt A:{A}, Punkt C: {C}')\n",
    "            break\n",
    "            \n",
    "        else:\n",
    "            df21=df2[B[0]+1:Max_idx2]\n",
    "            Bx = df21.iloc[0].name\n",
    "            By = df21['High'].loc[Bx]\n",
    "            B = [Bx, By]\n",
    "\n",
    "            a = (Ay-By)/(Ax-Bx)\n",
    "            b = By - a*Bx\n",
    "                \n",
    "            Cx = df2.index.max() -50\n",
    "            Cy = a*Cx +b\n",
    "            C = [Cx, Cy]\n",
    "\n",
    "            X_long2 = [Ax, Cx]\n",
    "            Y_long2 = [Ay, Cy]\n",
    "#--------------------------------------------------------------------------------------------------------------------------\n",
    "# Trend M1 - styczna pomocnicza od L1 i M2 styczna porządana od M2\n",
    " \n",
    "elif Max_pozycja > len(df1)-20 and Min_pozycja < Max_pozycja:\n",
    "    \n",
    "    Ax = Bx\n",
    "    Ay = By\n",
    "    A = [Ax, Ay]\n",
    "    \n",
    "    Bx = Ax\n",
    "    By = Ax\n",
    "    B = [Bx, By]\n",
    "    \n",
    "    a = (Ay-By)/(Ax-Bx)\n",
    "    b = By - a*Bx\n",
    "    \n",
    "    df21 = df1[A[0]:Max_idx]\n",
    "    df21['Pozycja na LT'] = df21.index * a + b\n",
    "    df21['check']= round(df21['Low'] - df21['Pozycja na LT'],0)\n",
    "    good = df21['check'][df21['check']>=0].count()\n",
    "    sum = len(df21['check'])\n",
    "    \n",
    "    for i in range(len(df21)):\n",
    "        \n",
    "        df21=df1[B[0]:Max_idx]\n",
    "        Bx = df21.iloc[0].name\n",
    "        By = df21['Low'].loc[Bx]\n",
    "        B = [Bx, By]\n",
    "\n",
    "        a = (Ay-By)/(Ax-Bx)\n",
    "        b = By - a*Bx\n",
    "\n",
    "        df21['Pozycja na LT'] = df21.index * a + b\n",
    "        df21['check']= round(df21['Low'] - df21['Pozycja na LT'],0)\n",
    "        good = df21['check'][df21['check']>=0].count()\n",
    "        sum = len(df21['check'])\n",
    "\n",
    "        if good == sum:\n",
    "            \n",
    "            print('rysujemy trend spadkowy Mid')\n",
    "            print('Znaleziona 2 punkty przez które można przeprowadzić linie trendu wzrostowego')\n",
    "            print(f'Punkt A:{A}, Punkt C: {C}')\n",
    "            break\n",
    "            \n",
    "        else:\n",
    "            df21=df1[B[0]+1:Max_idx]\n",
    "            Bx = df21.iloc[0].name\n",
    "            By = df21['Low'].loc[Bx]\n",
    "            B = [Bx, By]\n",
    "\n",
    "            a = (Ay-By)/(Ax-Bx)\n",
    "            b = By - a*Bx\n",
    "                \n",
    "            Cx = df1.index.max() -10\n",
    "            Cy = a*Cx +b\n",
    "            C = [Cx, Cy]\n",
    "\n",
    "            X_mid1 = [Ax, Cx]\n",
    "            Y_mid1 = [Ay, Cy]\n",
    "    \n",
    "    \n",
    "    \n",
    "    \n",
    "    \n",
    "    \n",
    "    \n",
    "    \n",
    "    \n",
    "    \n",
    "    \n",
    "    \n",
    "    \n",
    "    \n",
    "    "
   ]
  },
  {
   "cell_type": "code",
   "execution_count": 50,
   "id": "4f9dff9e",
   "metadata": {},
   "outputs": [
    {
     "data": {
      "text/plain": [
       "[17424.0, 2946.620117]"
      ]
     },
     "execution_count": 50,
     "metadata": {},
     "output_type": "execute_result"
    }
   ],
   "source": [
    "B"
   ]
  },
  {
   "cell_type": "markdown",
   "id": "71cc83b3",
   "metadata": {},
   "source": [
    "# Trend krótki M2"
   ]
  },
  {
   "cell_type": "code",
   "execution_count": 51,
   "id": "a4dc02f1",
   "metadata": {},
   "outputs": [
    {
     "name": "stdout",
     "output_type": "stream",
     "text": [
      "rysujemy trend spadkowy Mid\n",
      "Znaleziona 2 punkty przez które można przeprowadzić linie trendu wzrostowego\n",
      "Punkt A:[17424.0, 2946.620117], Punkt C: [17475.0, 6051.065821399912]\n"
     ]
    }
   ],
   "source": [
    "if Max_pozycja > len(df1)-20 and Min_pozycja < Max_pozycja:\n",
    "    \n",
    "    Ax = Bx\n",
    "    Ay = df1['Low'].loc[Ax]\n",
    "    A = [Ax, Ay]\n",
    "    \n",
    "    Bx = Ax\n",
    "    By = Ax\n",
    "    B = [Bx, By]\n",
    "    \n",
    "    a = (Ay-By)/(Ax-Bx)\n",
    "    b = By - a*Bx\n",
    "    \n",
    "    df31 = df1[A[0]:Max_idx]\n",
    "    df31['Pozycja na LT'] = df31.index * a + b\n",
    "    df31['check']= round(df31['Low'] - df31['Pozycja na LT'],0)\n",
    "    good = df31['check'][df31['check']>=0].count()\n",
    "    sum = len(df31['check'])\n",
    "    \n",
    "    for i in range(len(df21)):\n",
    "        \n",
    "        df31=df1[B[0]:Max_idx]\n",
    "        Bx = df31.iloc[0].name\n",
    "        By = df31['Low'].loc[Bx]\n",
    "        B = [Bx, By]\n",
    "\n",
    "        a = (Ay-By)/(Ax-Bx)\n",
    "        b = By - a*Bx\n",
    "\n",
    "        df31['Pozycja na LT'] = df31.index * a + b\n",
    "        df31['check']= round(df31['Low'] - df31['Pozycja na LT'],0)\n",
    "        good = df31['check'][df31['check']>=0].count()\n",
    "        sum = len(df31['check'])\n",
    "\n",
    "        if good == sum:\n",
    "            \n",
    "            print('rysujemy trend spadkowy Mid')\n",
    "            print('Znaleziona 2 punkty przez które można przeprowadzić linie trendu wzrostowego')\n",
    "            print(f'Punkt A:{A}, Punkt C: {C}')\n",
    "            break\n",
    "            \n",
    "        else:\n",
    "            df31=df1[B[0]+1:Max_idx]\n",
    "            Bx = df31.iloc[1].name\n",
    "            By = df31['Low'].loc[Bx]\n",
    "            B = [Bx, By]\n",
    "\n",
    "            a = (Ay-By)/(Ax-Bx)\n",
    "            b = By - a*Bx\n",
    "                \n",
    "            Cx = df1.index.max()\n",
    "            Cy = a*Cx +b\n",
    "            C = [Cx, Cy]\n",
    "\n",
    "            X_mid2 = [Ax, Cx]\n",
    "            Y_mid2 = [Ay, Cy]\n",
    "else:\n",
    "    print('ok')"
   ]
  },
  {
   "cell_type": "code",
   "execution_count": 52,
   "id": "0ac9a51d",
   "metadata": {},
   "outputs": [
    {
     "data": {
      "text/plain": [
       "17443.0"
      ]
     },
     "execution_count": 52,
     "metadata": {},
     "output_type": "execute_result"
    }
   ],
   "source": [
    "Bx-1"
   ]
  },
  {
   "cell_type": "code",
   "execution_count": 53,
   "id": "bea756ed",
   "metadata": {},
   "outputs": [
    {
     "data": {
      "text/plain": [
       "32"
      ]
     },
     "execution_count": 53,
     "metadata": {},
     "output_type": "execute_result"
    }
   ],
   "source": [
    "good"
   ]
  },
  {
   "cell_type": "code",
   "execution_count": null,
   "id": "efb9ad8a",
   "metadata": {},
   "outputs": [],
   "source": []
  },
  {
   "cell_type": "code",
   "execution_count": null,
   "id": "a92e40ef",
   "metadata": {},
   "outputs": [],
   "source": []
  },
  {
   "cell_type": "code",
   "execution_count": 54,
   "id": "b1d20587",
   "metadata": {},
   "outputs": [],
   "source": [
    "df1.reset_index(inplace = True)\n",
    "#df2.reset_index(inplace=True)"
   ]
  },
  {
   "cell_type": "code",
   "execution_count": 55,
   "id": "abdd6d63",
   "metadata": {},
   "outputs": [
    {
     "data": {
      "image/png": "[encoded data removed]",
      "text/plain": [
       "<Figure size 1440x936 with 1 Axes>"
      ]
     },
     "metadata": {
      "needs_background": "light"
     },
     "output_type": "display_data"
    }
   ],
   "source": [
    "fig = plt.figure(figsize=(20,13))\n",
    "ax1 = fig.add_subplot(111)\n",
    "ax2 = fig.add_subplot(111)\n",
    "ax3 = fig.add_subplot(111)\n",
    "ax4 = fig.add_subplot(111)\n",
    "#ax5 = fig.add_subplot(111)\n",
    "\n",
    "ax1.xaxis_date()\n",
    "ax1.xaxis.set_major_formatter(mdates.DateFormatter('%d-%m-%Y'))\n",
    "ax2.plot(X_long, Y_long, label='Trend Line- lo', alpha = 0.4)\n",
    "ax3.plot(X_mid1, Y_mid1, '--', label='Trend Line-  Short', alpha = 0.4)\n",
    "ax4.plot(X_mid2, Y_mid2, label='Trend Line-  Short', alpha = 0.6)\n",
    "#ax5.plot(X_long2, Y_long2, label='Trend Line- lo', alpha = 0.4)\n",
    "\n",
    "plt.ylabel(\"Price\")\n",
    "plt.title('SPX500')\n",
    "ax1.grid(True)\n",
    "plt.legend(loc='best')\n",
    "plt.xticks(rotation=45)\n",
    "candlestick_ohlc(ax1, df1.values, width=0.6, colorup='g', colordown='r')\n",
    "plt.show()"
   ]
  },
  {
   "cell_type": "code",
   "execution_count": 23,
   "id": "358e856c",
   "metadata": {},
   "outputs": [
    {
     "data": {
      "text/html": [
       "<div>\n",
       "<style scoped>\n",
       "    .dataframe tbody tr th:only-of-type {\n",
       "        vertical-align: middle;\n",
       "    }\n",
       "\n",
       "    .dataframe tbody tr th {\n",
       "        vertical-align: top;\n",
       "    }\n",
       "\n",
       "    .dataframe thead th {\n",
       "        text-align: right;\n",
       "    }\n",
       "</style>\n",
       "<table border=\"1\" class=\"dataframe\">\n",
       "  <thead>\n",
       "    <tr style=\"text-align: right;\">\n",
       "      <th></th>\n",
       "      <th>index</th>\n",
       "      <th>Open</th>\n",
       "      <th>High</th>\n",
       "      <th>Low</th>\n",
       "      <th>Close</th>\n",
       "      <th>Volume</th>\n",
       "    </tr>\n",
       "  </thead>\n",
       "  <tbody>\n",
       "    <tr>\n",
       "      <th>0</th>\n",
       "      <td>17323.0</td>\n",
       "      <td>2690.840088</td>\n",
       "      <td>2999.909912</td>\n",
       "      <td>2690.840088</td>\n",
       "      <td>2863.199951</td>\n",
       "      <td>2.089610e+09</td>\n",
       "    </tr>\n",
       "    <tr>\n",
       "      <th>1</th>\n",
       "      <td>17324.0</td>\n",
       "      <td>2869.379883</td>\n",
       "      <td>2869.379883</td>\n",
       "      <td>2700.560059</td>\n",
       "      <td>2732.159912</td>\n",
       "      <td>1.517710e+09</td>\n",
       "    </tr>\n",
       "    <tr>\n",
       "      <th>2</th>\n",
       "      <td>17325.0</td>\n",
       "      <td>2720.489990</td>\n",
       "      <td>2815.300049</td>\n",
       "      <td>2670.949951</td>\n",
       "      <td>2805.620117</td>\n",
       "      <td>1.281170e+09</td>\n",
       "    </tr>\n",
       "    <tr>\n",
       "      <th>3</th>\n",
       "      <td>17326.0</td>\n",
       "      <td>2807.439941</td>\n",
       "      <td>2901.709961</td>\n",
       "      <td>2795.620117</td>\n",
       "      <td>2823.810059</td>\n",
       "      <td>1.348950e+09</td>\n",
       "    </tr>\n",
       "    <tr>\n",
       "      <th>4</th>\n",
       "      <td>17327.0</td>\n",
       "      <td>2828.139893</td>\n",
       "      <td>2950.989990</td>\n",
       "      <td>2746.550049</td>\n",
       "      <td>2947.709961</td>\n",
       "      <td>2.018890e+09</td>\n",
       "    </tr>\n",
       "    <tr>\n",
       "      <th>...</th>\n",
       "      <td>...</td>\n",
       "      <td>...</td>\n",
       "      <td>...</td>\n",
       "      <td>...</td>\n",
       "      <td>...</td>\n",
       "      <td>...</td>\n",
       "    </tr>\n",
       "    <tr>\n",
       "      <th>178</th>\n",
       "      <td>17501.0</td>\n",
       "      <td>10198.599609</td>\n",
       "      <td>11046.700195</td>\n",
       "      <td>9694.650391</td>\n",
       "      <td>10975.599609</td>\n",
       "      <td>6.783120e+09</td>\n",
       "    </tr>\n",
       "    <tr>\n",
       "      <th>179</th>\n",
       "      <td>17502.0</td>\n",
       "      <td>10978.299805</td>\n",
       "      <td>11320.200195</td>\n",
       "      <td>10905.099609</td>\n",
       "      <td>11074.599609</td>\n",
       "      <td>5.138500e+09</td>\n",
       "    </tr>\n",
       "    <tr>\n",
       "      <th>180</th>\n",
       "      <td>17503.0</td>\n",
       "      <td>11082.700195</td>\n",
       "      <td>11858.700195</td>\n",
       "      <td>10862.000000</td>\n",
       "      <td>11323.200195</td>\n",
       "      <td>6.608310e+09</td>\n",
       "    </tr>\n",
       "    <tr>\n",
       "      <th>181</th>\n",
       "      <td>17504.0</td>\n",
       "      <td>11315.400391</td>\n",
       "      <td>11657.200195</td>\n",
       "      <td>11081.799805</td>\n",
       "      <td>11657.200195</td>\n",
       "      <td>6.132410e+09</td>\n",
       "    </tr>\n",
       "    <tr>\n",
       "      <th>182</th>\n",
       "      <td>17505.0</td>\n",
       "      <td>11685.700195</td>\n",
       "      <td>12032.000000</td>\n",
       "      <td>11604.599609</td>\n",
       "      <td>11916.700195</td>\n",
       "      <td>6.895260e+09</td>\n",
       "    </tr>\n",
       "  </tbody>\n",
       "</table>\n",
       "<p>183 rows × 6 columns</p>\n",
       "</div>"
      ],
      "text/plain": [
       "       index          Open          High           Low         Close  \\\n",
       "0    17323.0   2690.840088   2999.909912   2690.840088   2863.199951   \n",
       "1    17324.0   2869.379883   2869.379883   2700.560059   2732.159912   \n",
       "2    17325.0   2720.489990   2815.300049   2670.949951   2805.620117   \n",
       "3    17326.0   2807.439941   2901.709961   2795.620117   2823.810059   \n",
       "4    17327.0   2828.139893   2950.989990   2746.550049   2947.709961   \n",
       "..       ...           ...           ...           ...           ...   \n",
       "178  17501.0  10198.599609  11046.700195   9694.650391  10975.599609   \n",
       "179  17502.0  10978.299805  11320.200195  10905.099609  11074.599609   \n",
       "180  17503.0  11082.700195  11858.700195  10862.000000  11323.200195   \n",
       "181  17504.0  11315.400391  11657.200195  11081.799805  11657.200195   \n",
       "182  17505.0  11685.700195  12032.000000  11604.599609  11916.700195   \n",
       "\n",
       "           Volume  \n",
       "0    2.089610e+09  \n",
       "1    1.517710e+09  \n",
       "2    1.281170e+09  \n",
       "3    1.348950e+09  \n",
       "4    2.018890e+09  \n",
       "..            ...  \n",
       "178  6.783120e+09  \n",
       "179  5.138500e+09  \n",
       "180  6.608310e+09  \n",
       "181  6.132410e+09  \n",
       "182  6.895260e+09  \n",
       "\n",
       "[183 rows x 6 columns]"
      ]
     },
     "execution_count": 23,
     "metadata": {},
     "output_type": "execute_result"
    }
   ],
   "source": [
    "df1"
   ]
  },
  {
   "cell_type": "code",
   "execution_count": null,
   "id": "738bcce9",
   "metadata": {},
   "outputs": [],
   "source": []
  },
  {
   "cell_type": "code",
   "execution_count": null,
   "id": "bedfc1d1",
   "metadata": {},
   "outputs": [],
   "source": []
  },
  {
   "cell_type": "code",
   "execution_count": null,
   "id": "95217209",
   "metadata": {},
   "outputs": [],
   "source": []
  },
  {
   "cell_type": "code",
   "execution_count": null,
   "id": "69cd3b8e",
   "metadata": {},
   "outputs": [],
   "source": []
  },
  {
   "cell_type": "code",
   "execution_count": null,
   "id": "23342919",
   "metadata": {},
   "outputs": [],
   "source": []
  },
  {
   "cell_type": "code",
   "execution_count": null,
   "id": "1121d08d",
   "metadata": {},
   "outputs": [],
   "source": []
  },
  {
   "cell_type": "code",
   "execution_count": null,
   "id": "1caeee5a",
   "metadata": {},
   "outputs": [],
   "source": []
  },
  {
   "cell_type": "code",
   "execution_count": null,
   "id": "772a5301",
   "metadata": {},
   "outputs": [],
   "source": []
  },
  {
   "cell_type": "code",
   "execution_count": null,
   "id": "4aee188b",
   "metadata": {},
   "outputs": [],
   "source": []
  },
  {
   "cell_type": "code",
   "execution_count": null,
   "id": "1b65b0c3",
   "metadata": {},
   "outputs": [],
   "source": []
  },
  {
   "cell_type": "code",
   "execution_count": null,
   "id": "624a64c5",
   "metadata": {},
   "outputs": [],
   "source": []
  },
  {
   "cell_type": "code",
   "execution_count": null,
   "id": "81f26276",
   "metadata": {},
   "outputs": [],
   "source": []
  },
  {
   "cell_type": "code",
   "execution_count": null,
   "id": "f0759341",
   "metadata": {},
   "outputs": [],
   "source": []
  },
  {
   "cell_type": "code",
   "execution_count": null,
   "id": "6dff284f",
   "metadata": {},
   "outputs": [],
   "source": []
  },
  {
   "cell_type": "code",
   "execution_count": null,
   "id": "f7d4c5df",
   "metadata": {},
   "outputs": [],
   "source": []
  },
  {
   "cell_type": "code",
   "execution_count": null,
   "id": "7d4a3ebb",
   "metadata": {},
   "outputs": [],
   "source": []
  },
  {
   "cell_type": "code",
   "execution_count": null,
   "id": "9cb93592",
   "metadata": {},
   "outputs": [],
   "source": []
  },
  {
   "cell_type": "code",
   "execution_count": null,
   "id": "c07b781b",
   "metadata": {},
   "outputs": [],
   "source": []
  },
  {
   "cell_type": "code",
   "execution_count": null,
   "id": "5a8b00d0",
   "metadata": {},
   "outputs": [],
   "source": []
  },
  {
   "cell_type": "code",
   "execution_count": null,
   "id": "124c4712",
   "metadata": {},
   "outputs": [],
   "source": []
  },
  {
   "cell_type": "code",
   "execution_count": null,
   "id": "2e990631",
   "metadata": {},
   "outputs": [],
   "source": []
  },
  {
   "cell_type": "code",
   "execution_count": null,
   "id": "837aa96c",
   "metadata": {},
   "outputs": [],
   "source": []
  },
  {
   "cell_type": "code",
   "execution_count": null,
   "id": "d51f5e56",
   "metadata": {},
   "outputs": [],
   "source": []
  },
  {
   "cell_type": "code",
   "execution_count": null,
   "id": "bc54481f",
   "metadata": {},
   "outputs": [],
   "source": []
  },
  {
   "cell_type": "code",
   "execution_count": null,
   "id": "1de99093",
   "metadata": {},
   "outputs": [],
   "source": []
  },
  {
   "cell_type": "code",
   "execution_count": null,
   "id": "a3d777c6",
   "metadata": {},
   "outputs": [],
   "source": []
  },
  {
   "cell_type": "code",
   "execution_count": null,
   "id": "e7afb26a",
   "metadata": {},
   "outputs": [],
   "source": []
  },
  {
   "cell_type": "code",
   "execution_count": 40,
   "id": "5b9ff013",
   "metadata": {
    "collapsed": true
   },
   "outputs": [
    {
     "ename": "KeyboardInterrupt",
     "evalue": "",
     "output_type": "error",
     "traceback": [
      "\u001b[1;31m---------------------------------------------------------------------------\u001b[0m",
      "\u001b[1;31mKeyboardInterrupt\u001b[0m                         Traceback (most recent call last)",
      "\u001b[1;32m<ipython-input-40-bfa5d4882ed2>\u001b[0m in \u001b[0;36m<module>\u001b[1;34m\u001b[0m\n\u001b[0;32m     41\u001b[0m             \u001b[1;32mwhile\u001b[0m \u001b[0mlen\u001b[0m\u001b[1;33m(\u001b[0m\u001b[0mdf11\u001b[0m\u001b[1;33m)\u001b[0m\u001b[1;33m>\u001b[0m\u001b[1;36m2\u001b[0m\u001b[1;33m:\u001b[0m\u001b[1;33m\u001b[0m\u001b[1;33m\u001b[0m\u001b[0m\n\u001b[0;32m     42\u001b[0m \u001b[1;33m\u001b[0m\u001b[0m\n\u001b[1;32m---> 43\u001b[1;33m                 \u001b[0mBx\u001b[0m \u001b[1;33m=\u001b[0m \u001b[0mdf11\u001b[0m\u001b[1;33m.\u001b[0m\u001b[0miloc\u001b[0m\u001b[1;33m[\u001b[0m\u001b[1;36m0\u001b[0m\u001b[1;33m]\u001b[0m\u001b[1;33m.\u001b[0m\u001b[0mname\u001b[0m\u001b[1;33m\u001b[0m\u001b[1;33m\u001b[0m\u001b[0m\n\u001b[0m\u001b[0;32m     44\u001b[0m                 \u001b[0mBy\u001b[0m \u001b[1;33m=\u001b[0m \u001b[0mdf11\u001b[0m\u001b[1;33m[\u001b[0m\u001b[1;34m'Low'\u001b[0m\u001b[1;33m]\u001b[0m\u001b[1;33m.\u001b[0m\u001b[0mloc\u001b[0m\u001b[1;33m[\u001b[0m\u001b[0mBx\u001b[0m\u001b[1;33m]\u001b[0m\u001b[1;33m\u001b[0m\u001b[1;33m\u001b[0m\u001b[0m\n\u001b[0;32m     45\u001b[0m                 \u001b[0mB\u001b[0m \u001b[1;33m=\u001b[0m \u001b[1;33m[\u001b[0m\u001b[0mBx\u001b[0m\u001b[1;33m,\u001b[0m \u001b[0mBy\u001b[0m\u001b[1;33m]\u001b[0m\u001b[1;33m\u001b[0m\u001b[1;33m\u001b[0m\u001b[0m\n",
      "\u001b[1;32mC:\\ProgramData\\Anaconda3\\lib\\site-packages\\pandas\\core\\indexing.py\u001b[0m in \u001b[0;36m__getitem__\u001b[1;34m(self, key)\u001b[0m\n\u001b[0;32m    893\u001b[0m \u001b[1;33m\u001b[0m\u001b[0m\n\u001b[0;32m    894\u001b[0m             \u001b[0mmaybe_callable\u001b[0m \u001b[1;33m=\u001b[0m \u001b[0mcom\u001b[0m\u001b[1;33m.\u001b[0m\u001b[0mapply_if_callable\u001b[0m\u001b[1;33m(\u001b[0m\u001b[0mkey\u001b[0m\u001b[1;33m,\u001b[0m \u001b[0mself\u001b[0m\u001b[1;33m.\u001b[0m\u001b[0mobj\u001b[0m\u001b[1;33m)\u001b[0m\u001b[1;33m\u001b[0m\u001b[1;33m\u001b[0m\u001b[0m\n\u001b[1;32m--> 895\u001b[1;33m             \u001b[1;32mreturn\u001b[0m \u001b[0mself\u001b[0m\u001b[1;33m.\u001b[0m\u001b[0m_getitem_axis\u001b[0m\u001b[1;33m(\u001b[0m\u001b[0mmaybe_callable\u001b[0m\u001b[1;33m,\u001b[0m \u001b[0maxis\u001b[0m\u001b[1;33m=\u001b[0m\u001b[0maxis\u001b[0m\u001b[1;33m)\u001b[0m\u001b[1;33m\u001b[0m\u001b[1;33m\u001b[0m\u001b[0m\n\u001b[0m\u001b[0;32m    896\u001b[0m \u001b[1;33m\u001b[0m\u001b[0m\n\u001b[0;32m    897\u001b[0m     \u001b[1;32mdef\u001b[0m \u001b[0m_is_scalar_access\u001b[0m\u001b[1;33m(\u001b[0m\u001b[0mself\u001b[0m\u001b[1;33m,\u001b[0m \u001b[0mkey\u001b[0m\u001b[1;33m:\u001b[0m \u001b[0mTuple\u001b[0m\u001b[1;33m)\u001b[0m\u001b[1;33m:\u001b[0m\u001b[1;33m\u001b[0m\u001b[1;33m\u001b[0m\u001b[0m\n",
      "\u001b[1;32mC:\\ProgramData\\Anaconda3\\lib\\site-packages\\pandas\\core\\indexing.py\u001b[0m in \u001b[0;36m_getitem_axis\u001b[1;34m(self, key, axis)\u001b[0m\n\u001b[0;32m   1501\u001b[0m             \u001b[0mself\u001b[0m\u001b[1;33m.\u001b[0m\u001b[0m_validate_integer\u001b[0m\u001b[1;33m(\u001b[0m\u001b[0mkey\u001b[0m\u001b[1;33m,\u001b[0m \u001b[0maxis\u001b[0m\u001b[1;33m)\u001b[0m\u001b[1;33m\u001b[0m\u001b[1;33m\u001b[0m\u001b[0m\n\u001b[0;32m   1502\u001b[0m \u001b[1;33m\u001b[0m\u001b[0m\n\u001b[1;32m-> 1503\u001b[1;33m             \u001b[1;32mreturn\u001b[0m \u001b[0mself\u001b[0m\u001b[1;33m.\u001b[0m\u001b[0mobj\u001b[0m\u001b[1;33m.\u001b[0m\u001b[0m_ixs\u001b[0m\u001b[1;33m(\u001b[0m\u001b[0mkey\u001b[0m\u001b[1;33m,\u001b[0m \u001b[0maxis\u001b[0m\u001b[1;33m=\u001b[0m\u001b[0maxis\u001b[0m\u001b[1;33m)\u001b[0m\u001b[1;33m\u001b[0m\u001b[1;33m\u001b[0m\u001b[0m\n\u001b[0m\u001b[0;32m   1504\u001b[0m \u001b[1;33m\u001b[0m\u001b[0m\n\u001b[0;32m   1505\u001b[0m     \u001b[1;32mdef\u001b[0m \u001b[0m_get_slice_axis\u001b[0m\u001b[1;33m(\u001b[0m\u001b[0mself\u001b[0m\u001b[1;33m,\u001b[0m \u001b[0mslice_obj\u001b[0m\u001b[1;33m:\u001b[0m \u001b[0mslice\u001b[0m\u001b[1;33m,\u001b[0m \u001b[0maxis\u001b[0m\u001b[1;33m:\u001b[0m \u001b[0mint\u001b[0m\u001b[1;33m)\u001b[0m\u001b[1;33m:\u001b[0m\u001b[1;33m\u001b[0m\u001b[1;33m\u001b[0m\u001b[0m\n",
      "\u001b[1;32mC:\\ProgramData\\Anaconda3\\lib\\site-packages\\pandas\\core\\frame.py\u001b[0m in \u001b[0;36m_ixs\u001b[1;34m(self, i, axis)\u001b[0m\n\u001b[0;32m   2945\u001b[0m         \u001b[1;31m# irow\u001b[0m\u001b[1;33m\u001b[0m\u001b[1;33m\u001b[0m\u001b[1;33m\u001b[0m\u001b[0m\n\u001b[0;32m   2946\u001b[0m         \u001b[1;32mif\u001b[0m \u001b[0maxis\u001b[0m \u001b[1;33m==\u001b[0m \u001b[1;36m0\u001b[0m\u001b[1;33m:\u001b[0m\u001b[1;33m\u001b[0m\u001b[1;33m\u001b[0m\u001b[0m\n\u001b[1;32m-> 2947\u001b[1;33m             \u001b[0mnew_values\u001b[0m \u001b[1;33m=\u001b[0m \u001b[0mself\u001b[0m\u001b[1;33m.\u001b[0m\u001b[0m_mgr\u001b[0m\u001b[1;33m.\u001b[0m\u001b[0mfast_xs\u001b[0m\u001b[1;33m(\u001b[0m\u001b[0mi\u001b[0m\u001b[1;33m)\u001b[0m\u001b[1;33m\u001b[0m\u001b[1;33m\u001b[0m\u001b[0m\n\u001b[0m\u001b[0;32m   2948\u001b[0m \u001b[1;33m\u001b[0m\u001b[0m\n\u001b[0;32m   2949\u001b[0m             \u001b[1;31m# if we are a copy, mark as such\u001b[0m\u001b[1;33m\u001b[0m\u001b[1;33m\u001b[0m\u001b[1;33m\u001b[0m\u001b[0m\n",
      "\u001b[1;32mC:\\ProgramData\\Anaconda3\\lib\\site-packages\\pandas\\core\\internals\\managers.py\u001b[0m in \u001b[0;36mfast_xs\u001b[1;34m(self, loc)\u001b[0m\n\u001b[0;32m    968\u001b[0m                 \u001b[0mresult\u001b[0m\u001b[1;33m[\u001b[0m\u001b[0mrl\u001b[0m\u001b[1;33m]\u001b[0m \u001b[1;33m=\u001b[0m \u001b[0mblk\u001b[0m\u001b[1;33m.\u001b[0m\u001b[0miget\u001b[0m\u001b[1;33m(\u001b[0m\u001b[1;33m(\u001b[0m\u001b[0mi\u001b[0m\u001b[1;33m,\u001b[0m \u001b[0mloc\u001b[0m\u001b[1;33m)\u001b[0m\u001b[1;33m)\u001b[0m\u001b[1;33m\u001b[0m\u001b[1;33m\u001b[0m\u001b[0m\n\u001b[0;32m    969\u001b[0m \u001b[1;33m\u001b[0m\u001b[0m\n\u001b[1;32m--> 970\u001b[1;33m         \u001b[1;32mif\u001b[0m \u001b[0misinstance\u001b[0m\u001b[1;33m(\u001b[0m\u001b[0mdtype\u001b[0m\u001b[1;33m,\u001b[0m \u001b[0mExtensionDtype\u001b[0m\u001b[1;33m)\u001b[0m\u001b[1;33m:\u001b[0m\u001b[1;33m\u001b[0m\u001b[1;33m\u001b[0m\u001b[0m\n\u001b[0m\u001b[0;32m    971\u001b[0m             \u001b[0mresult\u001b[0m \u001b[1;33m=\u001b[0m \u001b[0mdtype\u001b[0m\u001b[1;33m.\u001b[0m\u001b[0mconstruct_array_type\u001b[0m\u001b[1;33m(\u001b[0m\u001b[1;33m)\u001b[0m\u001b[1;33m.\u001b[0m\u001b[0m_from_sequence\u001b[0m\u001b[1;33m(\u001b[0m\u001b[0mresult\u001b[0m\u001b[1;33m,\u001b[0m \u001b[0mdtype\u001b[0m\u001b[1;33m=\u001b[0m\u001b[0mdtype\u001b[0m\u001b[1;33m)\u001b[0m\u001b[1;33m\u001b[0m\u001b[1;33m\u001b[0m\u001b[0m\n\u001b[0;32m    972\u001b[0m \u001b[1;33m\u001b[0m\u001b[0m\n",
      "\u001b[1;31mKeyboardInterrupt\u001b[0m: "
     ]
    }
   ],
   "source": [
    "Min_pozycja = df1['Low'].argmin()\n",
    "Max_pozycja = df1['High'].argmax()\n",
    "\n",
    "if Min_pozycja > Max_pozycja:\n",
    "    \n",
    "    print('ok')\n",
    "    \n",
    "else:\n",
    "    \n",
    "    Max_idx = df1.iloc[Max_pozycja].name\n",
    "    Ax = df1.iloc[Min_pozycja].name\n",
    "    Ay = df1['Low'].loc[Ax]\n",
    "    A = [Ax, Ay]\n",
    "\n",
    "    \n",
    "    Bx = df1.iloc[Min_pozycja+1].name\n",
    "    By = df1['Low'].loc[Bx]\n",
    "    B = [Bx, By]\n",
    "    \n",
    "    a = (Ay-By)/(Ax-Bx)\n",
    "    b = By - a*Bx\n",
    "    \n",
    "    for i in range((Bx).astype(int),Max_idx.astype(int)):\n",
    "        \n",
    "        df11 = df1[B[0]:Max_idx]\n",
    "        df11['Pozycja na LT'] = df11.index * a + b\n",
    "        df11['check']= round(df11['Low'] - df11['Pozycja na LT'],0)\n",
    "        good = df11['check'][df11['check']>=0].count()\n",
    "        sum = len(df11['check'])\n",
    "\n",
    "        if good ==sum:\n",
    "            print(f'Najwyższy punkt został osiągnięty jako pierwszy i nie przecina ceny. Jego pozycja to: {Max_pozycja}')\n",
    "            print(f'Trend spadkowy. Punkt A : {A}, punkt C: {B}')\n",
    "            break\n",
    "            \n",
    "        else:\n",
    "            \n",
    "            df11 = df11[A[0]+1:Max_idx]\n",
    "            \n",
    "            \n",
    "            while len(df11)>2:\n",
    "                \n",
    "                Bx = df11.iloc[0].name\n",
    "                By = df11['Low'].loc[Bx]\n",
    "                B = [Bx, By]\n",
    "\n",
    "                a = (Ay-By)/(Ax-Bx)\n",
    "                b = By - a*Bx\n",
    "                \n",
    "                \n"
   ]
  },
  {
   "cell_type": "code",
   "execution_count": null,
   "id": "9c92f864",
   "metadata": {},
   "outputs": [],
   "source": []
  },
  {
   "cell_type": "code",
   "execution_count": null,
   "id": "df48124c",
   "metadata": {},
   "outputs": [],
   "source": []
  },
  {
   "cell_type": "code",
   "execution_count": null,
   "id": "53653c7a",
   "metadata": {},
   "outputs": [],
   "source": []
  },
  {
   "cell_type": "code",
   "execution_count": null,
   "id": "81b1f1e3",
   "metadata": {},
   "outputs": [],
   "source": []
  },
  {
   "cell_type": "code",
   "execution_count": null,
   "id": "ce66fb75",
   "metadata": {},
   "outputs": [],
   "source": []
  },
  {
   "cell_type": "code",
   "execution_count": null,
   "id": "22eaadcb",
   "metadata": {},
   "outputs": [],
   "source": []
  },
  {
   "cell_type": "code",
   "execution_count": null,
   "id": "da9dbb7b",
   "metadata": {},
   "outputs": [],
   "source": []
  },
  {
   "cell_type": "code",
   "execution_count": 8,
   "id": "ae0df39a",
   "metadata": {},
   "outputs": [],
   "source": [
    "Max_idx = df1.iloc[Max_pozycja].name\n",
    "Ax = df1.iloc[Min_pozycja].name\n",
    "Ay = df1['Low'].loc[Ax]\n",
    "A = [Ax, Ay]\n",
    "\n",
    "Bx = df1.iloc[Min_pozycja+1].name\n",
    "By = df1['Low'].loc[Bx]\n",
    "B = [Bx, By]\n",
    "    \n",
    "a = (Ay-By)/(Ax-Bx)\n",
    "b = By - a*Bx\n",
    "    \n",
    "df11 = df1[A[0]:Max_idx]\n",
    "df11['Pozycja na LT'] = df11.index * a + b\n",
    "df11['check']= round(df11['Low'] - df11['Pozycja na LT'],0)\n",
    "good = df11['check'][df11['check']>=0].count()\n",
    "sum = len(df11['check'])\n",
    "\n",
    "if good == sum:\n",
    "    print('ok')\n",
    "else:\n",
    "    Bx = df1.iloc[Min_pozycja+2].name\n",
    "    By = df1['Low'].loc[Bx]\n",
    "    B = [Bx, By]\n",
    "\n",
    "    a = (Ay-By)/(Ax-Bx)\n",
    "    b = By - a*Bx\n",
    "    \n",
    "    df11 = df1[A[0]:Max_idx]\n",
    "    df11['Pozycja na LT'] = df11.index * a + b\n",
    "    df11['check']= round(df11['Low'] - df11['Pozycja na LT'],0)\n",
    "    good = df11['check'][df11['check']>=0].count()\n",
    "    sum = len(df11['check'])\n",
    "    \n",
    "    if good ==sum:\n",
    "    "
   ]
  },
  {
   "cell_type": "code",
   "execution_count": null,
   "id": "76b47b3f",
   "metadata": {},
   "outputs": [],
   "source": []
  },
  {
   "cell_type": "code",
   "execution_count": null,
   "id": "ad817cfb",
   "metadata": {},
   "outputs": [],
   "source": []
  },
  {
   "cell_type": "code",
   "execution_count": null,
   "id": "1d51dbb4",
   "metadata": {},
   "outputs": [],
   "source": []
  },
  {
   "cell_type": "code",
   "execution_count": null,
   "id": "75912670",
   "metadata": {},
   "outputs": [],
   "source": []
  },
  {
   "cell_type": "code",
   "execution_count": null,
   "id": "f2029a69",
   "metadata": {},
   "outputs": [],
   "source": []
  },
  {
   "cell_type": "code",
   "execution_count": null,
   "id": "f3439702",
   "metadata": {},
   "outputs": [],
   "source": []
  },
  {
   "cell_type": "code",
   "execution_count": null,
   "id": "f682dfd8",
   "metadata": {},
   "outputs": [],
   "source": []
  },
  {
   "cell_type": "code",
   "execution_count": null,
   "id": "075bfc04",
   "metadata": {},
   "outputs": [],
   "source": []
  },
  {
   "cell_type": "code",
   "execution_count": null,
   "id": "9279f169",
   "metadata": {},
   "outputs": [],
   "source": []
  },
  {
   "cell_type": "code",
   "execution_count": null,
   "id": "2b5e546b",
   "metadata": {},
   "outputs": [],
   "source": []
  },
  {
   "cell_type": "code",
   "execution_count": null,
   "id": "0f05ca5a",
   "metadata": {},
   "outputs": [],
   "source": []
  },
  {
   "cell_type": "code",
   "execution_count": null,
   "id": "bf3e985d",
   "metadata": {},
   "outputs": [],
   "source": []
  },
  {
   "cell_type": "code",
   "execution_count": null,
   "id": "298bc440",
   "metadata": {},
   "outputs": [],
   "source": []
  },
  {
   "cell_type": "code",
   "execution_count": null,
   "id": "59758680",
   "metadata": {},
   "outputs": [],
   "source": []
  },
  {
   "cell_type": "code",
   "execution_count": null,
   "id": "7759e4bf",
   "metadata": {},
   "outputs": [],
   "source": []
  },
  {
   "cell_type": "code",
   "execution_count": null,
   "id": "068ee9f4",
   "metadata": {},
   "outputs": [],
   "source": []
  },
  {
   "cell_type": "code",
   "execution_count": null,
   "id": "56eaba01",
   "metadata": {},
   "outputs": [],
   "source": []
  },
  {
   "cell_type": "code",
   "execution_count": null,
   "id": "845f5e1c",
   "metadata": {},
   "outputs": [],
   "source": []
  },
  {
   "cell_type": "code",
   "execution_count": null,
   "id": "bc2421d0",
   "metadata": {},
   "outputs": [],
   "source": []
  },
  {
   "cell_type": "code",
   "execution_count": null,
   "id": "c7491fa5",
   "metadata": {},
   "outputs": [],
   "source": []
  },
  {
   "cell_type": "code",
   "execution_count": null,
   "id": "1eff22d3",
   "metadata": {},
   "outputs": [],
   "source": []
  },
  {
   "cell_type": "code",
   "execution_count": null,
   "id": "5436c719",
   "metadata": {},
   "outputs": [],
   "source": []
  },
  {
   "cell_type": "code",
   "execution_count": null,
   "id": "9b791e27",
   "metadata": {},
   "outputs": [],
   "source": []
  },
  {
   "cell_type": "code",
   "execution_count": null,
   "id": "d9111afd",
   "metadata": {},
   "outputs": [],
   "source": []
  },
  {
   "cell_type": "code",
   "execution_count": null,
   "id": "aa7024a0",
   "metadata": {},
   "outputs": [],
   "source": []
  },
  {
   "cell_type": "code",
   "execution_count": 6,
   "id": "26abe871",
   "metadata": {},
   "outputs": [
    {
     "data": {
      "text/plain": [
       "0"
      ]
     },
     "execution_count": 6,
     "metadata": {},
     "output_type": "execute_result"
    }
   ],
   "source": [
    "Min_pozycja"
   ]
  },
  {
   "cell_type": "code",
   "execution_count": 7,
   "id": "eb303cbc",
   "metadata": {},
   "outputs": [
    {
     "data": {
      "text/plain": [
       "73"
      ]
     },
     "execution_count": 7,
     "metadata": {},
     "output_type": "execute_result"
    }
   ],
   "source": [
    "Max_pozycja"
   ]
  },
  {
   "cell_type": "code",
   "execution_count": 8,
   "id": "5f364b59",
   "metadata": {},
   "outputs": [
    {
     "data": {
      "text/plain": [
       "346"
      ]
     },
     "execution_count": 8,
     "metadata": {},
     "output_type": "execute_result"
    }
   ],
   "source": [
    "len(df1)-20"
   ]
  },
  {
   "cell_type": "code",
   "execution_count": null,
   "id": "cae92431",
   "metadata": {},
   "outputs": [],
   "source": []
  },
  {
   "cell_type": "code",
   "execution_count": null,
   "id": "a07930c2",
   "metadata": {},
   "outputs": [],
   "source": []
  },
  {
   "cell_type": "code",
   "execution_count": null,
   "id": "2d3b2979",
   "metadata": {},
   "outputs": [],
   "source": []
  },
  {
   "cell_type": "code",
   "execution_count": null,
   "id": "c8cd7231",
   "metadata": {},
   "outputs": [],
   "source": []
  },
  {
   "cell_type": "code",
   "execution_count": null,
   "id": "98d50530",
   "metadata": {},
   "outputs": [],
   "source": []
  },
  {
   "cell_type": "code",
   "execution_count": null,
   "id": "9420ab04",
   "metadata": {},
   "outputs": [],
   "source": []
  },
  {
   "cell_type": "code",
   "execution_count": null,
   "id": "391f4a47",
   "metadata": {},
   "outputs": [],
   "source": []
  },
  {
   "cell_type": "code",
   "execution_count": null,
   "id": "92735eef",
   "metadata": {},
   "outputs": [],
   "source": []
  },
  {
   "cell_type": "code",
   "execution_count": null,
   "id": "eb9737a1",
   "metadata": {},
   "outputs": [],
   "source": []
  },
  {
   "cell_type": "code",
   "execution_count": null,
   "id": "9f5a07bf",
   "metadata": {},
   "outputs": [],
   "source": []
  },
  {
   "cell_type": "code",
   "execution_count": null,
   "id": "17cdbe96",
   "metadata": {},
   "outputs": [],
   "source": []
  },
  {
   "cell_type": "code",
   "execution_count": null,
   "id": "7a7e6c58",
   "metadata": {},
   "outputs": [],
   "source": []
  },
  {
   "cell_type": "code",
   "execution_count": null,
   "id": "a953d897",
   "metadata": {},
   "outputs": [],
   "source": []
  },
  {
   "cell_type": "code",
   "execution_count": null,
   "id": "28a7df10",
   "metadata": {},
   "outputs": [],
   "source": []
  },
  {
   "cell_type": "code",
   "execution_count": null,
   "id": "d015eecc",
   "metadata": {},
   "outputs": [],
   "source": []
  },
  {
   "cell_type": "code",
   "execution_count": null,
   "id": "59b0e568",
   "metadata": {},
   "outputs": [],
   "source": []
  },
  {
   "cell_type": "code",
   "execution_count": null,
   "id": "4f3adda1",
   "metadata": {},
   "outputs": [],
   "source": []
  },
  {
   "cell_type": "code",
   "execution_count": null,
   "id": "92b5aea5",
   "metadata": {},
   "outputs": [],
   "source": []
  },
  {
   "cell_type": "code",
   "execution_count": null,
   "id": "d83edf5b",
   "metadata": {},
   "outputs": [],
   "source": []
  },
  {
   "cell_type": "code",
   "execution_count": null,
   "id": "8fb8eb16",
   "metadata": {},
   "outputs": [],
   "source": []
  },
  {
   "cell_type": "code",
   "execution_count": null,
   "id": "afa0b1dc",
   "metadata": {},
   "outputs": [],
   "source": []
  },
  {
   "cell_type": "code",
   "execution_count": null,
   "id": "f0d03975",
   "metadata": {},
   "outputs": [],
   "source": []
  },
  {
   "cell_type": "code",
   "execution_count": null,
   "id": "409499d4",
   "metadata": {},
   "outputs": [],
   "source": []
  },
  {
   "cell_type": "code",
   "execution_count": null,
   "id": "322f8e7a",
   "metadata": {},
   "outputs": [],
   "source": []
  },
  {
   "cell_type": "code",
   "execution_count": 34,
   "id": "91236292",
   "metadata": {},
   "outputs": [],
   "source": [
    "for i in range((A[0]-1).astype(int),Max_idx.astype(int)):\n",
    "       \n",
    "        df1['Pozycja na LT'] = df1.index * a + b\n",
    "        df1['check']= round(df1['Low'] - df1['Pozycja na LT'],0)\n",
    "        good = df1['check'][df1['check']>=0].count()\n",
    "        sum = len(df1['check'])\n",
    "\n",
    "        if good == sum:\n",
    "            print(f'Najniższy punkt został osiągnięty jako pierwszy i nie przecina ceny. Jego pozycja to: {Min_pozycja}')\n",
    "            print(f'Trend Wzrostowy. Punkt A : {A}, punkt C: {C}')\n",
    "            break\n",
    "\n",
    "        else:\n",
    "\n",
    "            Max_idx = df1.iloc[Max_pozycja].name\n",
    "            Ax = df1.iloc[Min_pozycja].name\n",
    "            Ay = df1['Low'].loc[Ax]\n",
    "            A = [Ax, Ay]\n",
    "\n",
    "            Bx = df1.iloc[Min_pozycja].name + 2\n",
    "            By = df1['Low'].loc[Bx]\n",
    "            B = [Bx, By]\n",
    "\n",
    "            a = (Ay-By)/(Ax-Bx)\n",
    "            b = By - a*Bx\n",
    "\n",
    "            Cx = df1.index.max() +90\n",
    "            Cy = a*Cx +b\n",
    "            C = [Cx, Cy]\n",
    "\n",
    "            X_long = [Ax, Cx]\n",
    "            Y_long = [Ay, Cy]"
   ]
  },
  {
   "cell_type": "code",
   "execution_count": 28,
   "id": "160de931",
   "metadata": {},
   "outputs": [
    {
     "data": {
      "text/plain": [
       "[17899.0, 75362.44070499949]"
      ]
     },
     "execution_count": 28,
     "metadata": {},
     "output_type": "execute_result"
    }
   ],
   "source": [
    "C"
   ]
  },
  {
   "cell_type": "code",
   "execution_count": 29,
   "id": "4b3d063a",
   "metadata": {},
   "outputs": [
    {
     "data": {
      "text/plain": [
       "[17444.0, 4164.049805]"
      ]
     },
     "execution_count": 29,
     "metadata": {},
     "output_type": "execute_result"
    }
   ],
   "source": [
    "A"
   ]
  },
  {
   "cell_type": "code",
   "execution_count": 30,
   "id": "52a13eda",
   "metadata": {},
   "outputs": [
    {
     "data": {
      "text/html": [
       "<div>\n",
       "<style scoped>\n",
       "    .dataframe tbody tr th:only-of-type {\n",
       "        vertical-align: middle;\n",
       "    }\n",
       "\n",
       "    .dataframe tbody tr th {\n",
       "        vertical-align: top;\n",
       "    }\n",
       "\n",
       "    .dataframe thead th {\n",
       "        text-align: right;\n",
       "    }\n",
       "</style>\n",
       "<table border=\"1\" class=\"dataframe\">\n",
       "  <thead>\n",
       "    <tr style=\"text-align: right;\">\n",
       "      <th></th>\n",
       "      <th>Open</th>\n",
       "      <th>High</th>\n",
       "      <th>Low</th>\n",
       "      <th>Close</th>\n",
       "      <th>Volume</th>\n",
       "      <th>Pozycja na LT</th>\n",
       "      <th>check</th>\n",
       "    </tr>\n",
       "  </thead>\n",
       "  <tbody>\n",
       "    <tr>\n",
       "      <th>17444.0</th>\n",
       "      <td>4229.879883</td>\n",
       "      <td>4362.640137</td>\n",
       "      <td>4164.049805</td>\n",
       "      <td>4328.410156</td>\n",
       "      <td>1.161770e+09</td>\n",
       "      <td>4164.049805</td>\n",
       "      <td>0.0</td>\n",
       "    </tr>\n",
       "    <tr>\n",
       "      <th>17445.0</th>\n",
       "      <td>4324.459961</td>\n",
       "      <td>4413.270020</td>\n",
       "      <td>4320.529785</td>\n",
       "      <td>4370.810059</td>\n",
       "      <td>1.069940e+09</td>\n",
       "      <td>4320.529785</td>\n",
       "      <td>0.0</td>\n",
       "    </tr>\n",
       "    <tr>\n",
       "      <th>17446.0</th>\n",
       "      <td>4369.350098</td>\n",
       "      <td>4443.879883</td>\n",
       "      <td>4321.049805</td>\n",
       "      <td>4426.890137</td>\n",
       "      <td>9.069280e+08</td>\n",
       "      <td>4477.009765</td>\n",
       "      <td>-156.0</td>\n",
       "    </tr>\n",
       "    <tr>\n",
       "      <th>17447.0</th>\n",
       "      <td>4429.669922</td>\n",
       "      <td>4624.140137</td>\n",
       "      <td>4405.640137</td>\n",
       "      <td>4610.479980</td>\n",
       "      <td>1.313870e+09</td>\n",
       "      <td>4633.489745</td>\n",
       "      <td>-228.0</td>\n",
       "    </tr>\n",
       "    <tr>\n",
       "      <th>17448.0</th>\n",
       "      <td>4614.520020</td>\n",
       "      <td>4878.709961</td>\n",
       "      <td>4564.250000</td>\n",
       "      <td>4772.020020</td>\n",
       "      <td>1.968740e+09</td>\n",
       "      <td>4789.969725</td>\n",
       "      <td>-226.0</td>\n",
       "    </tr>\n",
       "    <tr>\n",
       "      <th>...</th>\n",
       "      <td>...</td>\n",
       "      <td>...</td>\n",
       "      <td>...</td>\n",
       "      <td>...</td>\n",
       "      <td>...</td>\n",
       "      <td>...</td>\n",
       "      <td>...</td>\n",
       "    </tr>\n",
       "    <tr>\n",
       "      <th>17805.0</th>\n",
       "      <td>6619.850098</td>\n",
       "      <td>6653.299805</td>\n",
       "      <td>6549.080078</td>\n",
       "      <td>6589.620117</td>\n",
       "      <td>4.000970e+09</td>\n",
       "      <td>60653.322585</td>\n",
       "      <td>-54104.0</td>\n",
       "    </tr>\n",
       "    <tr>\n",
       "      <th>17806.0</th>\n",
       "      <td>6593.240234</td>\n",
       "      <td>6611.839844</td>\n",
       "      <td>6537.899902</td>\n",
       "      <td>6556.100098</td>\n",
       "      <td>3.979260e+09</td>\n",
       "      <td>60809.802565</td>\n",
       "      <td>-54272.0</td>\n",
       "    </tr>\n",
       "    <tr>\n",
       "      <th>17807.0</th>\n",
       "      <td>6553.859863</td>\n",
       "      <td>6571.459961</td>\n",
       "      <td>6454.029785</td>\n",
       "      <td>6502.589844</td>\n",
       "      <td>3.887310e+09</td>\n",
       "      <td>60966.282545</td>\n",
       "      <td>-54512.0</td>\n",
       "    </tr>\n",
       "    <tr>\n",
       "      <th>17808.0</th>\n",
       "      <td>6497.910156</td>\n",
       "      <td>6603.310059</td>\n",
       "      <td>6497.910156</td>\n",
       "      <td>6576.689941</td>\n",
       "      <td>3.838410e+09</td>\n",
       "      <td>61122.762525</td>\n",
       "      <td>-54625.0</td>\n",
       "    </tr>\n",
       "    <tr>\n",
       "      <th>17809.0</th>\n",
       "      <td>6574.149902</td>\n",
       "      <td>6623.620117</td>\n",
       "      <td>6557.410156</td>\n",
       "      <td>6622.479980</td>\n",
       "      <td>3.671500e+09</td>\n",
       "      <td>61279.242505</td>\n",
       "      <td>-54722.0</td>\n",
       "    </tr>\n",
       "  </tbody>\n",
       "</table>\n",
       "<p>366 rows × 7 columns</p>\n",
       "</div>"
      ],
      "text/plain": [
       "                Open         High          Low        Close        Volume  \\\n",
       "17444.0  4229.879883  4362.640137  4164.049805  4328.410156  1.161770e+09   \n",
       "17445.0  4324.459961  4413.270020  4320.529785  4370.810059  1.069940e+09   \n",
       "17446.0  4369.350098  4443.879883  4321.049805  4426.890137  9.069280e+08   \n",
       "17447.0  4429.669922  4624.140137  4405.640137  4610.479980  1.313870e+09   \n",
       "17448.0  4614.520020  4878.709961  4564.250000  4772.020020  1.968740e+09   \n",
       "...              ...          ...          ...          ...           ...   \n",
       "17805.0  6619.850098  6653.299805  6549.080078  6589.620117  4.000970e+09   \n",
       "17806.0  6593.240234  6611.839844  6537.899902  6556.100098  3.979260e+09   \n",
       "17807.0  6553.859863  6571.459961  6454.029785  6502.589844  3.887310e+09   \n",
       "17808.0  6497.910156  6603.310059  6497.910156  6576.689941  3.838410e+09   \n",
       "17809.0  6574.149902  6623.620117  6557.410156  6622.479980  3.671500e+09   \n",
       "\n",
       "         Pozycja na LT    check  \n",
       "17444.0    4164.049805      0.0  \n",
       "17445.0    4320.529785      0.0  \n",
       "17446.0    4477.009765   -156.0  \n",
       "17447.0    4633.489745   -228.0  \n",
       "17448.0    4789.969725   -226.0  \n",
       "...                ...      ...  \n",
       "17805.0   60653.322585 -54104.0  \n",
       "17806.0   60809.802565 -54272.0  \n",
       "17807.0   60966.282545 -54512.0  \n",
       "17808.0   61122.762525 -54625.0  \n",
       "17809.0   61279.242505 -54722.0  \n",
       "\n",
       "[366 rows x 7 columns]"
      ]
     },
     "execution_count": 30,
     "metadata": {},
     "output_type": "execute_result"
    }
   ],
   "source": [
    "df1"
   ]
  },
  {
   "cell_type": "code",
   "execution_count": null,
   "id": "2f98f6c1",
   "metadata": {},
   "outputs": [],
   "source": []
  },
  {
   "cell_type": "code",
   "execution_count": null,
   "id": "b2f94e91",
   "metadata": {},
   "outputs": [],
   "source": []
  }
 ],
 "metadata": {
  "kernelspec": {
   "display_name": "Python 3",
   "language": "python",
   "name": "python3"
  },
  "language_info": {
   "codemirror_mode": {
    "name": "ipython",
    "version": 3
   },
   "file_extension": ".py",
   "mimetype": "text/x-python",
   "name": "python",
   "nbconvert_exporter": "python",
   "pygments_lexer": "ipython3",
   "version": "3.8.8"
  }
 },
 "nbformat": 4,
 "nbformat_minor": 5
}
